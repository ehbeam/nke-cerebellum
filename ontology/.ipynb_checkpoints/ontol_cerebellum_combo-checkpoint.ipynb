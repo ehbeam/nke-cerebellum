{
 "cells": [
  {
   "cell_type": "markdown",
   "metadata": {},
   "source": [
    "# Introduction\n",
    "\n",
    "This notebook will take a data-driven approach to generating word lists for mental functions that are related to brain circuitry. The overall process is as follows:\n",
    "\n",
    "1. Cluster brain structures into circuits by PMI-weighted co-occurrences with mental function terms.\n",
    "2. Identify the mental function terms most highly associated to each circuit over a range of list lengths.\n",
    "3. Select the list length for each circuit that maximizes word-structure classification performance. \n",
    "4. Select the number of circuits that maximizes circuit-function classification performance."
   ]
  },
  {
   "cell_type": "markdown",
   "metadata": {},
   "source": [
    "# Load the data"
   ]
  },
  {
   "cell_type": "code",
   "execution_count": 1,
   "metadata": {},
   "outputs": [],
   "source": [
    "import numpy as np\n",
    "import pandas as pd\n",
    "import sys\n",
    "sys.path.append(\"..\")\n",
    "import utilities, ontology"
   ]
  },
  {
   "cell_type": "markdown",
   "metadata": {},
   "source": [
    "## Brain activation coordinates"
   ]
  },
  {
   "cell_type": "code",
   "execution_count": 2,
   "metadata": {},
   "outputs": [
    {
     "name": "stdout",
     "output_type": "stream",
     "text": [
      "Document N=18155, Structure N=118\n"
     ]
    }
   ],
   "source": [
    "act_bin = pd.read_csv(\"../data/brain/coordinates_combo.csv\", index_col=0)\n",
    "print(\"Document N={}, Structure N={}\".format(\n",
    "      act_bin.shape[0], act_bin.shape[1]))"
   ]
  },
  {
   "cell_type": "code",
   "execution_count": 3,
   "metadata": {},
   "outputs": [
    {
     "data": {
      "text/html": [
       "<div>\n",
       "<style scoped>\n",
       "    .dataframe tbody tr th:only-of-type {\n",
       "        vertical-align: middle;\n",
       "    }\n",
       "\n",
       "    .dataframe tbody tr th {\n",
       "        vertical-align: top;\n",
       "    }\n",
       "\n",
       "    .dataframe thead th {\n",
       "        text-align: right;\n",
       "    }\n",
       "</style>\n",
       "<table border=\"1\" class=\"dataframe\">\n",
       "  <thead>\n",
       "    <tr style=\"text-align: right;\">\n",
       "      <th></th>\n",
       "      <th>left_frontal_pole</th>\n",
       "      <th>left_insular_cortex</th>\n",
       "      <th>left_superior_frontal_gyrus</th>\n",
       "      <th>left_middle_frontal_gyrus</th>\n",
       "      <th>left_inferior_frontal_gyrus_pars_triangularis</th>\n",
       "      <th>left_inferior_frontal_gyrus_pars_opercularis</th>\n",
       "      <th>left_precentral_gyrus</th>\n",
       "      <th>left_temporal_pole</th>\n",
       "      <th>left_superior_temporal_gyrus_anterior_division</th>\n",
       "      <th>left_superior_temporal_gyrus_posterior_division</th>\n",
       "      <th>...</th>\n",
       "      <th>right_caudate</th>\n",
       "      <th>right_putamen</th>\n",
       "      <th>right_pallidum</th>\n",
       "      <th>right_hippocampus</th>\n",
       "      <th>right_amygdala</th>\n",
       "      <th>right_accumbens</th>\n",
       "      <th>right_brainstem</th>\n",
       "      <th>right_cerebellar_lobules</th>\n",
       "      <th>right_cerebellar_crus</th>\n",
       "      <th>right_cerebellar_vermis</th>\n",
       "    </tr>\n",
       "    <tr>\n",
       "      <th>PMID</th>\n",
       "      <th></th>\n",
       "      <th></th>\n",
       "      <th></th>\n",
       "      <th></th>\n",
       "      <th></th>\n",
       "      <th></th>\n",
       "      <th></th>\n",
       "      <th></th>\n",
       "      <th></th>\n",
       "      <th></th>\n",
       "      <th></th>\n",
       "      <th></th>\n",
       "      <th></th>\n",
       "      <th></th>\n",
       "      <th></th>\n",
       "      <th></th>\n",
       "      <th></th>\n",
       "      <th></th>\n",
       "      <th></th>\n",
       "      <th></th>\n",
       "      <th></th>\n",
       "    </tr>\n",
       "  </thead>\n",
       "  <tbody>\n",
       "    <tr>\n",
       "      <th>1402966</th>\n",
       "      <td>1</td>\n",
       "      <td>0</td>\n",
       "      <td>0</td>\n",
       "      <td>0</td>\n",
       "      <td>0</td>\n",
       "      <td>0</td>\n",
       "      <td>0</td>\n",
       "      <td>0</td>\n",
       "      <td>0</td>\n",
       "      <td>0</td>\n",
       "      <td>...</td>\n",
       "      <td>0</td>\n",
       "      <td>0</td>\n",
       "      <td>0</td>\n",
       "      <td>0</td>\n",
       "      <td>0</td>\n",
       "      <td>0</td>\n",
       "      <td>0</td>\n",
       "      <td>1</td>\n",
       "      <td>0</td>\n",
       "      <td>0</td>\n",
       "    </tr>\n",
       "    <tr>\n",
       "      <th>1410086</th>\n",
       "      <td>1</td>\n",
       "      <td>0</td>\n",
       "      <td>0</td>\n",
       "      <td>1</td>\n",
       "      <td>1</td>\n",
       "      <td>0</td>\n",
       "      <td>0</td>\n",
       "      <td>0</td>\n",
       "      <td>0</td>\n",
       "      <td>0</td>\n",
       "      <td>...</td>\n",
       "      <td>0</td>\n",
       "      <td>0</td>\n",
       "      <td>0</td>\n",
       "      <td>0</td>\n",
       "      <td>0</td>\n",
       "      <td>0</td>\n",
       "      <td>0</td>\n",
       "      <td>1</td>\n",
       "      <td>0</td>\n",
       "      <td>0</td>\n",
       "    </tr>\n",
       "    <tr>\n",
       "      <th>1448149</th>\n",
       "      <td>0</td>\n",
       "      <td>1</td>\n",
       "      <td>0</td>\n",
       "      <td>0</td>\n",
       "      <td>0</td>\n",
       "      <td>0</td>\n",
       "      <td>0</td>\n",
       "      <td>1</td>\n",
       "      <td>0</td>\n",
       "      <td>0</td>\n",
       "      <td>...</td>\n",
       "      <td>0</td>\n",
       "      <td>1</td>\n",
       "      <td>0</td>\n",
       "      <td>0</td>\n",
       "      <td>1</td>\n",
       "      <td>0</td>\n",
       "      <td>0</td>\n",
       "      <td>0</td>\n",
       "      <td>0</td>\n",
       "      <td>0</td>\n",
       "    </tr>\n",
       "    <tr>\n",
       "      <th>1486459</th>\n",
       "      <td>1</td>\n",
       "      <td>0</td>\n",
       "      <td>1</td>\n",
       "      <td>1</td>\n",
       "      <td>1</td>\n",
       "      <td>1</td>\n",
       "      <td>1</td>\n",
       "      <td>1</td>\n",
       "      <td>1</td>\n",
       "      <td>1</td>\n",
       "      <td>...</td>\n",
       "      <td>0</td>\n",
       "      <td>0</td>\n",
       "      <td>0</td>\n",
       "      <td>0</td>\n",
       "      <td>0</td>\n",
       "      <td>0</td>\n",
       "      <td>0</td>\n",
       "      <td>0</td>\n",
       "      <td>0</td>\n",
       "      <td>0</td>\n",
       "    </tr>\n",
       "    <tr>\n",
       "      <th>1486460</th>\n",
       "      <td>0</td>\n",
       "      <td>0</td>\n",
       "      <td>0</td>\n",
       "      <td>0</td>\n",
       "      <td>0</td>\n",
       "      <td>0</td>\n",
       "      <td>0</td>\n",
       "      <td>0</td>\n",
       "      <td>0</td>\n",
       "      <td>1</td>\n",
       "      <td>...</td>\n",
       "      <td>0</td>\n",
       "      <td>0</td>\n",
       "      <td>0</td>\n",
       "      <td>0</td>\n",
       "      <td>0</td>\n",
       "      <td>0</td>\n",
       "      <td>0</td>\n",
       "      <td>0</td>\n",
       "      <td>0</td>\n",
       "      <td>0</td>\n",
       "    </tr>\n",
       "  </tbody>\n",
       "</table>\n",
       "<p>5 rows × 118 columns</p>\n",
       "</div>"
      ],
      "text/plain": [
       "         left_frontal_pole  left_insular_cortex  left_superior_frontal_gyrus  \\\n",
       "PMID                                                                           \n",
       "1402966                  1                    0                            0   \n",
       "1410086                  1                    0                            0   \n",
       "1448149                  0                    1                            0   \n",
       "1486459                  1                    0                            1   \n",
       "1486460                  0                    0                            0   \n",
       "\n",
       "         left_middle_frontal_gyrus  \\\n",
       "PMID                                 \n",
       "1402966                          0   \n",
       "1410086                          1   \n",
       "1448149                          0   \n",
       "1486459                          1   \n",
       "1486460                          0   \n",
       "\n",
       "         left_inferior_frontal_gyrus_pars_triangularis  \\\n",
       "PMID                                                     \n",
       "1402966                                              0   \n",
       "1410086                                              1   \n",
       "1448149                                              0   \n",
       "1486459                                              1   \n",
       "1486460                                              0   \n",
       "\n",
       "         left_inferior_frontal_gyrus_pars_opercularis  left_precentral_gyrus  \\\n",
       "PMID                                                                           \n",
       "1402966                                             0                      0   \n",
       "1410086                                             0                      0   \n",
       "1448149                                             0                      0   \n",
       "1486459                                             1                      1   \n",
       "1486460                                             0                      0   \n",
       "\n",
       "         left_temporal_pole  left_superior_temporal_gyrus_anterior_division  \\\n",
       "PMID                                                                          \n",
       "1402966                   0                                               0   \n",
       "1410086                   0                                               0   \n",
       "1448149                   1                                               0   \n",
       "1486459                   1                                               1   \n",
       "1486460                   0                                               0   \n",
       "\n",
       "         left_superior_temporal_gyrus_posterior_division  ...  right_caudate  \\\n",
       "PMID                                                      ...                  \n",
       "1402966                                                0  ...              0   \n",
       "1410086                                                0  ...              0   \n",
       "1448149                                                0  ...              0   \n",
       "1486459                                                1  ...              0   \n",
       "1486460                                                1  ...              0   \n",
       "\n",
       "         right_putamen  right_pallidum  right_hippocampus  right_amygdala  \\\n",
       "PMID                                                                        \n",
       "1402966              0               0                  0               0   \n",
       "1410086              0               0                  0               0   \n",
       "1448149              1               0                  0               1   \n",
       "1486459              0               0                  0               0   \n",
       "1486460              0               0                  0               0   \n",
       "\n",
       "         right_accumbens  right_brainstem  right_cerebellar_lobules  \\\n",
       "PMID                                                                  \n",
       "1402966                0                0                         1   \n",
       "1410086                0                0                         1   \n",
       "1448149                0                0                         0   \n",
       "1486459                0                0                         0   \n",
       "1486460                0                0                         0   \n",
       "\n",
       "         right_cerebellar_crus  right_cerebellar_vermis  \n",
       "PMID                                                     \n",
       "1402966                      0                        0  \n",
       "1410086                      0                        0  \n",
       "1448149                      0                        0  \n",
       "1486459                      0                        0  \n",
       "1486460                      0                        0  \n",
       "\n",
       "[5 rows x 118 columns]"
      ]
     },
     "execution_count": 3,
     "metadata": {},
     "output_type": "execute_result"
    }
   ],
   "source": [
    "act_bin.head()"
   ]
  },
  {
   "cell_type": "markdown",
   "metadata": {},
   "source": [
    "## Terms for mental functions"
   ]
  },
  {
   "cell_type": "code",
   "execution_count": 4,
   "metadata": {},
   "outputs": [],
   "source": [
    "version = 190325\n",
    "dtm_bin = utilities.load_doc_term_matrix(version=version, binarize=True)"
   ]
  },
  {
   "cell_type": "code",
   "execution_count": 5,
   "metadata": {},
   "outputs": [
    {
     "data": {
      "text/plain": [
       "1683"
      ]
     },
     "execution_count": 5,
     "metadata": {},
     "output_type": "execute_result"
    }
   ],
   "source": [
    "lexicon = utilities.load_lexicon([\"cogneuro\"])\n",
    "lexicon = sorted(list(set(lexicon).intersection(dtm_bin.columns)))\n",
    "len(lexicon)"
   ]
  },
  {
   "cell_type": "code",
   "execution_count": 6,
   "metadata": {},
   "outputs": [
    {
     "name": "stdout",
     "output_type": "stream",
     "text": [
      "Document N=18155, Term N=1683\n"
     ]
    }
   ],
   "source": [
    "dtm_bin = dtm_bin[lexicon]\n",
    "print(\"Document N={}, Term N={}\".format(\n",
    "      dtm_bin.shape[0], dtm_bin.shape[1]))"
   ]
  },
  {
   "cell_type": "markdown",
   "metadata": {},
   "source": [
    "## Document splits"
   ]
  },
  {
   "cell_type": "code",
   "execution_count": 7,
   "metadata": {},
   "outputs": [
    {
     "name": "stdout",
     "output_type": "stream",
     "text": [
      "Training N=12708, Validation N=3631\n"
     ]
    }
   ],
   "source": [
    "train, val = [[int(pmid.strip()) \n",
    "               for pmid in open(\"../data/splits/{}.txt\".format(split))] \n",
    "                    for split in [\"train\", \"validation\"]]\n",
    "print(\"Training N={}, Validation N={}\".format(len(train), len(val)))"
   ]
  },
  {
   "cell_type": "markdown",
   "metadata": {},
   "source": [
    "# Link structures to functions\n",
    "\n",
    "Links are computed as PMI-weighted co-occurrences across the training set"
   ]
  },
  {
   "cell_type": "code",
   "execution_count": 8,
   "metadata": {},
   "outputs": [],
   "source": [
    "import numpy as np"
   ]
  },
  {
   "cell_type": "code",
   "execution_count": 9,
   "metadata": {},
   "outputs": [
    {
     "name": "stdout",
     "output_type": "stream",
     "text": [
      "Structure N=118, Term N=1634\n"
     ]
    }
   ],
   "source": [
    "stm = ontology.load_stm(act_bin.loc[train], dtm_bin.loc[train])\n",
    "print(\"Structure N={}, Term N={}\".format(stm.shape[0], stm.shape[1]))"
   ]
  },
  {
   "cell_type": "markdown",
   "metadata": {},
   "source": [
    "# Generate the ontology\n",
    "\n",
    "## 1. Cluster brain structures by functions"
   ]
  },
  {
   "cell_type": "code",
   "execution_count": 10,
   "metadata": {},
   "outputs": [],
   "source": [
    "import os\n",
    "from sklearn.cluster import KMeans\n",
    "from scipy.stats import pointbiserialr"
   ]
  },
  {
   "cell_type": "code",
   "execution_count": 11,
   "metadata": {},
   "outputs": [],
   "source": [
    "n_circuits = range(2, 26) # Range over which ROC-AUC becomes asymptotic\n",
    "list_lens = range(5, 26) # Same range as RDoC and the DSM"
   ]
  },
  {
   "cell_type": "code",
   "execution_count": 12,
   "metadata": {
    "scrolled": false
   },
   "outputs": [],
   "source": [
    "for k in n_circuits:\n",
    "    circuit_file = \"circuits/combo/circuits_k{:02d}.csv\".format(k)\n",
    "    if not os.path.isfile(circuit_file):\n",
    "        kmeans = KMeans(n_clusters=k, max_iter=1000, random_state=42)  \n",
    "        kmeans.fit(stm)\n",
    "        clust = pd.DataFrame({\"STRUCTURE\": act_bin.columns, \n",
    "                              \"CLUSTER\": [l+1 for l in list(kmeans.labels_)]})\n",
    "        clust = clust.sort_values([\"CLUSTER\", \"STRUCTURE\"])\n",
    "        clust.to_csv(circuit_file, index=None)"
   ]
  },
  {
   "cell_type": "markdown",
   "metadata": {},
   "source": [
    "## 2. Identify associated terms for mental functions"
   ]
  },
  {
   "cell_type": "code",
   "execution_count": 13,
   "metadata": {},
   "outputs": [],
   "source": [
    "for k in n_circuits:\n",
    "    circuit_file = \"circuits/combo/circuits_k{:02d}.csv\".format(k)\n",
    "    clust = pd.read_csv(circuit_file, index_col=None)\n",
    "    list_file = \"lists/combo/lists_k{:02d}.csv\".format(k)\n",
    "    if not os.path.isfile(list_file):\n",
    "        lists = pd.DataFrame()\n",
    "        for i in range(k):\n",
    "            structures = list(clust.loc[clust[\"CLUSTER\"] == i+1, \"STRUCTURE\"])\n",
    "            centroid = np.mean(act_bin.loc[train, structures], axis=1)\n",
    "            R = pd.Series([pointbiserialr(dtm_bin.loc[train, word], centroid)[0] \n",
    "                           for word in dtm_bin.columns], index=dtm_bin.columns)\n",
    "            R = R[R > 0].sort_values(ascending=False)[:max(list_lens)]\n",
    "            R = pd.DataFrame({\"CLUSTER\": [i+1 for l in range(max(list_lens))], \n",
    "                              \"TOKEN\": R.index, \"R\": R.values})\n",
    "            lists = lists.append(R)\n",
    "        lists.to_csv(list_file, index=None)"
   ]
  },
  {
   "cell_type": "markdown",
   "metadata": {},
   "source": [
    "## 3. Select number of words per domain\n",
    "\n",
    "Word list lengths were selected by mean ROC-AUC of forward and reverse classifiers for each circuit. The number of circuits will be selected across values of k using the lists of optimized length, this time training classifiers that use all the circuits at that k. All classifiers were optimized over a grid search for regularization strength, penalty, and intercept."
   ]
  },
  {
   "cell_type": "markdown",
   "metadata": {},
   "source": [
    "## 4. Select optimal number of domains\n",
    "\n",
    "### Circuit-level features"
   ]
  },
  {
   "cell_type": "code",
   "execution_count": 14,
   "metadata": {},
   "outputs": [],
   "source": [
    "import pickle\n",
    "from sklearn.preprocessing import binarize"
   ]
  },
  {
   "cell_type": "code",
   "execution_count": 15,
   "metadata": {},
   "outputs": [],
   "source": [
    "directions = [\"forward\", \"reverse\"]"
   ]
  },
  {
   "cell_type": "code",
   "execution_count": 16,
   "metadata": {},
   "outputs": [
    {
     "name": "stderr",
     "output_type": "stream",
     "text": [
      "/anaconda3/envs/ontol/lib/python3.6/site-packages/sklearn/base.py:306: UserWarning: Trying to unpickle estimator LogisticRegression from version 0.21.1 when using version 0.21.2. This might lead to breaking code or invalid results. Use at your own risk.\n",
      "  UserWarning)\n",
      "/anaconda3/envs/ontol/lib/python3.6/site-packages/sklearn/base.py:306: UserWarning: Trying to unpickle estimator LabelBinarizer from version 0.21.1 when using version 0.21.2. This might lead to breaking code or invalid results. Use at your own risk.\n",
      "  UserWarning)\n",
      "/anaconda3/envs/ontol/lib/python3.6/site-packages/sklearn/base.py:306: UserWarning: Trying to unpickle estimator OneVsRestClassifier from version 0.21.1 when using version 0.21.2. This might lead to breaking code or invalid results. Use at your own risk.\n",
      "  UserWarning)\n"
     ]
    }
   ],
   "source": [
    "fits = {}\n",
    "for d in directions:\n",
    "    fits[d] = {}\n",
    "    for k in n_circuits:\n",
    "        fit_file = \"logistic_regression/sherlock_combo/fits/{}_k{:02d}_{}.p\".format(d, k, d)\n",
    "        fits[d][k] = pickle.load(open(fit_file, \"rb\"))"
   ]
  },
  {
   "cell_type": "code",
   "execution_count": 17,
   "metadata": {},
   "outputs": [],
   "source": [
    "features = {k: {} for k in n_circuits}\n",
    "for k in n_circuits:\n",
    "    domains = range(1, k+1)\n",
    "    lists, circuits = ontology.load_ontology(k, suffix=\"_logreg\", cerebellum=\"combo\")\n",
    "    function_features = pd.DataFrame(index=dtm_bin.index, columns=domains)\n",
    "    structure_features = pd.DataFrame(index=act_bin.index, columns=domains)\n",
    "    for i in domains:\n",
    "        functions = lists.loc[lists[\"CLUSTER\"] == i, \"TOKEN\"]\n",
    "        function_features[i] = dtm_bin[functions].sum(axis=1)\n",
    "        structures = circuits.loc[circuits[\"CLUSTER\"] == i, \"STRUCTURE\"]\n",
    "        structure_features[i] = act_bin[structures].sum(axis=1)\n",
    "    function_features = pd.DataFrame(utilities.doc_mean_thres(function_features), \n",
    "                                     index=dtm_bin.index, columns=domains)\n",
    "    structure_features = pd.DataFrame(binarize(structure_features), \n",
    "                                     index=act_bin.index, columns=domains)\n",
    "    features[k][\"function\"] = function_features\n",
    "    features[k][\"structure\"] = structure_features"
   ]
  },
  {
   "cell_type": "markdown",
   "metadata": {},
   "source": [
    "### Area under the receiver operating characteristic curve (ROC-AUC)"
   ]
  },
  {
   "cell_type": "code",
   "execution_count": 18,
   "metadata": {},
   "outputs": [],
   "source": [
    "import math\n",
    "from sklearn.metrics import roc_auc_score\n",
    "%matplotlib inline"
   ]
  },
  {
   "cell_type": "code",
   "execution_count": 19,
   "metadata": {},
   "outputs": [],
   "source": [
    "stats = {}"
   ]
  },
  {
   "cell_type": "code",
   "execution_count": 20,
   "metadata": {},
   "outputs": [],
   "source": [
    "stats[\"scores\"] = ontology.compute_eval_scores(\"lr\", roc_auc_score, directions, \n",
    "                                               n_circuits, features, fits, val)"
   ]
  },
  {
   "cell_type": "code",
   "execution_count": 21,
   "metadata": {},
   "outputs": [],
   "source": [
    "stats[\"boot\"] = ontology.compute_eval_boot(\"lr\", roc_auc_score, directions, \n",
    "                                           n_circuits, features, fits, val, n_iter=1000,\n",
    "                                           cerebellum=\"combo\")"
   ]
  },
  {
   "cell_type": "code",
   "execution_count": 22,
   "metadata": {},
   "outputs": [],
   "source": [
    "stats[\"null\"] = ontology.compute_eval_null(\"lr\", roc_auc_score, directions, \n",
    "                                           n_circuits, features, fits, val, n_iter=1000,\n",
    "                                           cerebellum=\"combo\")"
   ]
  },
  {
   "cell_type": "code",
   "execution_count": 23,
   "metadata": {},
   "outputs": [],
   "source": [
    "directions += [\"mean\"]\n",
    "shapes = [\">\", \"<\", \"D\"]\n",
    "op_k = 6"
   ]
  },
  {
   "cell_type": "code",
   "execution_count": 24,
   "metadata": {},
   "outputs": [
    {
     "data": {
      "image/png": "[encoded data removed]",
      "text/plain": [
       "<Figure size 288x216 with 1 Axes>"
      ]
     },
     "metadata": {
      "needs_background": "light"
     },
     "output_type": "display_data"
    },
    {
     "data": {
      "image/png": "[encoded data removed]",
      "text/plain": [
       "<Figure size 288x216 with 1 Axes>"
      ]
     },
     "metadata": {
      "needs_background": "light"
     },
     "output_type": "display_data"
    },
    {
     "data": {
      "image/png": "[encoded data removed]",
      "text/plain": [
       "<Figure size 288x216 with 1 Axes>"
      ]
     },
     "metadata": {
      "needs_background": "light"
     },
     "output_type": "display_data"
    }
   ],
   "source": [
    "for direction, shape in zip(directions, shapes):\n",
    "    ontology.plot_scores(direction, n_circuits, stats, shape=shape, ylim=[0.45,0.7], \n",
    "                         yticks=np.arange(0.4,0.75,0.05), op_k=op_k, interval=0.999,\n",
    "                         cerebellum=\"combo\")"
   ]
  },
  {
   "cell_type": "markdown",
   "metadata": {},
   "source": [
    "# Name the domains"
   ]
  },
  {
   "cell_type": "code",
   "execution_count": 25,
   "metadata": {},
   "outputs": [],
   "source": [
    "lists, circuits = ontology.load_ontology(op_k, suffix=\"_logreg\", cerebellum=\"combo\")"
   ]
  },
  {
   "cell_type": "code",
   "execution_count": 26,
   "metadata": {},
   "outputs": [
    {
     "name": "stdout",
     "output_type": "stream",
     "text": [
      "1: VISION\n",
      "2: LANGUAGE\n",
      "3: MANIPULATION\n",
      "4: REWARD\n",
      "5: COGNITIVE\n",
      "6: MEMORY\n"
     ]
    }
   ],
   "source": [
    "k2name = {}\n",
    "for k in range(op_k):\n",
    "    degrees = ontology.term_degree_centrality(k+1, lists, dtm_bin, train)\n",
    "    name = degrees.index[0].upper()\n",
    "    k2name[k+1] = name\n",
    "print(\"\\n\".join([\"{}: {}\".format(k, name) for k, name in k2name.items()]))"
   ]
  },
  {
   "cell_type": "markdown",
   "metadata": {},
   "source": [
    "## Export ontology with domain names"
   ]
  },
  {
   "cell_type": "code",
   "execution_count": 27,
   "metadata": {},
   "outputs": [],
   "source": [
    "order = [6,4,5,3,1,2]\n",
    "names = [k2name[k] for k in order]\n",
    "k2order = {k: order.index(k)+1 for k in range(1,op_k+1)}"
   ]
  },
  {
   "cell_type": "markdown",
   "metadata": {},
   "source": [
    "### Function term lists"
   ]
  },
  {
   "cell_type": "code",
   "execution_count": 28,
   "metadata": {},
   "outputs": [
    {
     "data": {
      "text/html": [
       "<div>\n",
       "<style scoped>\n",
       "    .dataframe tbody tr th:only-of-type {\n",
       "        vertical-align: middle;\n",
       "    }\n",
       "\n",
       "    .dataframe tbody tr th {\n",
       "        vertical-align: top;\n",
       "    }\n",
       "\n",
       "    .dataframe thead th {\n",
       "        text-align: right;\n",
       "    }\n",
       "</style>\n",
       "<table border=\"1\" class=\"dataframe\">\n",
       "  <thead>\n",
       "    <tr style=\"text-align: right;\">\n",
       "      <th></th>\n",
       "      <th>ORDER</th>\n",
       "      <th>CLUSTER</th>\n",
       "      <th>DOMAIN</th>\n",
       "      <th>TOKEN</th>\n",
       "      <th>R</th>\n",
       "      <th>ROC_AUC</th>\n",
       "    </tr>\n",
       "  </thead>\n",
       "  <tbody>\n",
       "    <tr>\n",
       "      <th>90</th>\n",
       "      <td>1</td>\n",
       "      <td>6</td>\n",
       "      <td>MEMORY</td>\n",
       "      <td>memory</td>\n",
       "      <td>0.199004</td>\n",
       "      <td>0.655879</td>\n",
       "    </tr>\n",
       "    <tr>\n",
       "      <th>91</th>\n",
       "      <td>1</td>\n",
       "      <td>6</td>\n",
       "      <td>MEMORY</td>\n",
       "      <td>episodic_memory</td>\n",
       "      <td>0.174621</td>\n",
       "      <td>0.655879</td>\n",
       "    </tr>\n",
       "    <tr>\n",
       "      <th>92</th>\n",
       "      <td>1</td>\n",
       "      <td>6</td>\n",
       "      <td>MEMORY</td>\n",
       "      <td>declarative_memory</td>\n",
       "      <td>0.172933</td>\n",
       "      <td>0.655879</td>\n",
       "    </tr>\n",
       "    <tr>\n",
       "      <th>93</th>\n",
       "      <td>1</td>\n",
       "      <td>6</td>\n",
       "      <td>MEMORY</td>\n",
       "      <td>recognition_memory</td>\n",
       "      <td>0.162350</td>\n",
       "      <td>0.655879</td>\n",
       "    </tr>\n",
       "    <tr>\n",
       "      <th>94</th>\n",
       "      <td>1</td>\n",
       "      <td>6</td>\n",
       "      <td>MEMORY</td>\n",
       "      <td>remembering</td>\n",
       "      <td>0.157813</td>\n",
       "      <td>0.655879</td>\n",
       "    </tr>\n",
       "  </tbody>\n",
       "</table>\n",
       "</div>"
      ],
      "text/plain": [
       "    ORDER  CLUSTER  DOMAIN               TOKEN         R   ROC_AUC\n",
       "90      1        6  MEMORY              memory  0.199004  0.655879\n",
       "91      1        6  MEMORY     episodic_memory  0.174621  0.655879\n",
       "92      1        6  MEMORY  declarative_memory  0.172933  0.655879\n",
       "93      1        6  MEMORY  recognition_memory  0.162350  0.655879\n",
       "94      1        6  MEMORY         remembering  0.157813  0.655879"
      ]
     },
     "execution_count": 28,
     "metadata": {},
     "output_type": "execute_result"
    }
   ],
   "source": [
    "columns = [\"ORDER\", \"CLUSTER\", \"DOMAIN\", \"TOKEN\", \"R\", \"ROC_AUC\"]\n",
    "lists[\"ORDER\"] = [k2order[k] for k in lists[\"CLUSTER\"]]\n",
    "lists[\"DOMAIN\"] = [k2name[k] for k in lists[\"CLUSTER\"]]\n",
    "lists = lists.sort_values([\"ORDER\", \"R\"], ascending=[True, False])\n",
    "lists = lists[columns]\n",
    "lists.to_csv(\"lists/lists_data-driven_lr_combo.csv\", index=None)\n",
    "lists.head()"
   ]
  },
  {
   "cell_type": "markdown",
   "metadata": {},
   "source": [
    "### Brain circuits"
   ]
  },
  {
   "cell_type": "code",
   "execution_count": 29,
   "metadata": {},
   "outputs": [
    {
     "data": {
      "text/html": [
       "<div>\n",
       "<style scoped>\n",
       "    .dataframe tbody tr th:only-of-type {\n",
       "        vertical-align: middle;\n",
       "    }\n",
       "\n",
       "    .dataframe tbody tr th {\n",
       "        vertical-align: top;\n",
       "    }\n",
       "\n",
       "    .dataframe thead th {\n",
       "        text-align: right;\n",
       "    }\n",
       "</style>\n",
       "<table border=\"1\" class=\"dataframe\">\n",
       "  <thead>\n",
       "    <tr style=\"text-align: right;\">\n",
       "      <th></th>\n",
       "      <th>ORDER</th>\n",
       "      <th>CLUSTER</th>\n",
       "      <th>DOMAIN</th>\n",
       "      <th>STRUCTURE</th>\n",
       "    </tr>\n",
       "  </thead>\n",
       "  <tbody>\n",
       "    <tr>\n",
       "      <th>104</th>\n",
       "      <td>1</td>\n",
       "      <td>6</td>\n",
       "      <td>MEMORY</td>\n",
       "      <td>left_amygdala</td>\n",
       "    </tr>\n",
       "    <tr>\n",
       "      <th>105</th>\n",
       "      <td>1</td>\n",
       "      <td>6</td>\n",
       "      <td>MEMORY</td>\n",
       "      <td>left_hippocampus</td>\n",
       "    </tr>\n",
       "    <tr>\n",
       "      <th>106</th>\n",
       "      <td>1</td>\n",
       "      <td>6</td>\n",
       "      <td>MEMORY</td>\n",
       "      <td>left_inferior_temporal_gyrus_anterior_division</td>\n",
       "    </tr>\n",
       "    <tr>\n",
       "      <th>107</th>\n",
       "      <td>1</td>\n",
       "      <td>6</td>\n",
       "      <td>MEMORY</td>\n",
       "      <td>left_parahippocampal_gyrus_anterior_division</td>\n",
       "    </tr>\n",
       "    <tr>\n",
       "      <th>108</th>\n",
       "      <td>1</td>\n",
       "      <td>6</td>\n",
       "      <td>MEMORY</td>\n",
       "      <td>left_parahippocampal_gyrus_posterior_division</td>\n",
       "    </tr>\n",
       "  </tbody>\n",
       "</table>\n",
       "</div>"
      ],
      "text/plain": [
       "     ORDER  CLUSTER  DOMAIN                                       STRUCTURE\n",
       "104      1        6  MEMORY                                   left_amygdala\n",
       "105      1        6  MEMORY                                left_hippocampus\n",
       "106      1        6  MEMORY  left_inferior_temporal_gyrus_anterior_division\n",
       "107      1        6  MEMORY    left_parahippocampal_gyrus_anterior_division\n",
       "108      1        6  MEMORY   left_parahippocampal_gyrus_posterior_division"
      ]
     },
     "execution_count": 29,
     "metadata": {},
     "output_type": "execute_result"
    }
   ],
   "source": [
    "columns = [\"ORDER\", \"CLUSTER\", \"DOMAIN\", \"STRUCTURE\"]\n",
    "circuits[\"ORDER\"] = [k2order[k] for k in circuits[\"CLUSTER\"]]\n",
    "circuits[\"DOMAIN\"] = [k2name[k] for k in circuits[\"CLUSTER\"]]\n",
    "circuits = circuits.sort_values([\"ORDER\", \"STRUCTURE\"])\n",
    "circuits = circuits[columns]\n",
    "circuits.to_csv(\"circuits/clusters_data-driven_lr_combo.csv\", index=None)\n",
    "circuits.head()"
   ]
  },
  {
   "cell_type": "code",
   "execution_count": 30,
   "metadata": {},
   "outputs": [
    {
     "data": {
      "text/html": [
       "<div>\n",
       "<style scoped>\n",
       "    .dataframe tbody tr th:only-of-type {\n",
       "        vertical-align: middle;\n",
       "    }\n",
       "\n",
       "    .dataframe tbody tr th {\n",
       "        vertical-align: top;\n",
       "    }\n",
       "\n",
       "    .dataframe thead th {\n",
       "        text-align: right;\n",
       "    }\n",
       "</style>\n",
       "<table border=\"1\" class=\"dataframe\">\n",
       "  <thead>\n",
       "    <tr style=\"text-align: right;\">\n",
       "      <th></th>\n",
       "      <th>MEMORY</th>\n",
       "      <th>REWARD</th>\n",
       "      <th>COGNITIVE</th>\n",
       "      <th>MANIPULATION</th>\n",
       "      <th>VISION</th>\n",
       "      <th>LANGUAGE</th>\n",
       "    </tr>\n",
       "  </thead>\n",
       "  <tbody>\n",
       "    <tr>\n",
       "      <th>left_frontal_pole</th>\n",
       "      <td>0.0</td>\n",
       "      <td>0.0</td>\n",
       "      <td>1.0</td>\n",
       "      <td>0.0</td>\n",
       "      <td>0.0</td>\n",
       "      <td>0.0</td>\n",
       "    </tr>\n",
       "    <tr>\n",
       "      <th>left_insular_cortex</th>\n",
       "      <td>0.0</td>\n",
       "      <td>0.0</td>\n",
       "      <td>1.0</td>\n",
       "      <td>0.0</td>\n",
       "      <td>0.0</td>\n",
       "      <td>0.0</td>\n",
       "    </tr>\n",
       "    <tr>\n",
       "      <th>left_superior_frontal_gyrus</th>\n",
       "      <td>0.0</td>\n",
       "      <td>0.0</td>\n",
       "      <td>0.0</td>\n",
       "      <td>1.0</td>\n",
       "      <td>0.0</td>\n",
       "      <td>0.0</td>\n",
       "    </tr>\n",
       "    <tr>\n",
       "      <th>left_middle_frontal_gyrus</th>\n",
       "      <td>0.0</td>\n",
       "      <td>0.0</td>\n",
       "      <td>0.0</td>\n",
       "      <td>1.0</td>\n",
       "      <td>0.0</td>\n",
       "      <td>0.0</td>\n",
       "    </tr>\n",
       "    <tr>\n",
       "      <th>left_inferior_frontal_gyrus_pars_triangularis</th>\n",
       "      <td>0.0</td>\n",
       "      <td>0.0</td>\n",
       "      <td>1.0</td>\n",
       "      <td>0.0</td>\n",
       "      <td>0.0</td>\n",
       "      <td>0.0</td>\n",
       "    </tr>\n",
       "  </tbody>\n",
       "</table>\n",
       "</div>"
      ],
      "text/plain": [
       "                                               MEMORY  REWARD  COGNITIVE  \\\n",
       "left_frontal_pole                                 0.0     0.0        1.0   \n",
       "left_insular_cortex                               0.0     0.0        1.0   \n",
       "left_superior_frontal_gyrus                       0.0     0.0        0.0   \n",
       "left_middle_frontal_gyrus                         0.0     0.0        0.0   \n",
       "left_inferior_frontal_gyrus_pars_triangularis     0.0     0.0        1.0   \n",
       "\n",
       "                                               MANIPULATION  VISION  LANGUAGE  \n",
       "left_frontal_pole                                       0.0     0.0       0.0  \n",
       "left_insular_cortex                                     0.0     0.0       0.0  \n",
       "left_superior_frontal_gyrus                             1.0     0.0       0.0  \n",
       "left_middle_frontal_gyrus                               1.0     0.0       0.0  \n",
       "left_inferior_frontal_gyrus_pars_triangularis           0.0     0.0       0.0  "
      ]
     },
     "execution_count": 30,
     "metadata": {},
     "output_type": "execute_result"
    }
   ],
   "source": [
    "circuit_mat = pd.DataFrame(0.0, index=act_bin.columns, columns=names)\n",
    "for name in names:\n",
    "    structures = circuits.loc[circuits[\"DOMAIN\"] == name, \"STRUCTURE\"]\n",
    "    for structure in structures:\n",
    "        circuit_mat.loc[structure, name] = 1.0\n",
    "circuit_mat.to_csv(\"circuits/circuits_data-driven_lr_combo.csv\")\n",
    "circuit_mat.head()"
   ]
  },
  {
   "cell_type": "markdown",
   "metadata": {},
   "source": [
    "# Visualize the term lists"
   ]
  },
  {
   "cell_type": "code",
   "execution_count": 31,
   "metadata": {},
   "outputs": [],
   "source": [
    "%matplotlib inline"
   ]
  },
  {
   "cell_type": "code",
   "execution_count": 33,
   "metadata": {},
   "outputs": [
    {
     "name": "stdout",
     "output_type": "stream",
     "text": [
      "MEMORY\n"
     ]
    },
    {
     "data": {
      "image/png": "[encoded data removed]",
      "text/plain": [
       "<Figure size 432x288 with 1 Axes>"
      ]
     },
     "metadata": {
      "needs_background": "light"
     },
     "output_type": "display_data"
    },
    {
     "name": "stdout",
     "output_type": "stream",
     "text": [
      "REWARD\n"
     ]
    },
    {
     "data": {
      "image/png": "[encoded data removed]",
      "text/plain": [
       "<Figure size 432x288 with 1 Axes>"
      ]
     },
     "metadata": {
      "needs_background": "light"
     },
     "output_type": "display_data"
    },
    {
     "name": "stdout",
     "output_type": "stream",
     "text": [
      "COGNITIVE\n"
     ]
    },
    {
     "data": {
      "image/png": "[encoded data removed]",
      "text/plain": [
       "<Figure size 432x288 with 1 Axes>"
      ]
     },
     "metadata": {
      "needs_background": "light"
     },
     "output_type": "display_data"
    },
    {
     "name": "stdout",
     "output_type": "stream",
     "text": [
      "MANIPULATION\n"
     ]
    },
    {
     "data": {
      "image/png": "[encoded data removed]",
      "text/plain": [
       "<Figure size 432x288 with 1 Axes>"
      ]
     },
     "metadata": {
      "needs_background": "light"
     },
     "output_type": "display_data"
    },
    {
     "name": "stdout",
     "output_type": "stream",
     "text": [
      "VISION\n"
     ]
    },
    {
     "data": {
      "image/png": "[encoded data removed]",
      "text/plain": [
       "<Figure size 432x288 with 1 Axes>"
      ]
     },
     "metadata": {
      "needs_background": "light"
     },
     "output_type": "display_data"
    },
    {
     "name": "stdout",
     "output_type": "stream",
     "text": [
      "LANGUAGE\n"
     ]
    },
    {
     "data": {
      "image/png": "[encoded data removed]",
      "text/plain": [
       "<Figure size 432x288 with 1 Axes>"
      ]
     },
     "metadata": {
      "needs_background": "light"
     },
     "output_type": "display_data"
    }
   ],
   "source": [
    "ontology.plot_wordclouds(\"data-driven\", names, lists, dtm_bin, width=600, cerebellum=\"combo\", clf=\"lr\")"
   ]
  },
  {
   "cell_type": "markdown",
   "metadata": {},
   "source": [
    "# Visualize the circuits"
   ]
  },
  {
   "cell_type": "code",
   "execution_count": 34,
   "metadata": {},
   "outputs": [],
   "source": [
    "%matplotlib inline"
   ]
  },
  {
   "cell_type": "code",
   "execution_count": 35,
   "metadata": {},
   "outputs": [
    {
     "name": "stderr",
     "output_type": "stream",
     "text": [
      "/anaconda3/envs/ontol/lib/python3.6/site-packages/sklearn/externals/joblib/__init__.py:15: DeprecationWarning: sklearn.externals.joblib is deprecated in 0.21 and will be removed in 0.23. Please import this functionality directly from joblib, which can be installed with: pip install joblib. If this warning is raised when loading pickled models, you may need to re-serialize those models with scikit-learn 0.21+.\n",
      "  warnings.warn(msg, category=DeprecationWarning)\n"
     ]
    }
   ],
   "source": [
    "atlas = utilities.load_atlas(cerebellum=\"combo\")"
   ]
  },
  {
   "cell_type": "code",
   "execution_count": 36,
   "metadata": {},
   "outputs": [
    {
     "ename": "NameError",
     "evalue": "name 'style' is not defined",
     "output_type": "error",
     "traceback": [
      "\u001b[0;31m---------------------------------------------------------------------------\u001b[0m",
      "\u001b[0;31mNameError\u001b[0m                                 Traceback (most recent call last)",
      "\u001b[0;32m<ipython-input-36-f86baa8501cc>\u001b[0m in \u001b[0;36m<module>\u001b[0;34m\u001b[0m\n\u001b[0;32m----> 1\u001b[0;31m \u001b[0mpurples\u001b[0m \u001b[0;34m=\u001b[0m \u001b[0mstyle\u001b[0m\u001b[0;34m.\u001b[0m\u001b[0mmake_cmap\u001b[0m\u001b[0;34m(\u001b[0m\u001b[0;34m[\u001b[0m\u001b[0;34m(\u001b[0m\u001b[0;36m1\u001b[0m\u001b[0;34m,\u001b[0m\u001b[0;36m1\u001b[0m\u001b[0;34m,\u001b[0m\u001b[0;36m1\u001b[0m\u001b[0;34m)\u001b[0m\u001b[0;34m,\u001b[0m \u001b[0;34m(\u001b[0m\u001b[0;36m0.365\u001b[0m\u001b[0;34m,\u001b[0m\u001b[0;36m0\u001b[0m\u001b[0;34m,\u001b[0m\u001b[0;36m0.878\u001b[0m\u001b[0;34m)\u001b[0m\u001b[0;34m]\u001b[0m\u001b[0;34m)\u001b[0m\u001b[0;34m\u001b[0m\u001b[0;34m\u001b[0m\u001b[0m\n\u001b[0m\u001b[1;32m      2\u001b[0m \u001b[0mmagentas\u001b[0m \u001b[0;34m=\u001b[0m \u001b[0mstyle\u001b[0m\u001b[0;34m.\u001b[0m\u001b[0mmake_cmap\u001b[0m\u001b[0;34m(\u001b[0m\u001b[0;34m[\u001b[0m\u001b[0;34m(\u001b[0m\u001b[0;36m1\u001b[0m\u001b[0;34m,\u001b[0m\u001b[0;36m1\u001b[0m\u001b[0;34m,\u001b[0m\u001b[0;36m1\u001b[0m\u001b[0;34m)\u001b[0m\u001b[0;34m,\u001b[0m \u001b[0;34m(\u001b[0m\u001b[0;36m0.620\u001b[0m\u001b[0;34m,\u001b[0m\u001b[0;36m0\u001b[0m\u001b[0;34m,\u001b[0m\u001b[0;36m0.686\u001b[0m\u001b[0;34m)\u001b[0m\u001b[0;34m]\u001b[0m\u001b[0;34m)\u001b[0m\u001b[0;34m\u001b[0m\u001b[0;34m\u001b[0m\u001b[0m\n\u001b[1;32m      3\u001b[0m \u001b[0myellows\u001b[0m \u001b[0;34m=\u001b[0m \u001b[0mstyle\u001b[0m\u001b[0;34m.\u001b[0m\u001b[0mmake_cmap\u001b[0m\u001b[0;34m(\u001b[0m\u001b[0;34m[\u001b[0m\u001b[0;34m(\u001b[0m\u001b[0;36m1\u001b[0m\u001b[0;34m,\u001b[0m\u001b[0;36m1\u001b[0m\u001b[0;34m,\u001b[0m\u001b[0;36m1\u001b[0m\u001b[0;34m)\u001b[0m\u001b[0;34m,\u001b[0m \u001b[0;34m(\u001b[0m\u001b[0;36m0.937\u001b[0m\u001b[0;34m,\u001b[0m\u001b[0;36m0.749\u001b[0m\u001b[0;34m,\u001b[0m\u001b[0;36m0\u001b[0m\u001b[0;34m)\u001b[0m\u001b[0;34m]\u001b[0m\u001b[0;34m)\u001b[0m\u001b[0;34m\u001b[0m\u001b[0;34m\u001b[0m\u001b[0m\n\u001b[1;32m      4\u001b[0m \u001b[0mcmaps\u001b[0m \u001b[0;34m=\u001b[0m \u001b[0;34m[\u001b[0m\u001b[0;34m\"Blues\"\u001b[0m\u001b[0;34m,\u001b[0m \u001b[0mmagentas\u001b[0m\u001b[0;34m,\u001b[0m \u001b[0myellows\u001b[0m\u001b[0;34m,\u001b[0m \u001b[0;34m\"Greens\"\u001b[0m\u001b[0;34m,\u001b[0m \u001b[0;34m\"Reds\"\u001b[0m\u001b[0;34m,\u001b[0m \u001b[0mpurples\u001b[0m\u001b[0;34m,\u001b[0m \u001b[0;34m\"Oranges\"\u001b[0m\u001b[0;34m]\u001b[0m\u001b[0;34m\u001b[0m\u001b[0;34m\u001b[0m\u001b[0m\n",
      "\u001b[0;31mNameError\u001b[0m: name 'style' is not defined"
     ]
    }
   ],
   "source": [
    "purples = style.make_cmap([(1,1,1), (0.365,0,0.878)])\n",
    "magentas = style.make_cmap([(1,1,1), (0.620,0,0.686)])\n",
    "yellows = style.make_cmap([(1,1,1), (0.937,0.749,0)])\n",
    "cmaps = [\"Blues\", magentas, yellows, \"Greens\", \"Reds\", purples, \"Oranges\"]"
   ]
  },
  {
   "cell_type": "code",
   "execution_count": null,
   "metadata": {},
   "outputs": [],
   "source": [
    "utilities.map_plane(circuit_mat, atlas, \"figures/circuits/data-driven_lr_combo\", \n",
    "                    suffix=\"_z\", cmaps=cmaps, plane=\"z\", cbar=False, vmin=0.0, vmax=2.0,\n",
    "                    verbose=False, print_fig=True, annotate=False)"
   ]
  },
  {
   "cell_type": "code",
   "execution_count": null,
   "metadata": {},
   "outputs": [],
   "source": [
    "for plane in [\"x\", \"y\"]:\n",
    "    utilities.map_plane(circuit_mat, atlas, \"figures/circuits/data-driven_lr_combo\", \n",
    "                        suffix=\"_\"+plane, cmaps=cmaps, plane=plane, cbar=False, vmin=0.0, vmax=2.0,\n",
    "                        verbose=False, print_fig=False, annotate=False)"
   ]
  },
  {
   "cell_type": "code",
   "execution_count": null,
   "metadata": {},
   "outputs": [],
   "source": []
  }
 ],
 "metadata": {
  "kernelspec": {
   "display_name": "Python [conda env:ontol] *",
   "language": "python",
   "name": "conda-env-ontol-py"
  },
  "language_info": {
   "codemirror_mode": {
    "name": "ipython",
    "version": 3
   },
   "file_extension": ".py",
   "mimetype": "text/x-python",
   "name": "python",
   "nbconvert_exporter": "python",
   "pygments_lexer": "ipython3",
   "version": "3.6.8"
  }
 },
 "nbformat": 4,
 "nbformat_minor": 2
}
