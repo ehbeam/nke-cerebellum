{
 "cells": [
  {
   "cell_type": "markdown",
   "metadata": {},
   "source": [
    "# Introduction\n",
    "\n",
    "This notebook translates the disorders in the [DSM-5](https://dsm.psychiatryonline.org/doi/book/10.1176/appi.books.9780890425596) into the language of the psychiatric neuroimaging literature. The objective is to maximize semantic similarity between the centroid of seed terms from the DSM-5 (i.e., disorder names) and the centroid of a new list of terms for mental functions and dysfunctions. Seed terms are grouped by the headings in Section II of the DSM-5. The work flow is as follows:\n",
    "\n",
    "1. Identify the most semantically similar terms to each domain centroid across list lengths.\n",
    "2. Select the word list length that maximizes semantic similarity to the domain centroid.\n",
    "3. Filter domains by document frequency of their assigned terms.\n",
    "\n",
    "Our vector space model for semantic content is [GloVe](https://github.com/stanfordnlp/GloVe), which was trained on 26,070 psychiatric neuroimaging articles. The parameters for the GloVe model were a minimum word count of 5, window size of 15, and embedding dimension of 100 over 500 iterations."
   ]
  },
  {
   "cell_type": "markdown",
   "metadata": {},
   "source": [
    "# Load the data"
   ]
  },
  {
   "cell_type": "code",
   "execution_count": 1,
   "metadata": {},
   "outputs": [],
   "source": [
    "import pandas as pd\n",
    "from collections import OrderedDict\n",
    "import sys\n",
    "sys.path.append(\"..\")\n",
    "import utilities, ontology"
   ]
  },
  {
   "cell_type": "code",
   "execution_count": 2,
   "metadata": {},
   "outputs": [],
   "source": [
    "vsm_version = 190428 # Version of GloVe embeddings\n",
    "dtm_version = 190325 # Version of document-term matrix"
   ]
  },
  {
   "cell_type": "markdown",
   "metadata": {},
   "source": [
    "## Vector space model"
   ]
  },
  {
   "cell_type": "code",
   "execution_count": 3,
   "metadata": {},
   "outputs": [
    {
     "name": "stdout",
     "output_type": "stream",
     "text": [
      "Vocab N=320502, Embedding N=100\n"
     ]
    }
   ],
   "source": [
    "vsm = pd.read_csv(\"../data/text/glove_psy_n100_win15_min5_iter500_{}.txt\".format(vsm_version), \n",
    "                  index_col=0, header=None, sep=\" \")\n",
    "print(\"Vocab N={}, Embedding N={}\".format(vsm.shape[0], vsm.shape[1]))"
   ]
  },
  {
   "cell_type": "markdown",
   "metadata": {},
   "source": [
    "## Document-term matrix"
   ]
  },
  {
   "cell_type": "code",
   "execution_count": 4,
   "metadata": {},
   "outputs": [
    {
     "name": "stdout",
     "output_type": "stream",
     "text": [
      "Document N=18155, Term N=4107\n"
     ]
    }
   ],
   "source": [
    "dtm = utilities.load_doc_term_matrix(version=dtm_version, binarize=False)\n",
    "dtm = dtm.loc[:, (dtm != 0).any(axis=0)]\n",
    "print(\"Document N={}, Term N={}\".format(dtm.shape[0], dtm.shape[1]))"
   ]
  },
  {
   "cell_type": "code",
   "execution_count": 5,
   "metadata": {},
   "outputs": [],
   "source": [
    "dtm_bin = utilities.doc_mean_thres(dtm)"
   ]
  },
  {
   "cell_type": "markdown",
   "metadata": {},
   "source": [
    "## DSM-5 seed terms"
   ]
  },
  {
   "cell_type": "code",
   "execution_count": 6,
   "metadata": {},
   "outputs": [
    {
     "data": {
      "text/html": [
       "<div>\n",
       "<style scoped>\n",
       "    .dataframe tbody tr th:only-of-type {\n",
       "        vertical-align: middle;\n",
       "    }\n",
       "\n",
       "    .dataframe tbody tr th {\n",
       "        vertical-align: top;\n",
       "    }\n",
       "\n",
       "    .dataframe thead th {\n",
       "        text-align: right;\n",
       "    }\n",
       "</style>\n",
       "<table border=\"1\" class=\"dataframe\">\n",
       "  <thead>\n",
       "    <tr style=\"text-align: right;\">\n",
       "      <th></th>\n",
       "      <th>ORDER</th>\n",
       "      <th>NAME</th>\n",
       "      <th>DOMAIN</th>\n",
       "      <th>CONSTRUCT</th>\n",
       "      <th>TOKEN</th>\n",
       "    </tr>\n",
       "  </thead>\n",
       "  <tbody>\n",
       "    <tr>\n",
       "      <th>0</th>\n",
       "      <td>0</td>\n",
       "      <td>Neurodevelopmental Disorders</td>\n",
       "      <td>DEVELOPMENTAL</td>\n",
       "      <td>INTELLECTUAL_DISABILITY</td>\n",
       "      <td>borderline_intellectual_functioning</td>\n",
       "    </tr>\n",
       "    <tr>\n",
       "      <th>1</th>\n",
       "      <td>0</td>\n",
       "      <td>Neurodevelopmental Disorders</td>\n",
       "      <td>DEVELOPMENTAL</td>\n",
       "      <td>INTELLECTUAL_DISABILITY</td>\n",
       "      <td>global_developmental_delay</td>\n",
       "    </tr>\n",
       "    <tr>\n",
       "      <th>2</th>\n",
       "      <td>0</td>\n",
       "      <td>Neurodevelopmental Disorders</td>\n",
       "      <td>DEVELOPMENTAL</td>\n",
       "      <td>INTELLECTUAL_DISABILITY</td>\n",
       "      <td>intellectual_developmental_disorder</td>\n",
       "    </tr>\n",
       "    <tr>\n",
       "      <th>3</th>\n",
       "      <td>0</td>\n",
       "      <td>Neurodevelopmental Disorders</td>\n",
       "      <td>DEVELOPMENTAL</td>\n",
       "      <td>INTELLECTUAL_DISABILITY</td>\n",
       "      <td>intellectual_disability</td>\n",
       "    </tr>\n",
       "    <tr>\n",
       "      <th>4</th>\n",
       "      <td>0</td>\n",
       "      <td>Neurodevelopmental Disorders</td>\n",
       "      <td>DEVELOPMENTAL</td>\n",
       "      <td>INTELLECTUAL_DISABILITY</td>\n",
       "      <td>unspecified_intellectual_developmental_disorder</td>\n",
       "    </tr>\n",
       "  </tbody>\n",
       "</table>\n",
       "</div>"
      ],
      "text/plain": [
       "   ORDER                          NAME         DOMAIN  \\\n",
       "0      0  Neurodevelopmental Disorders  DEVELOPMENTAL   \n",
       "1      0  Neurodevelopmental Disorders  DEVELOPMENTAL   \n",
       "2      0  Neurodevelopmental Disorders  DEVELOPMENTAL   \n",
       "3      0  Neurodevelopmental Disorders  DEVELOPMENTAL   \n",
       "4      0  Neurodevelopmental Disorders  DEVELOPMENTAL   \n",
       "\n",
       "                 CONSTRUCT                                            TOKEN  \n",
       "0  INTELLECTUAL_DISABILITY              borderline_intellectual_functioning  \n",
       "1  INTELLECTUAL_DISABILITY                       global_developmental_delay  \n",
       "2  INTELLECTUAL_DISABILITY              intellectual_developmental_disorder  \n",
       "3  INTELLECTUAL_DISABILITY                          intellectual_disability  \n",
       "4  INTELLECTUAL_DISABILITY  unspecified_intellectual_developmental_disorder  "
      ]
     },
     "execution_count": 6,
     "metadata": {},
     "output_type": "execute_result"
    }
   ],
   "source": [
    "seed_df = pd.read_csv(\"../data/text/seeds_dsm5.csv\", index_col=None, header=0)\n",
    "seed_df.head()"
   ]
  },
  {
   "cell_type": "code",
   "execution_count": 7,
   "metadata": {},
   "outputs": [],
   "source": [
    "doms = list(OrderedDict.fromkeys(seed_df[\"DOMAIN\"]))"
   ]
  },
  {
   "cell_type": "markdown",
   "metadata": {},
   "source": [
    "## Lexicon"
   ]
  },
  {
   "cell_type": "code",
   "execution_count": 8,
   "metadata": {},
   "outputs": [
    {
     "data": {
      "text/plain": [
       "2170"
      ]
     },
     "execution_count": 8,
     "metadata": {},
     "output_type": "execute_result"
    }
   ],
   "source": [
    "lexicon = utilities.load_lexicon([\"cogneuro\", \"dsm\", \"psychiatry\"])\n",
    "lexicon = sorted(list(set(lexicon).intersection(vsm.index).intersection(dtm.columns)))\n",
    "len(lexicon)"
   ]
  },
  {
   "cell_type": "markdown",
   "metadata": {},
   "source": [
    "# Generate term lists\n",
    "\n",
    "## 1. Identify semantically similar terms"
   ]
  },
  {
   "cell_type": "code",
   "execution_count": 9,
   "metadata": {},
   "outputs": [],
   "source": [
    "import numpy as np\n",
    "np.random.seed(42)\n",
    "from scipy.spatial.distance import cdist"
   ]
  },
  {
   "cell_type": "code",
   "execution_count": 10,
   "metadata": {},
   "outputs": [],
   "source": [
    "class_tkns = []\n",
    "for dom in doms:\n",
    "    class_tkns += set(seed_df.loc[seed_df[\"DOMAIN\"] == dom, \"TOKEN\"])\n",
    "unique = [tkn for tkn in class_tkns if class_tkns.count(tkn) == 1]"
   ]
  },
  {
   "cell_type": "code",
   "execution_count": 11,
   "metadata": {},
   "outputs": [
    {
     "name": "stderr",
     "output_type": "stream",
     "text": [
      "/Users/ehbeam/Dropbox/Stanford/Research/Projects/Thesis/program/neuro-knowledge-engine/ontology/ontology.py:577: FutureWarning: \n",
      "Passing list-likes to .loc or [] with any missing label will raise\n",
      "KeyError in the future, you can use .reindex() as an alternative.\n",
      "\n",
      "See the documentation here:\n",
      "https://pandas.pydata.org/pandas-docs/stable/indexing.html#deprecate-loc-reindex-listlike\n",
      "  seed_centroid = np.mean(vsm.loc[seed_tkns])\n"
     ]
    }
   ],
   "source": [
    "list_len = 25\n",
    "n_terms = range(5, list_len+1)\n",
    "lists = ontology.load_dsm_lists(lexicon, vsm, seed_df, n_terms=n_terms, verbose=True)\n",
    "lists.to_csv(\"lists/lists_dsm.csv\", index=None)"
   ]
  },
  {
   "cell_type": "markdown",
   "metadata": {},
   "source": [
    "## 2. Optimize length by similarity to seeds"
   ]
  },
  {
   "cell_type": "code",
   "execution_count": 12,
   "metadata": {},
   "outputs": [],
   "source": [
    "from scipy.spatial.distance import cosine"
   ]
  },
  {
   "cell_type": "code",
   "execution_count": 13,
   "metadata": {},
   "outputs": [
    {
     "ename": "NameError",
     "evalue": "name 'list_lens' is not defined",
     "output_type": "error",
     "traceback": [
      "\u001b[0;31m---------------------------------------------------------------------------\u001b[0m",
      "\u001b[0;31mNameError\u001b[0m                                 Traceback (most recent call last)",
      "\u001b[0;32m<ipython-input-13-8e4c93a91143>\u001b[0m in \u001b[0;36m<module>\u001b[0;34m\u001b[0m\n\u001b[1;32m      1\u001b[0m \u001b[0mops\u001b[0m \u001b[0;34m=\u001b[0m \u001b[0;34m[\u001b[0m\u001b[0;34m]\u001b[0m\u001b[0;34m\u001b[0m\u001b[0;34m\u001b[0m\u001b[0m\n\u001b[0;32m----> 2\u001b[0;31m \u001b[0mdf\u001b[0m \u001b[0;34m=\u001b[0m \u001b[0mpd\u001b[0m\u001b[0;34m.\u001b[0m\u001b[0mDataFrame\u001b[0m\u001b[0;34m(\u001b[0m\u001b[0mindex\u001b[0m\u001b[0;34m=\u001b[0m\u001b[0mdoms\u001b[0m\u001b[0;34m,\u001b[0m \u001b[0mcolumns\u001b[0m\u001b[0;34m=\u001b[0m\u001b[0mlist_lens\u001b[0m\u001b[0;34m)\u001b[0m\u001b[0;34m\u001b[0m\u001b[0;34m\u001b[0m\u001b[0m\n\u001b[0m\u001b[1;32m      3\u001b[0m \u001b[0;32mfor\u001b[0m \u001b[0mdom\u001b[0m \u001b[0;32min\u001b[0m \u001b[0mdoms\u001b[0m\u001b[0;34m:\u001b[0m\u001b[0;34m\u001b[0m\u001b[0;34m\u001b[0m\u001b[0m\n\u001b[1;32m      4\u001b[0m     \u001b[0mseed_tkns\u001b[0m \u001b[0;34m=\u001b[0m \u001b[0mseed_df\u001b[0m\u001b[0;34m.\u001b[0m\u001b[0mloc\u001b[0m\u001b[0;34m[\u001b[0m\u001b[0mseed_df\u001b[0m\u001b[0;34m[\u001b[0m\u001b[0;34m\"DOMAIN\"\u001b[0m\u001b[0;34m]\u001b[0m \u001b[0;34m==\u001b[0m \u001b[0mdom\u001b[0m\u001b[0;34m,\u001b[0m \u001b[0;34m\"TOKEN\"\u001b[0m\u001b[0;34m]\u001b[0m\u001b[0;34m\u001b[0m\u001b[0;34m\u001b[0m\u001b[0m\n\u001b[1;32m      5\u001b[0m     \u001b[0mseed_centroid\u001b[0m \u001b[0;34m=\u001b[0m \u001b[0mnp\u001b[0m\u001b[0;34m.\u001b[0m\u001b[0mmean\u001b[0m\u001b[0;34m(\u001b[0m\u001b[0mvsm\u001b[0m\u001b[0;34m.\u001b[0m\u001b[0mloc\u001b[0m\u001b[0;34m[\u001b[0m\u001b[0mseed_tkns\u001b[0m\u001b[0;34m]\u001b[0m\u001b[0;34m)\u001b[0m\u001b[0;34m\u001b[0m\u001b[0;34m\u001b[0m\u001b[0m\n",
      "\u001b[0;31mNameError\u001b[0m: name 'list_lens' is not defined"
     ]
    }
   ],
   "source": [
    "ops = []\n",
    "df = pd.DataFrame(index=doms, columns=list_lens)\n",
    "for dom in doms:\n",
    "    seed_tkns = seed_df.loc[seed_df[\"DOMAIN\"] == dom, \"TOKEN\"]\n",
    "    seed_centroid = np.mean(vsm.loc[seed_tkns])\n",
    "    for list_len in n_terms:\n",
    "        len_tkns = lists.loc[lists[\"DOMAIN\"] == dom, \"TOKEN\"][:list_len]\n",
    "        len_centroid = np.mean(vsm.loc[len_tkns])\n",
    "        df.loc[dom, list_len] = 1.0 - cosine(seed_centroid, len_centroid)\n",
    "    sims = list(df.loc[dom])\n",
    "    idx = sims.index(max(sims))\n",
    "    ops.append(np.array(list_lens)[idx])\n",
    "df[\"OPTIMAL\"] = ops\n",
    "df.head()"
   ]
  },
  {
   "cell_type": "code",
   "execution_count": null,
   "metadata": {},
   "outputs": [],
   "source": [
    "columns = [\"ORDER\", \"DOMAIN\", \"TOKEN\", \"SOURCE\", \"DISTANCE\"]\n",
    "new = pd.DataFrame(columns=columns)\n",
    "for order, dom in enumerate(doms):\n",
    "    list_len = df.loc[dom, \"OPTIMAL\"]\n",
    "    dom_df = lists.loc[lists[\"DOMAIN\"] == dom][:list_len]\n",
    "    new = new.append(dom_df)"
   ]
  },
  {
   "cell_type": "markdown",
   "metadata": {},
   "source": [
    "## 3. Filter domains by document frequency of terms"
   ]
  },
  {
   "cell_type": "code",
   "execution_count": null,
   "metadata": {},
   "outputs": [],
   "source": [
    "doms = list(OrderedDict.fromkeys(seed_df[\"DOMAIN\"]))\n",
    "filt_doms = []\n",
    "for dom in doms: \n",
    "    tkns = set(new.loc[new[\"DOMAIN\"] == dom, \"TOKEN\"])\n",
    "    freq = sum([1.0 for doc in dtm_bin[tkns].sum(axis=1) if doc > 0]) / float(len(dtm))\n",
    "    if freq > 0.05:\n",
    "        print(\"{:20s} {:6.4f}\".format(dom, freq))\n",
    "        filt_doms.append(dom)\n",
    "doms = filt_doms"
   ]
  },
  {
   "cell_type": "code",
   "execution_count": null,
   "metadata": {},
   "outputs": [],
   "source": [
    "new = new.loc[new[\"DOMAIN\"].isin(filt_doms)]\n",
    "new = new.loc[new[\"DISTANCE\"] > 0]\n",
    "print(\"Domains after filtering: N={}\".format(len(set(new[\"DOMAIN\"]))))"
   ]
  },
  {
   "cell_type": "code",
   "execution_count": null,
   "metadata": {},
   "outputs": [],
   "source": [
    "df.to_csv(\"data/df_dsm_opsim.csv\")\n",
    "new.to_csv(\"lists/lists_dsm_opsim.csv\", index=None)"
   ]
  },
  {
   "cell_type": "markdown",
   "metadata": {},
   "source": [
    "# Assess similarity to seeds"
   ]
  },
  {
   "cell_type": "code",
   "execution_count": null,
   "metadata": {},
   "outputs": [],
   "source": [
    "n_iter = 10000"
   ]
  },
  {
   "cell_type": "markdown",
   "metadata": {},
   "source": [
    "### Centroids"
   ]
  },
  {
   "cell_type": "code",
   "execution_count": null,
   "metadata": {},
   "outputs": [],
   "source": [
    "seed_centroid = ontology.compute_centroid(seed_df, doms, vsm)\n",
    "new_centroid = ontology.compute_centroid(new, doms, vsm)"
   ]
  },
  {
   "cell_type": "markdown",
   "metadata": {},
   "source": [
    "### Bootstrap distribution"
   ]
  },
  {
   "cell_type": "code",
   "execution_count": null,
   "metadata": {},
   "outputs": [],
   "source": [
    "sim_boot = np.zeros((len(doms), n_iter))\n",
    "for n in range(n_iter):\n",
    "    sim_boot[:,n] = 1.0 - ontology.compute_sims_sample(new_centroid, seed_centroid, vsm)"
   ]
  },
  {
   "cell_type": "markdown",
   "metadata": {},
   "source": [
    "### Null distribution"
   ]
  },
  {
   "cell_type": "code",
   "execution_count": null,
   "metadata": {},
   "outputs": [],
   "source": [
    "sim_null = np.empty((len(doms), n_iter))\n",
    "for n in range(n_iter):\n",
    "    sim_null[:,n] = 1.0 - ontology.compute_sims_shuffle(new_centroid, seed_centroid, vsm)"
   ]
  },
  {
   "cell_type": "markdown",
   "metadata": {},
   "source": [
    "### Observed values"
   ]
  },
  {
   "cell_type": "code",
   "execution_count": null,
   "metadata": {},
   "outputs": [],
   "source": [
    "sim_obs = np.reshape(1.0 - ontology.compute_sims(new, seed_centroid, doms, vsm), (len(doms),1))"
   ]
  },
  {
   "cell_type": "markdown",
   "metadata": {},
   "source": [
    "### Comparison test\n",
    "\n",
    "Is similarity to DSM seed centroids higher for **new vs. null** models?"
   ]
  },
  {
   "cell_type": "code",
   "execution_count": null,
   "metadata": {},
   "outputs": [],
   "source": [
    "from statsmodels.stats.multitest import multipletests"
   ]
  },
  {
   "cell_type": "code",
   "execution_count": null,
   "metadata": {},
   "outputs": [],
   "source": [
    "alphas = [0.01, 0.001, 0.0001]"
   ]
  },
  {
   "cell_type": "code",
   "execution_count": null,
   "metadata": {},
   "outputs": [],
   "source": [
    "pvals = np.sum(np.less(sim_obs, sim_null), axis=1) / n_iter\n",
    "fdrs = multipletests(pvals, method=\"fdr_bh\")[1]\n",
    "ontology.report_significance(fdrs, doms, alphas=alphas)"
   ]
  },
  {
   "cell_type": "markdown",
   "metadata": {},
   "source": [
    "### Null confidence interval"
   ]
  },
  {
   "cell_type": "code",
   "execution_count": null,
   "metadata": {},
   "outputs": [],
   "source": [
    "interval = 0.95\n",
    "lower = [sorted(sim_null[i,:])[int(n_iter*(1.0-interval))] for i in range(len(doms))]\n",
    "upper = [sorted(sim_null[i,:])[int(n_iter*interval)] for i in range(len(doms))]"
   ]
  },
  {
   "cell_type": "markdown",
   "metadata": {},
   "source": [
    "## Plot results\n",
    "\n",
    "Comparison of new method vs. method of McCoy *et al.* in terms of similarity between the synonyms and RDoC seed terms. Statistics based on bootstrapping and permutation testing."
   ]
  },
  {
   "cell_type": "code",
   "execution_count": null,
   "metadata": {},
   "outputs": [],
   "source": [
    "import matplotlib.pyplot as plt\n",
    "from matplotlib import cm, font_manager, rcParams\n",
    "%matplotlib inline"
   ]
  },
  {
   "cell_type": "code",
   "execution_count": null,
   "metadata": {},
   "outputs": [],
   "source": [
    "arial = \"../style/Arial Unicode.ttf\"\n",
    "prop_md = font_manager.FontProperties(fname=arial, size=16)\n",
    "prop_lg = font_manager.FontProperties(fname=arial, size=22)\n",
    "prop_xlg = font_manager.FontProperties(fname=arial, size=25)\n",
    "rcParams[\"axes.linewidth\"] = 1.5"
   ]
  },
  {
   "cell_type": "code",
   "execution_count": null,
   "metadata": {},
   "outputs": [],
   "source": [
    "dom_names = [dom.replace(\"_\", \"-\").title() for dom in doms]\n",
    "palette = utilities.palettes[\"dsm\"]"
   ]
  },
  {
   "cell_type": "code",
   "execution_count": null,
   "metadata": {},
   "outputs": [],
   "source": [
    "# Set up figure\n",
    "fig = plt.figure(figsize=(3.5, 4.5))\n",
    "ax = fig.add_axes([0,0,1,1])\n",
    "\n",
    "# Null distributions as line plot\n",
    "plt.plot(range(len(doms)), sim_null.mean(axis=1),\n",
    "         \"gray\", linestyle=\"dashed\", linewidth=2)\n",
    "plt.fill_between(range(len(doms)), lower, y2=upper, \n",
    "                 color=\"gray\", alpha=0.2)\n",
    "\n",
    "# Bootstrap distributions as violin plots\n",
    "for i, dom in enumerate(doms):\n",
    "    for data, obs in [(sim_boot, sim_obs)]:\n",
    "        data = sorted(data[i])\n",
    "        v = ax.violinplot(data, positions=[i], \n",
    "                          showmeans=False, showmedians=False, widths=0.8)\n",
    "        for pc in v[\"bodies\"]:\n",
    "            pc.set_facecolor(palette[i])\n",
    "            pc.set_edgecolor(palette[i])\n",
    "            pc.set_linewidth(0.5)\n",
    "            pc.set_alpha(0.6)\n",
    "        for line in [\"cmaxes\", \"cmins\", \"cbars\"]:\n",
    "            v[line].set_edgecolor(\"none\")\n",
    "        plt.plot([i-0.33, i+0.33], [np.mean(obs[i]), np.mean(obs[i])], \n",
    "                 c=palette[i], alpha=1, lw=2)\n",
    "\n",
    "# Set plot parameters\n",
    "ax.set_xticks(range(len(doms)))\n",
    "ax.set_xticklabels(dom_names, rotation=60, \n",
    "                   ha=\"right\", fontproperties=prop_md)\n",
    "plt.xticks(fontproperties=prop_md)\n",
    "plt.yticks(fontproperties=prop_xlg)\n",
    "ax.yaxis.set_label_coords(-0.35, 0.5)\n",
    "plt.xlim([-1, len(doms)])\n",
    "plt.ylim([-0.2, 1])\n",
    "ax.spines[\"right\"].set_visible(False)\n",
    "ax.spines[\"top\"].set_visible(False)\n",
    "ax.xaxis.set_tick_params(width=1.5)\n",
    "ax.yaxis.set_tick_params(width=1.5, length=5)\n",
    "\n",
    "# Export figure\n",
    "plt.savefig(\"figures/dsm_seed_sim.png\", dpi=250, bbox_inches=\"tight\")\n",
    "plt.show()"
   ]
  },
  {
   "cell_type": "markdown",
   "metadata": {},
   "source": [
    "# Visualize the term lists"
   ]
  },
  {
   "cell_type": "code",
   "execution_count": null,
   "metadata": {},
   "outputs": [],
   "source": [
    "dtm_bin = utilities.load_doc_term_matrix(version=dtm_version, binarize=True)"
   ]
  },
  {
   "cell_type": "code",
   "execution_count": null,
   "metadata": {},
   "outputs": [],
   "source": [
    "ontology.plot_wordclouds(\"dsm\", doms, new, dtm_bin)"
   ]
  },
  {
   "cell_type": "markdown",
   "metadata": {},
   "source": [
    "# Visualize the circuits"
   ]
  },
  {
   "cell_type": "markdown",
   "metadata": {},
   "source": [
    "## Compute PPMI-weighted links"
   ]
  },
  {
   "cell_type": "code",
   "execution_count": null,
   "metadata": {},
   "outputs": [],
   "source": [
    "act_bin = utilities.load_coordinates()\n",
    "print(\"Document N={}, Structure N={}\".format(act_bin.shape[0], act_bin.shape[1]))"
   ]
  },
  {
   "cell_type": "code",
   "execution_count": null,
   "metadata": {},
   "outputs": [],
   "source": [
    "scores = utilities.score_lists(new, dtm_bin, label_var=\"DOMAIN\")\n",
    "print(\"Document N={}, Structure N={}\".format(scores.shape[0], scores.shape[1]))"
   ]
  },
  {
   "cell_type": "code",
   "execution_count": null,
   "metadata": {},
   "outputs": [],
   "source": [
    "pmids = act_bin.index.intersection(scores.index)\n",
    "len(pmids)"
   ]
  },
  {
   "cell_type": "code",
   "execution_count": null,
   "metadata": {},
   "outputs": [],
   "source": [
    "act_bin = act_bin.loc[pmids]\n",
    "scores = scores.loc[pmids]"
   ]
  },
  {
   "cell_type": "code",
   "execution_count": null,
   "metadata": {},
   "outputs": [],
   "source": [
    "dom_links = ontology.compute_cooccurrences(act_bin, scores)"
   ]
  },
  {
   "cell_type": "code",
   "execution_count": null,
   "metadata": {},
   "outputs": [],
   "source": [
    "n_iter = 10000\n",
    "dom_links_null = ontology.compute_cooccurrences_null(act_bin, scores, \n",
    "                                                     n_iter=n_iter, verbose=True)"
   ]
  },
  {
   "cell_type": "code",
   "execution_count": null,
   "metadata": {},
   "outputs": [],
   "source": [
    "p = pd.DataFrame(index=act_bin.columns, columns=scores.columns)\n",
    "for i, struct in enumerate(act_bin.columns):\n",
    "    for j, dom in enumerate(scores.columns):\n",
    "        obs = dom_links.values[i,j]\n",
    "        null = dom_links_null[i,j,:]\n",
    "        p.loc[struct, dom] = np.sum(null > obs) / float(n_iter)"
   ]
  },
  {
   "cell_type": "code",
   "execution_count": null,
   "metadata": {},
   "outputs": [],
   "source": [
    "fdr = multipletests(p.values.ravel(), method=\"fdr_bh\")[1]\n",
    "fdr = pd.DataFrame(fdr.reshape(p.shape), \n",
    "                   index=act_bin.columns, columns=scores.columns)"
   ]
  },
  {
   "cell_type": "code",
   "execution_count": null,
   "metadata": {},
   "outputs": [],
   "source": [
    "dom_links_thres = dom_links[fdr < 0.01]\n",
    "dom_links_thres = dom_links_thres.fillna(0.0)"
   ]
  },
  {
   "cell_type": "code",
   "execution_count": null,
   "metadata": {},
   "outputs": [],
   "source": [
    "dom_links_thres.to_csv(\"circuits/circuits_dsm.csv\")"
   ]
  },
  {
   "cell_type": "markdown",
   "metadata": {},
   "source": [
    "## Map PPMI-weighted links"
   ]
  },
  {
   "cell_type": "code",
   "execution_count": null,
   "metadata": {},
   "outputs": [],
   "source": [
    "atlas = utilities.load_atlas()"
   ]
  },
  {
   "cell_type": "code",
   "execution_count": null,
   "metadata": {},
   "outputs": [],
   "source": [
    "purples = utilities.make_cmap([(1,1,1), (0.365,0,0.878)])\n",
    "chartreuses = utilities.make_cmap([(1,1,1), (0.345,0.769,0)])\n",
    "magentas = utilities.make_cmap([(1,1,1), (0.620,0,0.686)])\n",
    "yellows = utilities.make_cmap([(1,1,1), (0.937,0.749,0)])\n",
    "browns = utilities.make_cmap([(1,1,1), (0.82,0.502,0)])\n",
    "cmaps = [purples, chartreuses, \"Oranges\", \"Blues\", \n",
    "         \"Reds\", magentas, yellows, \"Greens\", browns]"
   ]
  },
  {
   "cell_type": "code",
   "execution_count": null,
   "metadata": {
    "scrolled": false
   },
   "outputs": [],
   "source": [
    "utilities.map_plane(dom_links_thres, atlas, \"figures/circuits/dsm\", suffix=\"_z\", \n",
    "                    cmaps=cmaps, plane=\"z\", cbar=True, vmin=0.0, vmax=0.4,\n",
    "                    verbose=True, print_fig=True, annotate=True)"
   ]
  },
  {
   "cell_type": "code",
   "execution_count": null,
   "metadata": {},
   "outputs": [],
   "source": [
    "for plane in [\"x\", \"y\"]:\n",
    "    utilities.map_plane(dom_links_thres, atlas, \"figures/circuits/dsm\", suffix=\"_\"+plane, \n",
    "                        cmaps=cmaps, plane=plane, cbar=True, vmin=0.0, vmax=0.4,\n",
    "                        verbose=False, print_fig=False, annotate=True)"
   ]
  }
 ],
 "metadata": {
  "kernelspec": {
   "display_name": "Python (Ontol)",
   "language": "python",
   "name": "ontol"
  },
  "language_info": {
   "codemirror_mode": {
    "name": "ipython",
    "version": 3
   },
   "file_extension": ".py",
   "mimetype": "text/x-python",
   "name": "python",
   "nbconvert_exporter": "python",
   "pygments_lexer": "ipython3",
   "version": "3.6.8"
  }
 },
 "nbformat": 4,
 "nbformat_minor": 2
}
