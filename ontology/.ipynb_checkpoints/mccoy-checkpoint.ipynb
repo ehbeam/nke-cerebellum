{
 "cells": [
  {
   "cell_type": "code",
   "execution_count": 1,
   "metadata": {},
   "outputs": [],
   "source": [
    "import os\n",
    "import pandas as pd\n",
    "from CQHDimensionalPhenotyper import *"
   ]
  },
  {
   "cell_type": "code",
   "execution_count": null,
   "metadata": {},
   "outputs": [],
   "source": [
    "pmids = pd.read_csv(\"../data/metadata_filt_180811.csv\", encoding=\"latin-1\", index_col=None)\n",
    "pmids = pmids.drop_na(subset=[\"PMID\"])\n",
    "pmids = pmids[\"PMID\"].astype(\"\")"
   ]
  },
  {
   "cell_type": "code",
   "execution_count": 2,
   "metadata": {},
   "outputs": [],
   "source": [
    "dir = \"../nlp/corpus\"\n",
    "ids = [file.replace(\".txt\", \"\") for file in os.listdir(dir) if not file.startswith(\".\")]"
   ]
  },
  {
   "cell_type": "code",
   "execution_count": 3,
   "metadata": {},
   "outputs": [],
   "source": [
    "domains = [\"negative\", \"positive\", \"cognitive\", \"social\", \"arousal_regulatory\"]\n",
    "scores = {domain: [] for domain in domains}\n",
    "for id in ids:\n",
    "    raw_text = open(\"{}/{}.txt\".format(dir, id)).read()\n",
    "    results = count_document(raw_text)\n",
    "    results = reduce_counts(results)\n",
    "    for domain in domains:\n",
    "        scores[domain].append(results[domain])"
   ]
  },
  {
   "cell_type": "code",
   "execution_count": 4,
   "metadata": {},
   "outputs": [],
   "source": [
    "version = 190326\n",
    "df = pd.DataFrame(scores, index=ids)\n",
    "df.to_csv(\"scores_cqh.csv\", columns=domains)"
   ]
  }
 ],
 "metadata": {
  "kernelspec": {
   "display_name": "Python (RDoC)",
   "language": "python",
   "name": "rdoc"
  },
  "language_info": {
   "codemirror_mode": {
    "name": "ipython",
    "version": 2
   },
   "file_extension": ".py",
   "mimetype": "text/x-python",
   "name": "python",
   "nbconvert_exporter": "python",
   "pygments_lexer": "ipython2",
   "version": "2.7.15"
  }
 },
 "nbformat": 4,
 "nbformat_minor": 2
}
