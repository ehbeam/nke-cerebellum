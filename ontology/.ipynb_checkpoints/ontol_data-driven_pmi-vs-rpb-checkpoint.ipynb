{
 "cells": [
  {
   "cell_type": "markdown",
   "metadata": {},
   "source": [
    "# Load the data"
   ]
  },
  {
   "cell_type": "code",
   "execution_count": 1,
   "metadata": {},
   "outputs": [],
   "source": [
    "import pandas as pd\n",
    "from utilities import *"
   ]
  },
  {
   "cell_type": "markdown",
   "metadata": {},
   "source": [
    "## Brain activation coordinates"
   ]
  },
  {
   "cell_type": "code",
   "execution_count": 2,
   "metadata": {},
   "outputs": [
    {
     "name": "stdout",
     "output_type": "stream",
     "text": [
      "Document N=18155, Structure N=114\n"
     ]
    }
   ],
   "source": [
    "act_bin = load_coordinates()\n",
    "print(\"Document N={}, Structure N={}\".format(act_bin.shape[0], act_bin.shape[1]))"
   ]
  },
  {
   "cell_type": "markdown",
   "metadata": {},
   "source": [
    "## Terms for mental functions"
   ]
  },
  {
   "cell_type": "code",
   "execution_count": 3,
   "metadata": {},
   "outputs": [],
   "source": [
    "version = 190124\n",
    "dtm_bin = load_doc_term_matrix(version=version, binarize=True)"
   ]
  },
  {
   "cell_type": "code",
   "execution_count": 4,
   "metadata": {},
   "outputs": [
    {
     "data": {
      "text/plain": [
       "2208"
      ]
     },
     "execution_count": 4,
     "metadata": {},
     "output_type": "execute_result"
    }
   ],
   "source": [
    "lexicon = load_lexicon([\"cogneuro\"])\n",
    "lexicon = sorted(list(set(lexicon).intersection(dtm_bin.columns)))\n",
    "len(lexicon)"
   ]
  },
  {
   "cell_type": "code",
   "execution_count": 5,
   "metadata": {},
   "outputs": [
    {
     "name": "stdout",
     "output_type": "stream",
     "text": [
      "Document N=18155, Term N=2208\n"
     ]
    }
   ],
   "source": [
    "dtm_bin = dtm_bin[lexicon]\n",
    "print(\"Document N={}, Term N={}\".format(dtm_bin.shape[0], dtm_bin.shape[1]))"
   ]
  },
  {
   "cell_type": "markdown",
   "metadata": {},
   "source": [
    "## Document splits"
   ]
  },
  {
   "cell_type": "code",
   "execution_count": 6,
   "metadata": {},
   "outputs": [
    {
     "name": "stdout",
     "output_type": "stream",
     "text": [
      "Training N=12708, Validation N=3631\n"
     ]
    }
   ],
   "source": [
    "train, val = [[int(pmid.strip()) for pmid in open(\"../data/splits/{}.txt\".format(split))] for split in [\"train\", \"validation\"]]\n",
    "print(\"Training N={}, Validation N={}\".format(len(train), len(val)))"
   ]
  },
  {
   "cell_type": "markdown",
   "metadata": {},
   "source": [
    "# Most strongly linked terms by PMI\n",
    "\n",
    "Links are computed as PMI-weighted co-occurrences across the training set"
   ]
  },
  {
   "cell_type": "code",
   "execution_count": 7,
   "metadata": {},
   "outputs": [],
   "source": [
    "import numpy as np"
   ]
  },
  {
   "cell_type": "code",
   "execution_count": 8,
   "metadata": {},
   "outputs": [
    {
     "name": "stdout",
     "output_type": "stream",
     "text": [
      "Structure N=114, Term N=1637\n"
     ]
    }
   ],
   "source": [
    "stm = np.dot(act_bin.loc[train].transpose(), dtm_bin.loc[train])\n",
    "stm = pd.DataFrame(stm, columns=dtm_bin.columns, index=act_bin.columns)\n",
    "stm = pmi(stm, positive=False)\n",
    "stm = stm.dropna(axis=1, how=\"all\") # Drop terms with no co-occurrences\n",
    "print(\"Structure N={}, Term N={}\".format(stm.shape[0], stm.shape[1]))"
   ]
  },
  {
   "cell_type": "markdown",
   "metadata": {},
   "source": [
    "### Terms most strongly linked to the left amygdala"
   ]
  },
  {
   "cell_type": "code",
   "execution_count": 9,
   "metadata": {},
   "outputs": [
    {
     "data": {
      "text/plain": [
       "olfactory_stimulus_transduction                4.273268\n",
       "auditory_system_function                       3.174656\n",
       "letter_naming_task                             2.886974\n",
       "eye_puff                                       2.481509\n",
       "face_identification_task                       2.427441\n",
       "waisinformation                                2.039676\n",
       "emotion_expression_identification              2.039676\n",
       "pavlovian_conditioning_task                    2.021976\n",
       "social_norm_processing_task                    1.970683\n",
       "offensive_aggression                           1.937893\n",
       "counterconditioning                            1.816532\n",
       "time_wall                                      1.734294\n",
       "category_based_induction                       1.708319\n",
       "wais_picture_completion                        1.658308\n",
       "behavioral_inhibition_temperament              1.646187\n",
       "mixed_gamble_task                              1.587691\n",
       "passive_attention                              1.500679\n",
       "face_maintenance                               1.500679\n",
       "olfactory_discrimination                       1.494190\n",
       "subjective_emotional_picture_discrimination    1.401588\n",
       "chewingswallowing                              1.401588\n",
       "rememberknow_task                              1.378277\n",
       "functional_fixedness                           1.364547\n",
       "visual_world_paradigm                          1.328829\n",
       "determining_gender                             1.311437\n",
       "Name: left_amygdala, dtype: float64"
      ]
     },
     "execution_count": 9,
     "metadata": {},
     "output_type": "execute_result"
    }
   ],
   "source": [
    "amyg_terms = stm.loc[\"left_amygdala\"].sort_values(ascending=False)[:25]\n",
    "amyg_terms"
   ]
  },
  {
   "cell_type": "code",
   "execution_count": 10,
   "metadata": {},
   "outputs": [
    {
     "data": {
      "text/plain": [
       "olfactory_stimulus_transduction                0.005508\n",
       "auditory_system_function                       0.005508\n",
       "letter_naming_task                             0.016524\n",
       "eye_puff                                       0.005508\n",
       "face_identification_task                       0.027541\n",
       "waisinformation                                0.016524\n",
       "emotion_expression_identification              0.005508\n",
       "pavlovian_conditioning_task                    0.033049\n",
       "social_norm_processing_task                    0.005508\n",
       "offensive_aggression                           0.005508\n",
       "counterconditioning                            0.038557\n",
       "time_wall                                      0.011016\n",
       "category_based_induction                       0.005508\n",
       "wais_picture_completion                        0.016524\n",
       "behavioral_inhibition_temperament              0.033049\n",
       "mixed_gamble_task                              0.016524\n",
       "passive_attention                              0.027541\n",
       "face_maintenance                               0.022032\n",
       "olfactory_discrimination                       0.181768\n",
       "subjective_emotional_picture_discrimination    0.011016\n",
       "chewingswallowing                              0.005508\n",
       "rememberknow_task                              0.060589\n",
       "functional_fixedness                           0.016524\n",
       "visual_world_paradigm                          0.044065\n",
       "determining_gender                             0.011016\n",
       "dtype: float64"
      ]
     },
     "execution_count": 10,
     "metadata": {},
     "output_type": "execute_result"
    }
   ],
   "source": [
    "freqs = dtm_bin[amyg_terms.index].mean() * 100\n",
    "freqs"
   ]
  },
  {
   "cell_type": "code",
   "execution_count": 11,
   "metadata": {},
   "outputs": [
    {
     "data": {
      "text/plain": [
       "0.1817681079592399"
      ]
     },
     "execution_count": 11,
     "metadata": {},
     "output_type": "execute_result"
    }
   ],
   "source": [
    "max(freqs)"
   ]
  },
  {
   "cell_type": "code",
   "execution_count": 12,
   "metadata": {},
   "outputs": [
    {
     "data": {
      "text/plain": [
       "33.00000000000001"
      ]
     },
     "execution_count": 12,
     "metadata": {},
     "output_type": "execute_result"
    }
   ],
   "source": [
    "max(freqs) * len(dtm_bin) / 100"
   ]
  },
  {
   "cell_type": "markdown",
   "metadata": {},
   "source": [
    "### Structures most strongly linked to *face_identification_task*"
   ]
  },
  {
   "cell_type": "code",
   "execution_count": 13,
   "metadata": {},
   "outputs": [
    {
     "data": {
      "text/plain": [
       "right_parahippocampal_gyrus_anterior_division    2.526130\n",
       "left_frontal_medial_cortex                       2.453793\n",
       "right_amygdala                                   2.450999\n",
       "left_parahippocampal_gyrus_anterior_division     2.435121\n",
       "right_frontal_medial_cortex                      2.429052\n",
       "left_amygdala                                    2.427441\n",
       "right_hippocampus                                2.116207\n",
       "left_temporal_pole                               2.013696\n",
       "right_temporal_pole                              1.987670\n",
       "left_cingulate_gyrus_anterior_division           1.569111\n",
       "Name: face_identification_task, dtype: float64"
      ]
     },
     "execution_count": 13,
     "metadata": {},
     "output_type": "execute_result"
    }
   ],
   "source": [
    "stm[\"face_identification_task\"].sort_values(ascending=False)[:10]"
   ]
  },
  {
   "cell_type": "markdown",
   "metadata": {},
   "source": [
    "# Most strongly associated terms by *r<sub>pb</sub>*"
   ]
  },
  {
   "cell_type": "code",
   "execution_count": 14,
   "metadata": {},
   "outputs": [],
   "source": [
    "from scipy.stats import pointbiserialr"
   ]
  },
  {
   "cell_type": "code",
   "execution_count": 15,
   "metadata": {},
   "outputs": [
    {
     "data": {
      "text/html": [
       "<div>\n",
       "<style scoped>\n",
       "    .dataframe tbody tr th:only-of-type {\n",
       "        vertical-align: middle;\n",
       "    }\n",
       "\n",
       "    .dataframe tbody tr th {\n",
       "        vertical-align: top;\n",
       "    }\n",
       "\n",
       "    .dataframe thead th {\n",
       "        text-align: right;\n",
       "    }\n",
       "</style>\n",
       "<table border=\"1\" class=\"dataframe\">\n",
       "  <thead>\n",
       "    <tr style=\"text-align: right;\">\n",
       "      <th></th>\n",
       "      <th>CLUSTER</th>\n",
       "      <th>STRUCTURE</th>\n",
       "    </tr>\n",
       "  </thead>\n",
       "  <tbody>\n",
       "    <tr>\n",
       "      <th>84</th>\n",
       "      <td>6</td>\n",
       "      <td>left_amygdala</td>\n",
       "    </tr>\n",
       "  </tbody>\n",
       "</table>\n",
       "</div>"
      ],
      "text/plain": [
       "    CLUSTER      STRUCTURE\n",
       "84        6  left_amygdala"
      ]
     },
     "execution_count": 15,
     "metadata": {},
     "output_type": "execute_result"
    }
   ],
   "source": [
    "lists, circuits = load_ontology(7)\n",
    "circuits.loc[circuits[\"STRUCTURE\"] == \"left_amygdala\"]"
   ]
  },
  {
   "cell_type": "code",
   "execution_count": 16,
   "metadata": {},
   "outputs": [
    {
     "name": "stderr",
     "output_type": "stream",
     "text": [
      "/Users/ehbeam/anaconda/envs/ontol/lib/python3.6/site-packages/scipy/stats/stats.py:3010: RuntimeWarning: invalid value encountered in double_scalars\n",
      "  r = r_num / r_den\n"
     ]
    },
    {
     "data": {
      "text/html": [
       "<div>\n",
       "<style scoped>\n",
       "    .dataframe tbody tr th:only-of-type {\n",
       "        vertical-align: middle;\n",
       "    }\n",
       "\n",
       "    .dataframe tbody tr th {\n",
       "        vertical-align: top;\n",
       "    }\n",
       "\n",
       "    .dataframe thead th {\n",
       "        text-align: right;\n",
       "    }\n",
       "</style>\n",
       "<table border=\"1\" class=\"dataframe\">\n",
       "  <thead>\n",
       "    <tr style=\"text-align: right;\">\n",
       "      <th></th>\n",
       "      <th>TOKEN</th>\n",
       "      <th>R</th>\n",
       "    </tr>\n",
       "  </thead>\n",
       "  <tbody>\n",
       "    <tr>\n",
       "      <th>0</th>\n",
       "      <td>emotion</td>\n",
       "      <td>0.204320</td>\n",
       "    </tr>\n",
       "    <tr>\n",
       "      <th>1</th>\n",
       "      <td>fear</td>\n",
       "      <td>0.202945</td>\n",
       "    </tr>\n",
       "    <tr>\n",
       "      <th>2</th>\n",
       "      <td>memory</td>\n",
       "      <td>0.181393</td>\n",
       "    </tr>\n",
       "    <tr>\n",
       "      <th>3</th>\n",
       "      <td>valence</td>\n",
       "      <td>0.173991</td>\n",
       "    </tr>\n",
       "    <tr>\n",
       "      <th>4</th>\n",
       "      <td>facial_expression</td>\n",
       "      <td>0.171110</td>\n",
       "    </tr>\n",
       "  </tbody>\n",
       "</table>\n",
       "</div>"
      ],
      "text/plain": [
       "               TOKEN         R\n",
       "0            emotion  0.204320\n",
       "1               fear  0.202945\n",
       "2             memory  0.181393\n",
       "3            valence  0.173991\n",
       "4  facial_expression  0.171110"
      ]
     },
     "execution_count": 16,
     "metadata": {},
     "output_type": "execute_result"
    }
   ],
   "source": [
    "list_lens = range(5, 26)\n",
    "structures = list(circuits.loc[circuits[\"CLUSTER\"] == 6, \"STRUCTURE\"])\n",
    "centroid = np.mean(act_bin.loc[train, structures], axis=1)\n",
    "R = pd.Series([pointbiserialr(dtm_bin.loc[train, word], centroid)[0] \n",
    "               for word in dtm_bin.columns], index=dtm_bin.columns)\n",
    "R = R[R > 0].sort_values(ascending=False)[:max(list_lens)]\n",
    "R = pd.DataFrame({\"TOKEN\": R.index, \"R\": R.values})\n",
    "R.head()"
   ]
  },
  {
   "cell_type": "code",
   "execution_count": 17,
   "metadata": {},
   "outputs": [
    {
     "data": {
      "text/plain": [
       "emotion                                   18.253925\n",
       "fear                                      10.862021\n",
       "memory                                    17.796750\n",
       "valence                                   11.936106\n",
       "facial_expression                          9.969705\n",
       "declarative_memory                         5.023410\n",
       "arousal                                   19.476728\n",
       "emotional_memory                           4.026439\n",
       "episodic_memory                           16.331589\n",
       "recognition_memory                         9.909116\n",
       "face                                      12.360231\n",
       "remembering                               10.724318\n",
       "emotional_expression                       6.383916\n",
       "picture                                   13.742771\n",
       "negative_emotion                           9.666758\n",
       "recognition                               14.827871\n",
       "encoding                                  12.448361\n",
       "international_affective_picture_system     3.916277\n",
       "memory_process                             4.874690\n",
       "anxiety                                   14.370697\n",
       "recall                                    18.182319\n",
       "disgust                                    6.841091\n",
       "sadness                                    7.430460\n",
       "anger                                      7.298265\n",
       "extinction                                 5.331865\n",
       "dtype: float64"
      ]
     },
     "execution_count": 17,
     "metadata": {},
     "output_type": "execute_result"
    }
   ],
   "source": [
    "freqs = dtm_bin[list(R[\"TOKEN\"])].mean() * 100\n",
    "freqs"
   ]
  },
  {
   "cell_type": "code",
   "execution_count": 18,
   "metadata": {},
   "outputs": [
    {
     "data": {
      "text/plain": [
       "19.476728174056735"
      ]
     },
     "execution_count": 18,
     "metadata": {},
     "output_type": "execute_result"
    }
   ],
   "source": [
    "max(freqs)"
   ]
  },
  {
   "cell_type": "code",
   "execution_count": 19,
   "metadata": {},
   "outputs": [
    {
     "data": {
      "text/plain": [
       "3536.0"
      ]
     },
     "execution_count": 19,
     "metadata": {},
     "output_type": "execute_result"
    }
   ],
   "source": [
    "max(freqs) * len(dtm_bin) / 100"
   ]
  }
 ],
 "metadata": {
  "kernelspec": {
   "display_name": "Python (Ontol)",
   "language": "python",
   "name": "ontol"
  },
  "language_info": {
   "codemirror_mode": {
    "name": "ipython",
    "version": 3
   },
   "file_extension": ".py",
   "mimetype": "text/x-python",
   "name": "python",
   "nbconvert_exporter": "python",
   "pygments_lexer": "ipython3",
   "version": "3.6.8"
  }
 },
 "nbformat": 4,
 "nbformat_minor": 2
}
