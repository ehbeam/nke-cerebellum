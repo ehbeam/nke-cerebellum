{
 "cells": [
  {
   "cell_type": "code",
   "execution_count": 1,
   "metadata": {},
   "outputs": [],
   "source": [
    "import sys\n",
    "sys.path.append(\"..\")\n",
    "import hierarchy, style, utilities\n",
    "from ontology import ontology"
   ]
  },
  {
   "cell_type": "markdown",
   "metadata": {},
   "source": [
    "# Load the data\n",
    "\n",
    "## Document-term matrix"
   ]
  },
  {
   "cell_type": "code",
   "execution_count": 2,
   "metadata": {},
   "outputs": [
    {
     "data": {
      "text/plain": [
       "2208"
      ]
     },
     "execution_count": 2,
     "metadata": {},
     "output_type": "execute_result"
    }
   ],
   "source": [
    "lexicon = utilities.load_lexicon([\"cogneuro\"])\n",
    "len(lexicon)"
   ]
  },
  {
   "cell_type": "code",
   "execution_count": 3,
   "metadata": {},
   "outputs": [
    {
     "data": {
      "text/plain": [
       "1683"
      ]
     },
     "execution_count": 3,
     "metadata": {},
     "output_type": "execute_result"
    }
   ],
   "source": [
    "version = 190325\n",
    "dtm_bin = utilities.load_doc_term_matrix(version=version, binarize=True)\n",
    "lexicon = sorted(list(set(lexicon).intersection(dtm_bin.columns)))\n",
    "len(lexicon)"
   ]
  },
  {
   "cell_type": "code",
   "execution_count": 4,
   "metadata": {},
   "outputs": [
    {
     "name": "stdout",
     "output_type": "stream",
     "text": [
      "Document N=18155, Term N=1683\n"
     ]
    }
   ],
   "source": [
    "dtm_bin = dtm_bin[lexicon]\n",
    "print(\"Document N={}, Term N={}\".format(\n",
    "      dtm_bin.shape[0], dtm_bin.shape[1]))"
   ]
  },
  {
   "cell_type": "markdown",
   "metadata": {},
   "source": [
    "## Brain activation coordinates"
   ]
  },
  {
   "cell_type": "code",
   "execution_count": 5,
   "metadata": {},
   "outputs": [
    {
     "name": "stdout",
     "output_type": "stream",
     "text": [
      "Document N=18155, Structure N=114\n"
     ]
    }
   ],
   "source": [
    "act_bin = utilities.load_coordinates()\n",
    "print(\"Document N={}, Structure N={}\".format(\n",
    "      act_bin.shape[0], act_bin.shape[1]))"
   ]
  },
  {
   "cell_type": "code",
   "execution_count": 6,
   "metadata": {},
   "outputs": [],
   "source": [
    "structures = list(act_bin.columns)"
   ]
  },
  {
   "cell_type": "markdown",
   "metadata": {},
   "source": [
    "## Data-driven domains"
   ]
  },
  {
   "cell_type": "code",
   "execution_count": 7,
   "metadata": {},
   "outputs": [],
   "source": [
    "from collections import OrderedDict"
   ]
  },
  {
   "cell_type": "code",
   "execution_count": 8,
   "metadata": {},
   "outputs": [
    {
     "data": {
      "text/plain": [
       "[6, 12]"
      ]
     },
     "execution_count": 8,
     "metadata": {},
     "output_type": "execute_result"
    }
   ],
   "source": [
    "domain_range = [6, 12, 24]\n",
    "domain_difs = [domain_range[i] - domain_range[i-1] for i in range(1, len(domain_range))]\n",
    "domain_difs"
   ]
  },
  {
   "cell_type": "code",
   "execution_count": 9,
   "metadata": {},
   "outputs": [],
   "source": [
    "def name_domains(lists, dtm):\n",
    "    \n",
    "    k = len(set(lists[\"CLUSTER\"]))\n",
    "    names, degs = [\"\"]*k, [0]*k\n",
    "    terms = {i: list(set(lists.loc[lists[\"CLUSTER\"] == i+1, \"TOKEN\"])) for i in range(k)}\n",
    "    \n",
    "    while \"\" in names:\n",
    "        for i in range(k):\n",
    "            degrees = ontology.term_degree_centrality(i+1, lists, dtm, dtm.index)\n",
    "            degrees = degrees.loc[terms[i]].sort_values(ascending=False)\n",
    "            name = degrees.index[0].upper()\n",
    "            \n",
    "            if name not in names:\n",
    "                names[i] = name\n",
    "                degs[i] = max(degrees)\n",
    "                \n",
    "            elif name in names:\n",
    "                name_idx = names.index(name)\n",
    "                if degs[name_idx] > degs[i]:\n",
    "                    terms[i] = [term for term in terms[i] if term != name.lower()]\n",
    "    return names"
   ]
  },
  {
   "cell_type": "code",
   "execution_count": 10,
   "metadata": {},
   "outputs": [],
   "source": [
    "path = \"../ontology/\"\n",
    "suffix = \"_lr\"\n",
    "domains = {}\n",
    "\n",
    "for k in domain_range:\n",
    "    \n",
    "    lists, circuit = ontology.load_ontology(k, path=path, suffix=suffix)\n",
    "    \n",
    "    if \"DOMAIN\" not in lists.columns or \"DOMAIN\" not in circuit.columns:\n",
    "        names = name_domains(lists, dtm_bin)\n",
    "\n",
    "        lists[\"DOMAIN\"] = [names[i-1] for i in lists[\"CLUSTER\"]]\n",
    "        lists = lists[[\"DOMAIN\", \"CLUSTER\", \"TOKEN\", \"R\"]]\n",
    "        lists.to_csv(\"{}lists/lists_k{:02d}_oplen{}.csv\".format(path, k, suffix), index=None)\n",
    "\n",
    "        circuit[\"DOMAIN\"] = [names[i-1] for i in circuit[\"CLUSTER\"]]\n",
    "        circuit = circuit[[\"DOMAIN\", \"CLUSTER\", \"STRUCTURE\"]]\n",
    "        circuit.to_csv(\"{}circuits/circuits_k{:02d}.csv\".format(path, k), index=None)\n",
    "    \n",
    "    domains[k] = {\"lists\": lists, \"circuit\": circuit}"
   ]
  },
  {
   "cell_type": "markdown",
   "metadata": {},
   "source": [
    "# Re-index k=6 domains"
   ]
  },
  {
   "cell_type": "code",
   "execution_count": 11,
   "metadata": {},
   "outputs": [
    {
     "data": {
      "text/plain": [
       "['HEARING', 'VISION', 'MEMORY', 'MANIPULATION', 'REACTION_TIME', 'REWARD']"
      ]
     },
     "execution_count": 11,
     "metadata": {},
     "output_type": "execute_result"
    }
   ],
   "source": [
    "list(OrderedDict.fromkeys(domains[6][\"lists\"][\"DOMAIN\"]))"
   ]
  },
  {
   "cell_type": "code",
   "execution_count": 12,
   "metadata": {},
   "outputs": [],
   "source": [
    "old2new = {1:6, 2:5, 3:1, 4:4, 5:3, 6:2}"
   ]
  },
  {
   "cell_type": "code",
   "execution_count": 13,
   "metadata": {},
   "outputs": [
    {
     "data": {
      "text/plain": [
       "['MEMORY', 'REWARD', 'REACTION_TIME', 'MANIPULATION', 'VISION', 'HEARING']"
      ]
     },
     "execution_count": 13,
     "metadata": {},
     "output_type": "execute_result"
    }
   ],
   "source": [
    "domains[6][\"lists\"][\"CLUSTER\"] = [old2new[old] for old in domains[6][\"lists\"][\"CLUSTER\"]]\n",
    "domains[6][\"lists\"] = domains[6][\"lists\"].sort_values(\"CLUSTER\")\n",
    "list(OrderedDict.fromkeys(domains[6][\"lists\"][\"DOMAIN\"]))"
   ]
  },
  {
   "cell_type": "code",
   "execution_count": 14,
   "metadata": {},
   "outputs": [
    {
     "data": {
      "text/plain": [
       "['MEMORY', 'REWARD', 'REACTION_TIME', 'MANIPULATION', 'VISION', 'HEARING']"
      ]
     },
     "execution_count": 14,
     "metadata": {},
     "output_type": "execute_result"
    }
   ],
   "source": [
    "domains[6][\"circuit\"][\"CLUSTER\"] = [old2new[old] for old in domains[6][\"circuit\"][\"CLUSTER\"]]\n",
    "domains[6][\"circuit\"] = domains[6][\"circuit\"].sort_values(\"CLUSTER\")\n",
    "list(OrderedDict.fromkeys(domains[6][\"circuit\"][\"DOMAIN\"]))"
   ]
  },
  {
   "cell_type": "markdown",
   "metadata": {},
   "source": [
    "# Compute domain similarity\n",
    "\n",
    "## Observed values\n",
    "\n",
    "Similarity between pairs <i>k</i> = 2 and 3, 3 and 4, etc."
   ]
  },
  {
   "cell_type": "code",
   "execution_count": 15,
   "metadata": {},
   "outputs": [],
   "source": [
    "import pandas as pd\n",
    "import numpy as np\n",
    "np.random.seed(42)\n",
    "from scipy.spatial.distance import dice, cdist"
   ]
  },
  {
   "cell_type": "code",
   "execution_count": 16,
   "metadata": {},
   "outputs": [],
   "source": [
    "def load_system(k, domain, terms, structures):\n",
    "    \n",
    "    lists = domains[k][\"lists\"]\n",
    "    circuit = domains[k][\"circuit\"]\n",
    "    \n",
    "    systems = pd.Series(0, index=terms+structures)\n",
    "    systems.loc[list(lists.loc[lists[\"DOMAIN\"] == domain, \"TOKEN\"])] = 1\n",
    "    systems.loc[list(circuit.loc[circuit[\"DOMAIN\"] == domain, \"STRUCTURE\"])] = 1\n",
    "    \n",
    "    return systems"
   ]
  },
  {
   "cell_type": "code",
   "execution_count": 17,
   "metadata": {
    "scrolled": false
   },
   "outputs": [],
   "source": [
    "def compute_sim_obs(k, dw):\n",
    "    \n",
    "    domains_ki = list(OrderedDict.fromkeys(domains[k][\"lists\"][\"DOMAIN\"]))\n",
    "    domains_kj = list(OrderedDict.fromkeys(domains[k+dw][\"lists\"][\"DOMAIN\"]))\n",
    "    \n",
    "    terms = sorted(list(set(domains[k][\"lists\"][\"TOKEN\"]).union(domains[k+dw][\"lists\"][\"TOKEN\"])))\n",
    "    systems_ki = {domain: load_system(k, domain, terms, structures) for domain in domains_ki}\n",
    "    systems_kj = {domain: load_system(k+dw, domain, terms, structures) for domain in domains_kj}\n",
    "    \n",
    "    sims = pd.DataFrame(index=domains_ki, columns=domains_kj)\n",
    "    for di in domains_ki:\n",
    "        for dj in domains_kj:\n",
    "            sims.loc[di, dj] = 1.0 - dice(systems_ki[di], systems_kj[dj])\n",
    "            \n",
    "    return sims"
   ]
  },
  {
   "cell_type": "code",
   "execution_count": 18,
   "metadata": {},
   "outputs": [
    {
     "data": {
      "text/html": [
       "<div>\n",
       "<style scoped>\n",
       "    .dataframe tbody tr th:only-of-type {\n",
       "        vertical-align: middle;\n",
       "    }\n",
       "\n",
       "    .dataframe tbody tr th {\n",
       "        vertical-align: top;\n",
       "    }\n",
       "\n",
       "    .dataframe thead th {\n",
       "        text-align: right;\n",
       "    }\n",
       "</style>\n",
       "<table border=\"1\" class=\"dataframe\">\n",
       "  <thead>\n",
       "    <tr style=\"text-align: right;\">\n",
       "      <th></th>\n",
       "      <th>EMOTION</th>\n",
       "      <th>VISION</th>\n",
       "      <th>ANTICIPATION</th>\n",
       "      <th>MEMORY</th>\n",
       "      <th>LANGUAGE</th>\n",
       "      <th>RETRIEVAL</th>\n",
       "      <th>EPISODIC_MEMORY</th>\n",
       "      <th>HEARING</th>\n",
       "      <th>REWARD</th>\n",
       "      <th>AROUSAL</th>\n",
       "      <th>COGNITION</th>\n",
       "      <th>MANIPULATION</th>\n",
       "    </tr>\n",
       "  </thead>\n",
       "  <tbody>\n",
       "    <tr>\n",
       "      <th>MEMORY</th>\n",
       "      <td>0.166667</td>\n",
       "      <td>0.105263</td>\n",
       "      <td>0.0298507</td>\n",
       "      <td>0.46875</td>\n",
       "      <td>0</td>\n",
       "      <td>0.346154</td>\n",
       "      <td>0.62963</td>\n",
       "      <td>0</td>\n",
       "      <td>0</td>\n",
       "      <td>0.0909091</td>\n",
       "      <td>0.0789474</td>\n",
       "      <td>0</td>\n",
       "    </tr>\n",
       "    <tr>\n",
       "      <th>REWARD</th>\n",
       "      <td>0.612245</td>\n",
       "      <td>0</td>\n",
       "      <td>0.428571</td>\n",
       "      <td>0</td>\n",
       "      <td>0</td>\n",
       "      <td>0</td>\n",
       "      <td>0.0465116</td>\n",
       "      <td>0</td>\n",
       "      <td>0.755556</td>\n",
       "      <td>0.121212</td>\n",
       "      <td>0</td>\n",
       "      <td>0</td>\n",
       "    </tr>\n",
       "    <tr>\n",
       "      <th>REACTION_TIME</th>\n",
       "      <td>0.257143</td>\n",
       "      <td>0.0232558</td>\n",
       "      <td>0.597403</td>\n",
       "      <td>0.027027</td>\n",
       "      <td>0.0266667</td>\n",
       "      <td>0.0322581</td>\n",
       "      <td>0.03125</td>\n",
       "      <td>0</td>\n",
       "      <td>0.181818</td>\n",
       "      <td>0.148148</td>\n",
       "      <td>0.465116</td>\n",
       "      <td>0</td>\n",
       "    </tr>\n",
       "    <tr>\n",
       "      <th>MANIPULATION</th>\n",
       "      <td>0</td>\n",
       "      <td>0.125</td>\n",
       "      <td>0.028169</td>\n",
       "      <td>0</td>\n",
       "      <td>0</td>\n",
       "      <td>0</td>\n",
       "      <td>0</td>\n",
       "      <td>0</td>\n",
       "      <td>0</td>\n",
       "      <td>0</td>\n",
       "      <td>0.25</td>\n",
       "      <td>0.794521</td>\n",
       "    </tr>\n",
       "    <tr>\n",
       "      <th>VISION</th>\n",
       "      <td>0</td>\n",
       "      <td>0.8</td>\n",
       "      <td>0</td>\n",
       "      <td>0.206897</td>\n",
       "      <td>0</td>\n",
       "      <td>0.0434783</td>\n",
       "      <td>0</td>\n",
       "      <td>0</td>\n",
       "      <td>0</td>\n",
       "      <td>0</td>\n",
       "      <td>0.0285714</td>\n",
       "      <td>0.031746</td>\n",
       "    </tr>\n",
       "    <tr>\n",
       "      <th>HEARING</th>\n",
       "      <td>0</td>\n",
       "      <td>0</td>\n",
       "      <td>0</td>\n",
       "      <td>0</td>\n",
       "      <td>0.461538</td>\n",
       "      <td>0</td>\n",
       "      <td>0</td>\n",
       "      <td>0.829268</td>\n",
       "      <td>0</td>\n",
       "      <td>0</td>\n",
       "      <td>0</td>\n",
       "      <td>0</td>\n",
       "    </tr>\n",
       "  </tbody>\n",
       "</table>\n",
       "</div>"
      ],
      "text/plain": [
       "                EMOTION     VISION ANTICIPATION    MEMORY   LANGUAGE  \\\n",
       "MEMORY         0.166667   0.105263    0.0298507   0.46875          0   \n",
       "REWARD         0.612245          0     0.428571         0          0   \n",
       "REACTION_TIME  0.257143  0.0232558     0.597403  0.027027  0.0266667   \n",
       "MANIPULATION          0      0.125     0.028169         0          0   \n",
       "VISION                0        0.8            0  0.206897          0   \n",
       "HEARING               0          0            0         0   0.461538   \n",
       "\n",
       "               RETRIEVAL EPISODIC_MEMORY   HEARING    REWARD    AROUSAL  \\\n",
       "MEMORY          0.346154         0.62963         0         0  0.0909091   \n",
       "REWARD                 0       0.0465116         0  0.755556   0.121212   \n",
       "REACTION_TIME  0.0322581         0.03125         0  0.181818   0.148148   \n",
       "MANIPULATION           0               0         0         0          0   \n",
       "VISION         0.0434783               0         0         0          0   \n",
       "HEARING                0               0  0.829268         0          0   \n",
       "\n",
       "               COGNITION MANIPULATION  \n",
       "MEMORY         0.0789474            0  \n",
       "REWARD                 0            0  \n",
       "REACTION_TIME   0.465116            0  \n",
       "MANIPULATION        0.25     0.794521  \n",
       "VISION         0.0285714     0.031746  \n",
       "HEARING                0            0  "
      ]
     },
     "execution_count": 18,
     "metadata": {},
     "output_type": "execute_result"
    }
   ],
   "source": [
    "sims = {k: compute_sim_obs(k, dw) for k, dw in zip(domain_range[:-1], domain_difs)}\n",
    "sims[6]"
   ]
  },
  {
   "cell_type": "markdown",
   "metadata": {},
   "source": [
    "## Null distributions"
   ]
  },
  {
   "cell_type": "code",
   "execution_count": 19,
   "metadata": {},
   "outputs": [],
   "source": [
    "def compute_sim_null(k, dw, n_iter=1000):\n",
    "    \n",
    "    print(\"Processing k={}\".format(k))\n",
    "    \n",
    "    domains_ki = list(OrderedDict.fromkeys(domains[k][\"lists\"][\"DOMAIN\"]))\n",
    "    domains_kj = list(OrderedDict.fromkeys(domains[k+dw][\"lists\"][\"DOMAIN\"]))\n",
    "    \n",
    "    terms = sorted(list(set(domains[k][\"lists\"][\"TOKEN\"]).union(domains[k+dw][\"lists\"][\"TOKEN\"])))\n",
    "    systems_ki = {domain: load_system(k, domain, terms, structures) for domain in domains_ki}\n",
    "    systems_kj = {domain: load_system(k+dw, domain, terms, structures) for domain in domains_kj}\n",
    "    \n",
    "    sims_null_k = np.empty((k, k+dw, n_iter))\n",
    "    for n in range(n_iter):\n",
    "        null = np.random.choice(terms+structures, size=len(terms+structures), replace=False)\n",
    "        for i, di in enumerate(domains_ki):\n",
    "            for j, dj in enumerate(domains_kj):\n",
    "                sims_null_k[i, j, n] = 1.0 - dice(systems_ki[di], systems_kj[dj].loc[null])\n",
    "    \n",
    "    return sims_null_k"
   ]
  },
  {
   "cell_type": "code",
   "execution_count": 20,
   "metadata": {},
   "outputs": [
    {
     "name": "stdout",
     "output_type": "stream",
     "text": [
      "Processing k=6\n",
      "Processing k=12\n"
     ]
    }
   ],
   "source": [
    "sims_null = {k: compute_sim_null(k, dw) for k, dw in zip(domain_range[:-1], domain_difs)}"
   ]
  },
  {
   "cell_type": "markdown",
   "metadata": {},
   "source": [
    "## False discovery rates"
   ]
  },
  {
   "cell_type": "code",
   "execution_count": 21,
   "metadata": {},
   "outputs": [],
   "source": [
    "from statsmodels.stats.multitest import multipletests"
   ]
  },
  {
   "cell_type": "code",
   "execution_count": 22,
   "metadata": {},
   "outputs": [],
   "source": [
    "def compute_sim_fdr(sims, sims_null):\n",
    "    \n",
    "    n_iter = sims_null.shape[2]\n",
    "    \n",
    "    domains_ki = sims.index\n",
    "    domains_kj = sims.columns\n",
    "    \n",
    "    pvals = pd.DataFrame(index=domains_ki, columns=domains_kj)\n",
    "    for i, di in enumerate(domains_ki):\n",
    "        for j, dj in enumerate(domains_kj):\n",
    "            sims_null[i,j,:]\n",
    "            pvals.loc[di,dj] = np.sum(sims_null[i,j,:] > sims.loc[di,dj]) / float(n_iter)\n",
    "    \n",
    "    fdrs = multipletests(pvals.values.ravel(), method=\"fdr_bh\")[1]\n",
    "    fdrs = np.reshape(fdrs, pvals.shape)\n",
    "    fdrs = pd.DataFrame(fdrs, index=domains_ki, columns=domains_kj)\n",
    "    \n",
    "    return fdrs"
   ]
  },
  {
   "cell_type": "code",
   "execution_count": 23,
   "metadata": {},
   "outputs": [
    {
     "data": {
      "text/html": [
       "<div>\n",
       "<style scoped>\n",
       "    .dataframe tbody tr th:only-of-type {\n",
       "        vertical-align: middle;\n",
       "    }\n",
       "\n",
       "    .dataframe tbody tr th {\n",
       "        vertical-align: top;\n",
       "    }\n",
       "\n",
       "    .dataframe thead th {\n",
       "        text-align: right;\n",
       "    }\n",
       "</style>\n",
       "<table border=\"1\" class=\"dataframe\">\n",
       "  <thead>\n",
       "    <tr style=\"text-align: right;\">\n",
       "      <th></th>\n",
       "      <th>EMOTION</th>\n",
       "      <th>VISION</th>\n",
       "      <th>ANTICIPATION</th>\n",
       "      <th>MEMORY</th>\n",
       "      <th>LANGUAGE</th>\n",
       "      <th>RETRIEVAL</th>\n",
       "      <th>EPISODIC_MEMORY</th>\n",
       "      <th>HEARING</th>\n",
       "      <th>REWARD</th>\n",
       "      <th>AROUSAL</th>\n",
       "      <th>COGNITION</th>\n",
       "      <th>MANIPULATION</th>\n",
       "    </tr>\n",
       "  </thead>\n",
       "  <tbody>\n",
       "    <tr>\n",
       "      <th>MEMORY</th>\n",
       "      <td>0.4176</td>\n",
       "      <td>1</td>\n",
       "      <td>1</td>\n",
       "      <td>0</td>\n",
       "      <td>1</td>\n",
       "      <td>0</td>\n",
       "      <td>0</td>\n",
       "      <td>1</td>\n",
       "      <td>1</td>\n",
       "      <td>0.303158</td>\n",
       "      <td>1</td>\n",
       "      <td>1</td>\n",
       "    </tr>\n",
       "    <tr>\n",
       "      <th>REWARD</th>\n",
       "      <td>0</td>\n",
       "      <td>1</td>\n",
       "      <td>0</td>\n",
       "      <td>1</td>\n",
       "      <td>1</td>\n",
       "      <td>1</td>\n",
       "      <td>1</td>\n",
       "      <td>1</td>\n",
       "      <td>0</td>\n",
       "      <td>0.1248</td>\n",
       "      <td>1</td>\n",
       "      <td>1</td>\n",
       "    </tr>\n",
       "    <tr>\n",
       "      <th>REACTION_TIME</th>\n",
       "      <td>0.0411429</td>\n",
       "      <td>1</td>\n",
       "      <td>0</td>\n",
       "      <td>1</td>\n",
       "      <td>1</td>\n",
       "      <td>1</td>\n",
       "      <td>1</td>\n",
       "      <td>1</td>\n",
       "      <td>0.268</td>\n",
       "      <td>0.0166154</td>\n",
       "      <td>0</td>\n",
       "      <td>1</td>\n",
       "    </tr>\n",
       "    <tr>\n",
       "      <th>MANIPULATION</th>\n",
       "      <td>1</td>\n",
       "      <td>1</td>\n",
       "      <td>1</td>\n",
       "      <td>1</td>\n",
       "      <td>1</td>\n",
       "      <td>1</td>\n",
       "      <td>1</td>\n",
       "      <td>1</td>\n",
       "      <td>1</td>\n",
       "      <td>1</td>\n",
       "      <td>0.228706</td>\n",
       "      <td>0</td>\n",
       "    </tr>\n",
       "    <tr>\n",
       "      <th>VISION</th>\n",
       "      <td>1</td>\n",
       "      <td>0</td>\n",
       "      <td>1</td>\n",
       "      <td>0.2205</td>\n",
       "      <td>1</td>\n",
       "      <td>1</td>\n",
       "      <td>1</td>\n",
       "      <td>1</td>\n",
       "      <td>1</td>\n",
       "      <td>1</td>\n",
       "      <td>1</td>\n",
       "      <td>1</td>\n",
       "    </tr>\n",
       "    <tr>\n",
       "      <th>HEARING</th>\n",
       "      <td>1</td>\n",
       "      <td>1</td>\n",
       "      <td>1</td>\n",
       "      <td>1</td>\n",
       "      <td>0</td>\n",
       "      <td>1</td>\n",
       "      <td>1</td>\n",
       "      <td>0</td>\n",
       "      <td>1</td>\n",
       "      <td>1</td>\n",
       "      <td>1</td>\n",
       "      <td>1</td>\n",
       "    </tr>\n",
       "  </tbody>\n",
       "</table>\n",
       "</div>"
      ],
      "text/plain": [
       "                 EMOTION VISION ANTICIPATION  MEMORY LANGUAGE RETRIEVAL  \\\n",
       "MEMORY            0.4176      1            1       0        1         0   \n",
       "REWARD                 0      1            0       1        1         1   \n",
       "REACTION_TIME  0.0411429      1            0       1        1         1   \n",
       "MANIPULATION           1      1            1       1        1         1   \n",
       "VISION                 1      0            1  0.2205        1         1   \n",
       "HEARING                1      1            1       1        0         1   \n",
       "\n",
       "              EPISODIC_MEMORY HEARING REWARD    AROUSAL COGNITION MANIPULATION  \n",
       "MEMORY                      0       1      1   0.303158         1            1  \n",
       "REWARD                      1       1      0     0.1248         1            1  \n",
       "REACTION_TIME               1       1  0.268  0.0166154         0            1  \n",
       "MANIPULATION                1       1      1          1  0.228706            0  \n",
       "VISION                      1       1      1          1         1            1  \n",
       "HEARING                     1       0      1          1         1            1  "
      ]
     },
     "execution_count": 23,
     "metadata": {},
     "output_type": "execute_result"
    }
   ],
   "source": [
    "fdrs = {k: compute_sim_fdr(sims[k], sims_null[k]) for k in domain_range[:-1]}\n",
    "fdrs[6]"
   ]
  },
  {
   "cell_type": "markdown",
   "metadata": {},
   "source": [
    "# Build the hierarchy"
   ]
  },
  {
   "cell_type": "code",
   "execution_count": 24,
   "metadata": {},
   "outputs": [],
   "source": [
    "import networkx as nx\n",
    "from style import style"
   ]
  },
  {
   "cell_type": "code",
   "execution_count": 25,
   "metadata": {},
   "outputs": [
    {
     "data": {
      "text/html": [
       "<div>\n",
       "<style scoped>\n",
       "    .dataframe tbody tr th:only-of-type {\n",
       "        vertical-align: middle;\n",
       "    }\n",
       "\n",
       "    .dataframe tbody tr th {\n",
       "        vertical-align: top;\n",
       "    }\n",
       "\n",
       "    .dataframe thead th {\n",
       "        text-align: right;\n",
       "    }\n",
       "</style>\n",
       "<table border=\"1\" class=\"dataframe\">\n",
       "  <thead>\n",
       "    <tr style=\"text-align: right;\">\n",
       "      <th></th>\n",
       "      <th>node</th>\n",
       "      <th>name</th>\n",
       "      <th>image</th>\n",
       "    </tr>\n",
       "  </thead>\n",
       "  <tbody>\n",
       "    <tr>\n",
       "      <th>0</th>\n",
       "      <td>1</td>\n",
       "      <td>MEMORY</td>\n",
       "      <td>figures/k06/MEMORY</td>\n",
       "    </tr>\n",
       "    <tr>\n",
       "      <th>1</th>\n",
       "      <td>2</td>\n",
       "      <td>REWARD</td>\n",
       "      <td>figures/k06/REWARD</td>\n",
       "    </tr>\n",
       "    <tr>\n",
       "      <th>2</th>\n",
       "      <td>3</td>\n",
       "      <td>REACTION_TIME</td>\n",
       "      <td>figures/k06/REACTION_TIME</td>\n",
       "    </tr>\n",
       "    <tr>\n",
       "      <th>3</th>\n",
       "      <td>4</td>\n",
       "      <td>MANIPULATION</td>\n",
       "      <td>figures/k06/MANIPULATION</td>\n",
       "    </tr>\n",
       "    <tr>\n",
       "      <th>4</th>\n",
       "      <td>5</td>\n",
       "      <td>VISION</td>\n",
       "      <td>figures/k06/VISION</td>\n",
       "    </tr>\n",
       "    <tr>\n",
       "      <th>5</th>\n",
       "      <td>6</td>\n",
       "      <td>HEARING</td>\n",
       "      <td>figures/k06/HEARING</td>\n",
       "    </tr>\n",
       "    <tr>\n",
       "      <th>6</th>\n",
       "      <td>7</td>\n",
       "      <td>EMOTION</td>\n",
       "      <td>figures/k12/EMOTION</td>\n",
       "    </tr>\n",
       "    <tr>\n",
       "      <th>7</th>\n",
       "      <td>8</td>\n",
       "      <td>VISION</td>\n",
       "      <td>figures/k12/VISION</td>\n",
       "    </tr>\n",
       "    <tr>\n",
       "      <th>8</th>\n",
       "      <td>9</td>\n",
       "      <td>ANTICIPATION</td>\n",
       "      <td>figures/k12/ANTICIPATION</td>\n",
       "    </tr>\n",
       "    <tr>\n",
       "      <th>9</th>\n",
       "      <td>10</td>\n",
       "      <td>MEMORY</td>\n",
       "      <td>figures/k12/MEMORY</td>\n",
       "    </tr>\n",
       "  </tbody>\n",
       "</table>\n",
       "</div>"
      ],
      "text/plain": [
       "  node           name                      image\n",
       "0    1         MEMORY         figures/k06/MEMORY\n",
       "1    2         REWARD         figures/k06/REWARD\n",
       "2    3  REACTION_TIME  figures/k06/REACTION_TIME\n",
       "3    4   MANIPULATION   figures/k06/MANIPULATION\n",
       "4    5         VISION         figures/k06/VISION\n",
       "5    6        HEARING        figures/k06/HEARING\n",
       "6    7        EMOTION        figures/k12/EMOTION\n",
       "7    8         VISION         figures/k12/VISION\n",
       "8    9   ANTICIPATION   figures/k12/ANTICIPATION\n",
       "9   10         MEMORY         figures/k12/MEMORY"
      ]
     },
     "execution_count": 25,
     "metadata": {},
     "output_type": "execute_result"
    }
   ],
   "source": [
    "id = 1\n",
    "id2node, id2k, id2image = {}, {}, {}\n",
    "node2id = {k: {} for k in domain_range}\n",
    "nodes = pd.DataFrame(columns=[\"node\", \"name\"])\n",
    "for k in domain_range:\n",
    "    names = list(OrderedDict.fromkeys(domains[k][\"lists\"][\"DOMAIN\"]))\n",
    "    for domain in names:\n",
    "        image = \"figures/k{:02d}/{}\".format(k, domain)\n",
    "        node2id[k][domain] = id\n",
    "        id2k[id] = k\n",
    "        id2node[id] = domain\n",
    "        id2image[id] = image\n",
    "        nodes = nodes.append({\"node\": id,\n",
    "                              \"name\": domain, \n",
    "                              \"image\": image}, \n",
    "                             ignore_index=True)\n",
    "        id += 1\n",
    "nodes.head(10)"
   ]
  },
  {
   "cell_type": "code",
   "execution_count": 26,
   "metadata": {},
   "outputs": [
    {
     "data": {
      "text/html": [
       "<div>\n",
       "<style scoped>\n",
       "    .dataframe tbody tr th:only-of-type {\n",
       "        vertical-align: middle;\n",
       "    }\n",
       "\n",
       "    .dataframe tbody tr th {\n",
       "        vertical-align: top;\n",
       "    }\n",
       "\n",
       "    .dataframe thead th {\n",
       "        text-align: right;\n",
       "    }\n",
       "</style>\n",
       "<table border=\"1\" class=\"dataframe\">\n",
       "  <thead>\n",
       "    <tr style=\"text-align: right;\">\n",
       "      <th></th>\n",
       "      <th>source</th>\n",
       "      <th>source_name</th>\n",
       "      <th>target</th>\n",
       "      <th>target_name</th>\n",
       "      <th>weight</th>\n",
       "    </tr>\n",
       "  </thead>\n",
       "  <tbody>\n",
       "    <tr>\n",
       "      <th>0</th>\n",
       "      <td>1</td>\n",
       "      <td>MEMORY</td>\n",
       "      <td>10</td>\n",
       "      <td>MEMORY</td>\n",
       "      <td>0.468750</td>\n",
       "    </tr>\n",
       "    <tr>\n",
       "      <th>1</th>\n",
       "      <td>1</td>\n",
       "      <td>MEMORY</td>\n",
       "      <td>12</td>\n",
       "      <td>RETRIEVAL</td>\n",
       "      <td>0.346154</td>\n",
       "    </tr>\n",
       "    <tr>\n",
       "      <th>2</th>\n",
       "      <td>1</td>\n",
       "      <td>MEMORY</td>\n",
       "      <td>13</td>\n",
       "      <td>EPISODIC_MEMORY</td>\n",
       "      <td>0.629630</td>\n",
       "    </tr>\n",
       "    <tr>\n",
       "      <th>3</th>\n",
       "      <td>2</td>\n",
       "      <td>REWARD</td>\n",
       "      <td>7</td>\n",
       "      <td>EMOTION</td>\n",
       "      <td>0.612245</td>\n",
       "    </tr>\n",
       "    <tr>\n",
       "      <th>4</th>\n",
       "      <td>2</td>\n",
       "      <td>REWARD</td>\n",
       "      <td>15</td>\n",
       "      <td>REWARD</td>\n",
       "      <td>0.755556</td>\n",
       "    </tr>\n",
       "    <tr>\n",
       "      <th>5</th>\n",
       "      <td>3</td>\n",
       "      <td>REACTION_TIME</td>\n",
       "      <td>9</td>\n",
       "      <td>ANTICIPATION</td>\n",
       "      <td>0.597403</td>\n",
       "    </tr>\n",
       "    <tr>\n",
       "      <th>6</th>\n",
       "      <td>3</td>\n",
       "      <td>REACTION_TIME</td>\n",
       "      <td>17</td>\n",
       "      <td>COGNITION</td>\n",
       "      <td>0.465116</td>\n",
       "    </tr>\n",
       "    <tr>\n",
       "      <th>7</th>\n",
       "      <td>4</td>\n",
       "      <td>MANIPULATION</td>\n",
       "      <td>18</td>\n",
       "      <td>MANIPULATION</td>\n",
       "      <td>0.794521</td>\n",
       "    </tr>\n",
       "    <tr>\n",
       "      <th>8</th>\n",
       "      <td>5</td>\n",
       "      <td>VISION</td>\n",
       "      <td>8</td>\n",
       "      <td>VISION</td>\n",
       "      <td>0.800000</td>\n",
       "    </tr>\n",
       "    <tr>\n",
       "      <th>9</th>\n",
       "      <td>6</td>\n",
       "      <td>HEARING</td>\n",
       "      <td>11</td>\n",
       "      <td>LANGUAGE</td>\n",
       "      <td>0.461538</td>\n",
       "    </tr>\n",
       "  </tbody>\n",
       "</table>\n",
       "</div>"
      ],
      "text/plain": [
       "  source    source_name target      target_name    weight\n",
       "0      1         MEMORY     10           MEMORY  0.468750\n",
       "1      1         MEMORY     12        RETRIEVAL  0.346154\n",
       "2      1         MEMORY     13  EPISODIC_MEMORY  0.629630\n",
       "3      2         REWARD      7          EMOTION  0.612245\n",
       "4      2         REWARD     15           REWARD  0.755556\n",
       "5      3  REACTION_TIME      9     ANTICIPATION  0.597403\n",
       "6      3  REACTION_TIME     17        COGNITION  0.465116\n",
       "7      4   MANIPULATION     18     MANIPULATION  0.794521\n",
       "8      5         VISION      8           VISION  0.800000\n",
       "9      6        HEARING     11         LANGUAGE  0.461538"
      ]
     },
     "execution_count": 26,
     "metadata": {},
     "output_type": "execute_result"
    }
   ],
   "source": [
    "columns = [\"source\", \"source_name\", \"target\", \"target_name\", \"weight\"]\n",
    "edges = pd.DataFrame(columns=columns)\n",
    "for k, dw in zip(domain_range[:-1], domain_difs):\n",
    "    for source in sims[k].index:\n",
    "        for target in sims[k].columns:\n",
    "            weight = sims[k].loc[source, target]\n",
    "            fdr = fdrs[k].loc[source, target]\n",
    "            if weight == max(sims[k][target]) and weight > 0 and fdr < 0.001:\n",
    "                edges = edges.append({\"source\": node2id[k][source], \n",
    "                                      \"source_name\": source,\n",
    "                                      \"target\": node2id[k+dw][target], \n",
    "                                      \"target_name\": target,\n",
    "                                      \"weight\": weight}, \n",
    "                                     ignore_index=True)\n",
    "edges.head(10)"
   ]
  },
  {
   "cell_type": "code",
   "execution_count": 27,
   "metadata": {},
   "outputs": [],
   "source": [
    "G = nx.from_pandas_edgelist(edges, \"source\", \"target\", \"weight\", \n",
    "                            create_using=nx.DiGraph())"
   ]
  },
  {
   "cell_type": "code",
   "execution_count": 28,
   "metadata": {},
   "outputs": [],
   "source": [
    "trees = []\n",
    "for i in range(1, domain_range[0]+1):\n",
    "    g = nx.bfs_tree(G,i)\n",
    "    for id in g._node.keys():\n",
    "        g._node[id][\"name\"] = id2node[id]\n",
    "        g._node[id][\"image\"] = id2image[id]\n",
    "        g._node[id][\"color\"] = style.palettes[\"data-driven\"][i-1]\n",
    "        g._node[id][\"weight\"] = 0\n",
    "        if id in list(edges[\"target\"]):\n",
    "            g._node[id][\"weight\"] = float(edges.loc[edges[\"target\"] == id, \"weight\"].values[0])\n",
    "    trees.append((g, i))\n",
    "tree = nx.join(trees)"
   ]
  },
  {
   "cell_type": "code",
   "execution_count": 29,
   "metadata": {
    "scrolled": false
   },
   "outputs": [
    {
     "data": {
      "text/plain": [
       "{'id': 0,\n",
       " 'children': [{'name': 'MEMORY',\n",
       "   'image': 'figures/k06/MEMORY',\n",
       "   'color': '#7597D0',\n",
       "   'weight': 0,\n",
       "   'id': 1,\n",
       "   'children': [{'name': 'MEMORY',\n",
       "     'image': 'figures/k12/MEMORY',\n",
       "     'color': '#7597D0',\n",
       "     'weight': 0.46875,\n",
       "     'id': 2,\n",
       "     'children': [{'name': 'RECOGNITION',\n",
       "       'image': 'figures/k24/RECOGNITION',\n",
       "       'color': '#7597D0',\n",
       "       'weight': 0.2702702702702703,\n",
       "       'id': 5},\n",
       "      {'name': 'EPISODIC_MEMORY',\n",
       "       'image': 'figures/k24/EPISODIC_MEMORY',\n",
       "       'color': '#7597D0',\n",
       "       'weight': 0.4,\n",
       "       'id': 6},\n",
       "      {'name': 'RETRIEVAL',\n",
       "       'image': 'figures/k24/RETRIEVAL',\n",
       "       'color': '#7597D0',\n",
       "       'weight': 0.5555555555555556,\n",
       "       'id': 7},\n",
       "      {'name': 'RECALL',\n",
       "       'image': 'figures/k24/RECALL',\n",
       "       'color': '#7597D0',\n",
       "       'weight': 0.4814814814814815,\n",
       "       'id': 8},\n",
       "      {'name': 'ENCODING',\n",
       "       'image': 'figures/k24/ENCODING',\n",
       "       'color': '#7597D0',\n",
       "       'weight': 0.6428571428571428,\n",
       "       'id': 9},\n",
       "      {'name': 'WORD',\n",
       "       'image': 'figures/k24/WORD',\n",
       "       'color': '#7597D0',\n",
       "       'weight': 0.4444444444444444,\n",
       "       'id': 10}]},\n",
       "    {'name': 'RETRIEVAL',\n",
       "     'image': 'figures/k12/RETRIEVAL',\n",
       "     'color': '#7597D0',\n",
       "     'weight': 0.34615384615384615,\n",
       "     'id': 3,\n",
       "     'children': [{'name': 'MEMORY',\n",
       "       'image': 'figures/k24/MEMORY',\n",
       "       'color': '#7597D0',\n",
       "       'weight': 0.8484848484848485,\n",
       "       'id': 11}]},\n",
       "    {'name': 'EPISODIC_MEMORY',\n",
       "     'image': 'figures/k12/EPISODIC_MEMORY',\n",
       "     'color': '#7597D0',\n",
       "     'weight': 0.6296296296296297,\n",
       "     'id': 4,\n",
       "     'children': [{'name': 'EMOTION',\n",
       "       'image': 'figures/k24/EMOTION',\n",
       "       'color': '#7597D0',\n",
       "       'weight': 0.5116279069767442,\n",
       "       'id': 12}]}]},\n",
       "  {'name': 'REWARD',\n",
       "   'image': 'figures/k06/REWARD',\n",
       "   'color': '#B07EB6',\n",
       "   'weight': 0,\n",
       "   'id': 13,\n",
       "   'children': [{'name': 'EMOTION',\n",
       "     'image': 'figures/k12/EMOTION',\n",
       "     'color': '#B07EB6',\n",
       "     'weight': 0.6122448979591837,\n",
       "     'id': 14,\n",
       "     'children': [{'name': 'VALENCE',\n",
       "       'image': 'figures/k24/VALENCE',\n",
       "       'color': '#B07EB6',\n",
       "       'weight': 0.8780487804878049,\n",
       "       'id': 16}]},\n",
       "    {'name': 'REWARD',\n",
       "     'image': 'figures/k12/REWARD',\n",
       "     'color': '#B07EB6',\n",
       "     'weight': 0.7555555555555555,\n",
       "     'id': 15,\n",
       "     'children': [{'name': 'REWARD',\n",
       "       'image': 'figures/k24/REWARD',\n",
       "       'color': '#B07EB6',\n",
       "       'weight': 0.7272727272727273,\n",
       "       'id': 17},\n",
       "      {'name': 'DECISION_MAKING',\n",
       "       'image': 'figures/k24/DECISION_MAKING',\n",
       "       'color': '#B07EB6',\n",
       "       'weight': 1.0,\n",
       "       'id': 18},\n",
       "      {'name': 'SALIENCE',\n",
       "       'image': 'figures/k24/SALIENCE',\n",
       "       'color': '#B07EB6',\n",
       "       'weight': 0.5909090909090908,\n",
       "       'id': 19},\n",
       "      {'name': 'FEEDBACK',\n",
       "       'image': 'figures/k24/FEEDBACK',\n",
       "       'color': '#B07EB6',\n",
       "       'weight': 0.7272727272727273,\n",
       "       'id': 20}]}]},\n",
       "  {'name': 'REACTION_TIME',\n",
       "   'image': 'figures/k06/REACTION_TIME',\n",
       "   'color': '#CEBE6D',\n",
       "   'weight': 0,\n",
       "   'id': 21,\n",
       "   'children': [{'name': 'ANTICIPATION',\n",
       "     'image': 'figures/k12/ANTICIPATION',\n",
       "     'color': '#CEBE6D',\n",
       "     'weight': 0.5974025974025974,\n",
       "     'id': 22,\n",
       "     'children': [{'name': 'AROUSAL',\n",
       "       'image': 'figures/k24/AROUSAL',\n",
       "       'color': '#CEBE6D',\n",
       "       'weight': 0.34615384615384615,\n",
       "       'id': 24},\n",
       "      {'name': 'REACTION_TIME',\n",
       "       'image': 'figures/k24/REACTION_TIME',\n",
       "       'color': '#CEBE6D',\n",
       "       'weight': 0.47058823529411764,\n",
       "       'id': 25},\n",
       "      {'name': 'ANTICIPATION',\n",
       "       'image': 'figures/k24/ANTICIPATION',\n",
       "       'color': '#CEBE6D',\n",
       "       'weight': 0.6666666666666667,\n",
       "       'id': 26}]},\n",
       "    {'name': 'COGNITION',\n",
       "     'image': 'figures/k12/COGNITION',\n",
       "     'color': '#CEBE6D',\n",
       "     'weight': 0.4651162790697675,\n",
       "     'id': 23,\n",
       "     'children': [{'name': 'MANIPULATION',\n",
       "       'image': 'figures/k24/MANIPULATION',\n",
       "       'color': '#CEBE6D',\n",
       "       'weight': 0.704225352112676,\n",
       "       'id': 27}]}]},\n",
       "  {'name': 'MANIPULATION',\n",
       "   'image': 'figures/k06/MANIPULATION',\n",
       "   'color': '#77B58A',\n",
       "   'weight': 0,\n",
       "   'id': 28,\n",
       "   'children': [{'name': 'MANIPULATION',\n",
       "     'image': 'figures/k12/MANIPULATION',\n",
       "     'color': '#77B58A',\n",
       "     'weight': 0.7945205479452055,\n",
       "     'id': 29,\n",
       "     'children': [{'name': 'EXECUTION',\n",
       "       'image': 'figures/k24/EXECUTION',\n",
       "       'color': '#77B58A',\n",
       "       'weight': 0.6440677966101696,\n",
       "       'id': 30},\n",
       "      {'name': 'COGNITIVE_PROCESS',\n",
       "       'image': 'figures/k24/COGNITIVE_PROCESS',\n",
       "       'color': '#77B58A',\n",
       "       'weight': 0.5352112676056338,\n",
       "       'id': 31}]}]},\n",
       "  {'name': 'VISION',\n",
       "   'image': 'figures/k06/VISION',\n",
       "   'color': '#CE7D69',\n",
       "   'weight': 0,\n",
       "   'id': 32,\n",
       "   'children': [{'name': 'VISION',\n",
       "     'image': 'figures/k12/VISION',\n",
       "     'color': '#CE7D69',\n",
       "     'weight': 0.8,\n",
       "     'id': 33,\n",
       "     'children': [{'name': 'VISION',\n",
       "       'image': 'figures/k24/VISION',\n",
       "       'color': '#CE7D69',\n",
       "       'weight': 0.5614035087719298,\n",
       "       'id': 34}]}]},\n",
       "  {'name': 'HEARING',\n",
       "   'image': 'figures/k06/HEARING',\n",
       "   'color': '#7D74A3',\n",
       "   'weight': 0,\n",
       "   'id': 35,\n",
       "   'children': [{'name': 'LANGUAGE',\n",
       "     'image': 'figures/k12/LANGUAGE',\n",
       "     'color': '#7D74A3',\n",
       "     'weight': 0.46153846153846156,\n",
       "     'id': 36,\n",
       "     'children': [{'name': 'LANGUAGE',\n",
       "       'image': 'figures/k24/LANGUAGE',\n",
       "       'color': '#7D74A3',\n",
       "       'weight': 0.7450980392156863,\n",
       "       'id': 38},\n",
       "      {'name': 'SPEECH',\n",
       "       'image': 'figures/k24/SPEECH',\n",
       "       'color': '#7D74A3',\n",
       "       'weight': 0.6545454545454545,\n",
       "       'id': 39}]},\n",
       "    {'name': 'HEARING',\n",
       "     'image': 'figures/k12/HEARING',\n",
       "     'color': '#7D74A3',\n",
       "     'weight': 0.8292682926829268,\n",
       "     'id': 37,\n",
       "     'children': [{'name': 'PERCEPTION',\n",
       "       'image': 'figures/k24/PERCEPTION',\n",
       "       'color': '#7D74A3',\n",
       "       'weight': 0.5116279069767442,\n",
       "       'id': 40}]}]}]}"
      ]
     },
     "execution_count": 29,
     "metadata": {},
     "output_type": "execute_result"
    }
   ],
   "source": [
    "hierarchy = [nx.readwrite.json_graph.tree_data(tree, root=0)]\n",
    "hierarchy[0]"
   ]
  },
  {
   "cell_type": "code",
   "execution_count": 30,
   "metadata": {},
   "outputs": [],
   "source": [
    "text = str(hierarchy).replace(\"'\", '\"')\n",
    "with open(\"hierarchy.json\", \"w+\") as outfile:\n",
    "    outfile.write(text)"
   ]
  },
  {
   "cell_type": "markdown",
   "metadata": {},
   "source": [
    "# Plot node images"
   ]
  },
  {
   "cell_type": "code",
   "execution_count": 31,
   "metadata": {},
   "outputs": [
    {
     "name": "stderr",
     "output_type": "stream",
     "text": [
      "/anaconda3/envs/ontol/lib/python3.6/site-packages/sklearn/externals/joblib/__init__.py:15: DeprecationWarning: sklearn.externals.joblib is deprecated in 0.21 and will be removed in 0.23. Please import this functionality directly from joblib, which can be installed with: pip install joblib. If this warning is raised when loading pickled models, you may need to re-serialize those models with scikit-learn 0.21+.\n",
      "  warnings.warn(msg, category=DeprecationWarning)\n"
     ]
    }
   ],
   "source": [
    "import os\n",
    "from nilearn import image, plotting\n",
    "%matplotlib inline"
   ]
  },
  {
   "cell_type": "markdown",
   "metadata": {},
   "source": [
    "## Brain slices"
   ]
  },
  {
   "cell_type": "code",
   "execution_count": 32,
   "metadata": {},
   "outputs": [],
   "source": [
    "atlas = utilities.load_atlas()"
   ]
  },
  {
   "cell_type": "code",
   "execution_count": 33,
   "metadata": {},
   "outputs": [],
   "source": [
    "purples = style.make_cmap([(1,1,1), (0.365,0,0.878)])\n",
    "magentas = style.make_cmap([(1,1,1), (0.620,0,0.686)])\n",
    "yellows = style.make_cmap([(1,1,1), (0.937,0.749,0)])\n",
    "cmaps = [\"Blues\", magentas, yellows, \"Greens\", \"Reds\", purples]"
   ]
  },
  {
   "cell_type": "code",
   "execution_count": 34,
   "metadata": {},
   "outputs": [],
   "source": [
    "node2color_id = {k: {} for k in domain_range}\n",
    "for i in range(1, domain_range[0]+1):\n",
    "    g = nx.bfs_tree(G,i)\n",
    "    for id in g._node.keys():\n",
    "        k = id2k[id]\n",
    "        node = id2node[id]\n",
    "        node2color_id[k][node] = i-1"
   ]
  },
  {
   "cell_type": "code",
   "execution_count": 35,
   "metadata": {},
   "outputs": [],
   "source": [
    "def map_domain(data, domain, atlas, path, cmap=cmaps[0], suffix=\"\", plane=\"z\", \n",
    "               cbar=False, annotate=False, vmin=None, vmax=None, print_fig=True):\n",
    "\n",
    "    stat_map = image.copy_img(atlas).get_data()\n",
    "    for i, value in enumerate(data):\n",
    "        stat_map[stat_map == i+1] = value\n",
    "    stat_map = image.new_img_like(atlas, stat_map)\n",
    "    display = plotting.plot_stat_map(stat_map,\n",
    "                                     cut_coords=1,\n",
    "                                     display_mode=plane, \n",
    "                                     symmetric_cbar=False, colorbar=cbar,\n",
    "                                     cmap=cmap, threshold=vmin, \n",
    "                                     vmax=vmax, alpha=0.5,\n",
    "                                     annotate=annotate, draw_cross=False)\n",
    "    if print_fig:\n",
    "        plotting.show()\n",
    "    file_name = \"{}/{}{}.png\".format(path, domain, suffix)\n",
    "    display.savefig(file_name, dpi=250)\n",
    "    utilities.transparent_background(file_name)\n",
    "    display.close()"
   ]
  },
  {
   "cell_type": "code",
   "execution_count": 36,
   "metadata": {
    "scrolled": false
   },
   "outputs": [
    {
     "name": "stderr",
     "output_type": "stream",
     "text": [
      "/anaconda3/envs/ontol/lib/python3.6/site-packages/nilearn/plotting/displays.py:1582: MatplotlibDeprecationWarning: Adding an axes using the same arguments as a previous axes currently reuses the earlier instance.  In a future version, a new instance will always be created and returned.  Meanwhile, this warning can be suppressed, and the future behavior ensured, by passing a unique label to each axes instance.\n",
      "  fraction * (x1 - x0), y1 - y0])\n"
     ]
    }
   ],
   "source": [
    "for k in domain_range:\n",
    "    path = \"figures/k{:02}\".format(k)\n",
    "    if not os.path.exists(path):\n",
    "        os.makedirs(path)\n",
    "    circuit = domains[k][\"circuit\"]\n",
    "    names = list(OrderedDict.fromkeys(circuit[\"DOMAIN\"]))\n",
    "    circuit_mat = pd.DataFrame(0.0, index=act_bin.columns, columns=names)\n",
    "    for i, name in enumerate(names):\n",
    "        if name in node2color_id[k].keys():\n",
    "            structures = circuit.loc[circuit[\"DOMAIN\"] == name, \"STRUCTURE\"]\n",
    "            for structure in structures:\n",
    "                circuit_mat.loc[structure, name] = 1.0\n",
    "            map_domain(circuit_mat[name], name, atlas, path, \n",
    "                       cmap=cmaps[node2color_id[k][name]], suffix=\"_z\", plane=\"z\", cbar=False, \n",
    "                       vmin=0.0, vmax=2.0, print_fig=False, annotate=False)"
   ]
  },
  {
   "cell_type": "markdown",
   "metadata": {},
   "source": [
    "## Word clouds"
   ]
  },
  {
   "cell_type": "code",
   "execution_count": 37,
   "metadata": {},
   "outputs": [],
   "source": [
    "from wordcloud import WordCloud\n",
    "import matplotlib.pyplot as plt"
   ]
  },
  {
   "cell_type": "code",
   "execution_count": 52,
   "metadata": {},
   "outputs": [],
   "source": [
    "def plot_wordclouds(k, domains, lists, dtm, colors, path=\"\", suffix=\"\", font=style.font):\n",
    "\n",
    "    for i, dom in enumerate(domains):\n",
    "        def color_func(word, font_size, position, orientation, \n",
    "                       random_state=None, idx=0, **kwargs):\n",
    "            return colors[i]\n",
    "\n",
    "        tkns = lists.loc[lists[\"DOMAIN\"] == dom, \"TOKEN\"]\n",
    "        freq = dtm[tkns].sum().values\n",
    "        tkns = [t.replace(\"_\", \" \") for t in tkns]\n",
    "        dic = {tkn: f for tkn, f in zip(tkns, freq)}\n",
    "\n",
    "        cloud = WordCloud(background_color=\"rgba(255, 255, 255, 0)\", mode=\"RGB\", \n",
    "                          max_font_size=100, prefer_horizontal=1, scale=20, margin=3,\n",
    "                          width=600, height=300, font_path=font, \n",
    "                          random_state=42).generate_from_frequencies(dic)\n",
    "\n",
    "        fig = plt.figure(1, figsize=(2,10))\n",
    "        plt.axis(\"off\")\n",
    "        plt.imshow(cloud.recolor(color_func=color_func, random_state=42))\n",
    "        file_name = \"{}figures/k{:02d}/{}_words{}.png\".format(path, k, dom, suffix)\n",
    "        plt.savefig(file_name, \n",
    "                    dpi=800, bbox_inches=\"tight\")\n",
    "#         utilities.transparent_background(file_name)\n",
    "        plt.close()"
   ]
  },
  {
   "cell_type": "code",
   "execution_count": 53,
   "metadata": {},
   "outputs": [],
   "source": [
    "for k in domain_range:\n",
    "    nodes = node2color_id[k].keys()\n",
    "    colors = [style.palettes[\"data-driven\"][node2color_id[k][node]] for node in nodes]\n",
    "    plot_wordclouds(k, nodes, domains[k][\"lists\"], dtm_bin, colors, font=\"../style/Avenir.ttf\", suffix=\"_viewer\")"
   ]
  },
  {
   "cell_type": "code",
   "execution_count": null,
   "metadata": {},
   "outputs": [],
   "source": []
  }
 ],
 "metadata": {
  "kernelspec": {
   "display_name": "Python [conda env:ontol] *",
   "language": "python",
   "name": "conda-env-ontol-py"
  },
  "language_info": {
   "codemirror_mode": {
    "name": "ipython",
    "version": 3
   },
   "file_extension": ".py",
   "mimetype": "text/x-python",
   "name": "python",
   "nbconvert_exporter": "python",
   "pygments_lexer": "ipython3",
   "version": "3.6.8"
  }
 },
 "nbformat": 4,
 "nbformat_minor": 2
}
