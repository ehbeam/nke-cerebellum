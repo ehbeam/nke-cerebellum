{
 "cells": [
  {
   "cell_type": "code",
   "execution_count": 1,
   "metadata": {},
   "outputs": [],
   "source": [
    "import sys\n",
    "sys.path.append(\"..\")\n",
    "import hierarchy, style, utilities\n",
    "from ontology import ontology"
   ]
  },
  {
   "cell_type": "markdown",
   "metadata": {},
   "source": [
    "# Load the data"
   ]
  },
  {
   "cell_type": "code",
   "execution_count": 5,
   "metadata": {},
   "outputs": [],
   "source": [
    "cerebellum = \"seg\""
   ]
  },
  {
   "cell_type": "markdown",
   "metadata": {},
   "source": [
    "## Document-term matrix"
   ]
  },
  {
   "cell_type": "code",
   "execution_count": 2,
   "metadata": {},
   "outputs": [
    {
     "data": {
      "text/plain": [
       "2208"
      ]
     },
     "execution_count": 2,
     "metadata": {},
     "output_type": "execute_result"
    }
   ],
   "source": [
    "lexicon = utilities.load_lexicon([\"cogneuro\"])\n",
    "len(lexicon)"
   ]
  },
  {
   "cell_type": "code",
   "execution_count": 3,
   "metadata": {},
   "outputs": [
    {
     "data": {
      "text/plain": [
       "1683"
      ]
     },
     "execution_count": 3,
     "metadata": {},
     "output_type": "execute_result"
    }
   ],
   "source": [
    "version = 190325\n",
    "dtm_bin = utilities.load_doc_term_matrix(version=version, binarize=True)\n",
    "lexicon = sorted(list(set(lexicon).intersection(dtm_bin.columns)))\n",
    "len(lexicon)"
   ]
  },
  {
   "cell_type": "code",
   "execution_count": 4,
   "metadata": {},
   "outputs": [
    {
     "name": "stdout",
     "output_type": "stream",
     "text": [
      "Document N=18155, Term N=1683\n"
     ]
    }
   ],
   "source": [
    "dtm_bin = dtm_bin[lexicon]\n",
    "print(\"Document N={}, Term N={}\".format(\n",
    "      dtm_bin.shape[0], dtm_bin.shape[1]))"
   ]
  },
  {
   "cell_type": "markdown",
   "metadata": {},
   "source": [
    "## Brain activation coordinates"
   ]
  },
  {
   "cell_type": "code",
   "execution_count": 6,
   "metadata": {},
   "outputs": [
    {
     "name": "stdout",
     "output_type": "stream",
     "text": [
      "Document N=18155, Structure N=148\n"
     ]
    }
   ],
   "source": [
    "act_bin = utilities.load_coordinates(cerebellum=cerebellum)\n",
    "print(\"Document N={}, Structure N={}\".format(\n",
    "      act_bin.shape[0], act_bin.shape[1]))"
   ]
  },
  {
   "cell_type": "code",
   "execution_count": 7,
   "metadata": {},
   "outputs": [],
   "source": [
    "structures = list(act_bin.columns)"
   ]
  },
  {
   "cell_type": "markdown",
   "metadata": {},
   "source": [
    "## Data-driven domains"
   ]
  },
  {
   "cell_type": "code",
   "execution_count": 8,
   "metadata": {},
   "outputs": [],
   "source": [
    "from collections import OrderedDict"
   ]
  },
  {
   "cell_type": "code",
   "execution_count": 9,
   "metadata": {},
   "outputs": [
    {
     "data": {
      "text/plain": [
       "[6, 12]"
      ]
     },
     "execution_count": 9,
     "metadata": {},
     "output_type": "execute_result"
    }
   ],
   "source": [
    "domain_range = [6, 12, 24]\n",
    "domain_difs = [domain_range[i] - domain_range[i-1] for i in range(1, len(domain_range))]\n",
    "domain_difs"
   ]
  },
  {
   "cell_type": "code",
   "execution_count": 10,
   "metadata": {},
   "outputs": [],
   "source": [
    "def name_domains(lists, dtm):\n",
    "    \n",
    "    k = len(set(lists[\"CLUSTER\"]))\n",
    "    names, degs = [\"\"]*k, [0]*k\n",
    "    terms = {i: list(set(lists.loc[lists[\"CLUSTER\"] == i+1, \"TOKEN\"])) for i in range(k)}\n",
    "    \n",
    "    while \"\" in names:\n",
    "        for i in range(k):\n",
    "            degrees = ontology.term_degree_centrality(i+1, lists, dtm, dtm.index)\n",
    "            degrees = degrees.loc[terms[i]].sort_values(ascending=False)\n",
    "            name = degrees.index[0].upper()\n",
    "            \n",
    "            if name not in names:\n",
    "                names[i] = name\n",
    "                degs[i] = max(degrees)\n",
    "                \n",
    "            elif name in names:\n",
    "                name_idx = names.index(name)\n",
    "                if degs[name_idx] > degs[i]:\n",
    "                    terms[i] = [term for term in terms[i] if term != name.lower()]\n",
    "    return names"
   ]
  },
  {
   "cell_type": "code",
   "execution_count": 21,
   "metadata": {},
   "outputs": [],
   "source": [
    "path = \"../ontology/\"\n",
    "suffix = \"_logreg\"\n",
    "domains = {}\n",
    "\n",
    "for k in domain_range:\n",
    "    \n",
    "    lists, circuit = ontology.load_ontology(k, path=path, suffix=suffix, cerebellum=cerebellum)\n",
    "    \n",
    "    if \"DOMAIN\" not in lists.columns or \"DOMAIN\" not in circuit.columns:\n",
    "        names = name_domains(lists, dtm_bin)\n",
    "\n",
    "        lists[\"DOMAIN\"] = [names[i-1] for i in lists[\"CLUSTER\"]]\n",
    "        lists = lists[[\"DOMAIN\", \"CLUSTER\", \"TOKEN\", \"R\"]]\n",
    "        lists.to_csv(\"{}lists/lists_k{:02d}_oplen{}.csv\".format(path, k, suffix), index=None)\n",
    "\n",
    "        circuit[\"DOMAIN\"] = [names[i-1] for i in circuit[\"CLUSTER\"]]\n",
    "        circuit = circuit[[\"DOMAIN\", \"CLUSTER\", \"STRUCTURE\"]]\n",
    "        circuit.to_csv(\"{}circuits/circuits_k{:02d}.csv\".format(path, k), index=None)\n",
    "    \n",
    "    domains[k] = {\"lists\": lists, \"circuit\": circuit}"
   ]
  },
  {
   "cell_type": "markdown",
   "metadata": {},
   "source": [
    "# Re-index k=6 domains"
   ]
  },
  {
   "cell_type": "code",
   "execution_count": 22,
   "metadata": {},
   "outputs": [
    {
     "data": {
      "text/plain": [
       "['HEARING', 'VISION', 'MOVEMENT', 'REWARD', 'MEMORY', 'COGNITIVE']"
      ]
     },
     "execution_count": 22,
     "metadata": {},
     "output_type": "execute_result"
    }
   ],
   "source": [
    "list(OrderedDict.fromkeys(domains[6][\"lists\"][\"DOMAIN\"]))"
   ]
  },
  {
   "cell_type": "code",
   "execution_count": 23,
   "metadata": {},
   "outputs": [],
   "source": [
    "old2new = {1:6, 2:5, 3:4, 4:2, 5:1, 6:3}"
   ]
  },
  {
   "cell_type": "code",
   "execution_count": 24,
   "metadata": {},
   "outputs": [
    {
     "data": {
      "text/plain": [
       "['MEMORY', 'REWARD', 'COGNITIVE', 'MOVEMENT', 'VISION', 'HEARING']"
      ]
     },
     "execution_count": 24,
     "metadata": {},
     "output_type": "execute_result"
    }
   ],
   "source": [
    "domains[6][\"lists\"][\"CLUSTER\"] = [old2new[old] for old in domains[6][\"lists\"][\"CLUSTER\"]]\n",
    "domains[6][\"lists\"] = domains[6][\"lists\"].sort_values(\"CLUSTER\")\n",
    "list(OrderedDict.fromkeys(domains[6][\"lists\"][\"DOMAIN\"]))"
   ]
  },
  {
   "cell_type": "code",
   "execution_count": 25,
   "metadata": {},
   "outputs": [
    {
     "data": {
      "text/plain": [
       "['MEMORY', 'REWARD', 'COGNITIVE', 'MOVEMENT', 'VISION', 'HEARING']"
      ]
     },
     "execution_count": 25,
     "metadata": {},
     "output_type": "execute_result"
    }
   ],
   "source": [
    "domains[6][\"circuit\"][\"CLUSTER\"] = [old2new[old] for old in domains[6][\"circuit\"][\"CLUSTER\"]]\n",
    "domains[6][\"circuit\"] = domains[6][\"circuit\"].sort_values(\"CLUSTER\")\n",
    "list(OrderedDict.fromkeys(domains[6][\"circuit\"][\"DOMAIN\"]))"
   ]
  },
  {
   "cell_type": "markdown",
   "metadata": {},
   "source": [
    "# Compute domain similarity\n",
    "\n",
    "## Observed values\n",
    "\n",
    "Similarity between pairs <i>k</i> = 2 and 3, 3 and 4, etc."
   ]
  },
  {
   "cell_type": "code",
   "execution_count": 26,
   "metadata": {},
   "outputs": [],
   "source": [
    "import pandas as pd\n",
    "import numpy as np\n",
    "np.random.seed(42)\n",
    "from scipy.spatial.distance import dice, cdist"
   ]
  },
  {
   "cell_type": "code",
   "execution_count": 27,
   "metadata": {},
   "outputs": [],
   "source": [
    "def load_system(k, domain, terms, structures):\n",
    "    \n",
    "    lists = domains[k][\"lists\"]\n",
    "    circuit = domains[k][\"circuit\"]\n",
    "    \n",
    "    systems = pd.Series(0, index=terms+structures)\n",
    "    systems.loc[list(lists.loc[lists[\"DOMAIN\"] == domain, \"TOKEN\"])] = 1\n",
    "    systems.loc[list(circuit.loc[circuit[\"DOMAIN\"] == domain, \"STRUCTURE\"])] = 1\n",
    "    \n",
    "    return systems"
   ]
  },
  {
   "cell_type": "code",
   "execution_count": 28,
   "metadata": {
    "scrolled": false
   },
   "outputs": [],
   "source": [
    "def compute_sim_obs(k, dw):\n",
    "    \n",
    "    domains_ki = list(OrderedDict.fromkeys(domains[k][\"lists\"][\"DOMAIN\"]))\n",
    "    domains_kj = list(OrderedDict.fromkeys(domains[k+dw][\"lists\"][\"DOMAIN\"]))\n",
    "    \n",
    "    terms = sorted(list(set(domains[k][\"lists\"][\"TOKEN\"]).union(domains[k+dw][\"lists\"][\"TOKEN\"])))\n",
    "    systems_ki = {domain: load_system(k, domain, terms, structures) for domain in domains_ki}\n",
    "    systems_kj = {domain: load_system(k+dw, domain, terms, structures) for domain in domains_kj}\n",
    "    \n",
    "    sims = pd.DataFrame(index=domains_ki, columns=domains_kj)\n",
    "    for di in domains_ki:\n",
    "        for dj in domains_kj:\n",
    "            sims.loc[di, dj] = 1.0 - dice(systems_ki[di], systems_kj[dj])\n",
    "            \n",
    "    return sims"
   ]
  },
  {
   "cell_type": "code",
   "execution_count": 29,
   "metadata": {},
   "outputs": [
    {
     "data": {
      "text/html": [
       "<div>\n",
       "<style scoped>\n",
       "    .dataframe tbody tr th:only-of-type {\n",
       "        vertical-align: middle;\n",
       "    }\n",
       "\n",
       "    .dataframe tbody tr th {\n",
       "        vertical-align: top;\n",
       "    }\n",
       "\n",
       "    .dataframe thead th {\n",
       "        text-align: right;\n",
       "    }\n",
       "</style>\n",
       "<table border=\"1\" class=\"dataframe\">\n",
       "  <thead>\n",
       "    <tr style=\"text-align: right;\">\n",
       "      <th></th>\n",
       "      <th>HEARING</th>\n",
       "      <th>VISION</th>\n",
       "      <th>EXECUTION</th>\n",
       "      <th>COGNITIVE</th>\n",
       "      <th>LANGUAGE</th>\n",
       "      <th>REST</th>\n",
       "      <th>MANIPULATION</th>\n",
       "      <th>EMOTION</th>\n",
       "      <th>VESTIBULAR</th>\n",
       "      <th>MOVEMENT</th>\n",
       "      <th>REWARD</th>\n",
       "      <th>MEMORY</th>\n",
       "    </tr>\n",
       "  </thead>\n",
       "  <tbody>\n",
       "    <tr>\n",
       "      <th>MEMORY</th>\n",
       "      <td>0</td>\n",
       "      <td>0.235294</td>\n",
       "      <td>0</td>\n",
       "      <td>0.159091</td>\n",
       "      <td>0.025974</td>\n",
       "      <td>0.0253165</td>\n",
       "      <td>0</td>\n",
       "      <td>0.517241</td>\n",
       "      <td>0</td>\n",
       "      <td>0</td>\n",
       "      <td>0.0327869</td>\n",
       "      <td>0.666667</td>\n",
       "    </tr>\n",
       "    <tr>\n",
       "      <th>REWARD</th>\n",
       "      <td>0</td>\n",
       "      <td>0</td>\n",
       "      <td>0</td>\n",
       "      <td>0.253521</td>\n",
       "      <td>0</td>\n",
       "      <td>0</td>\n",
       "      <td>0</td>\n",
       "      <td>0.097561</td>\n",
       "      <td>0</td>\n",
       "      <td>0</td>\n",
       "      <td>0.5</td>\n",
       "      <td>0</td>\n",
       "    </tr>\n",
       "    <tr>\n",
       "      <th>COGNITIVE</th>\n",
       "      <td>0.025641</td>\n",
       "      <td>0.0217391</td>\n",
       "      <td>0</td>\n",
       "      <td>0.8</td>\n",
       "      <td>0</td>\n",
       "      <td>0</td>\n",
       "      <td>0.153846</td>\n",
       "      <td>0.0615385</td>\n",
       "      <td>0</td>\n",
       "      <td>0</td>\n",
       "      <td>0.294118</td>\n",
       "      <td>0.0263158</td>\n",
       "    </tr>\n",
       "    <tr>\n",
       "      <th>MOVEMENT</th>\n",
       "      <td>0</td>\n",
       "      <td>0</td>\n",
       "      <td>0.392857</td>\n",
       "      <td>0</td>\n",
       "      <td>0</td>\n",
       "      <td>0.450704</td>\n",
       "      <td>0.0263158</td>\n",
       "      <td>0</td>\n",
       "      <td>0.222222</td>\n",
       "      <td>0.458333</td>\n",
       "      <td>0</td>\n",
       "      <td>0</td>\n",
       "    </tr>\n",
       "    <tr>\n",
       "      <th>VISION</th>\n",
       "      <td>0</td>\n",
       "      <td>0.465517</td>\n",
       "      <td>0.168421</td>\n",
       "      <td>0.0672269</td>\n",
       "      <td>0</td>\n",
       "      <td>0.0363636</td>\n",
       "      <td>0.608696</td>\n",
       "      <td>0.0224719</td>\n",
       "      <td>0</td>\n",
       "      <td>0.0229885</td>\n",
       "      <td>0</td>\n",
       "      <td>0.06</td>\n",
       "    </tr>\n",
       "    <tr>\n",
       "      <th>HEARING</th>\n",
       "      <td>0.576923</td>\n",
       "      <td>0</td>\n",
       "      <td>0</td>\n",
       "      <td>0</td>\n",
       "      <td>0.482759</td>\n",
       "      <td>0</td>\n",
       "      <td>0</td>\n",
       "      <td>0</td>\n",
       "      <td>0</td>\n",
       "      <td>0</td>\n",
       "      <td>0</td>\n",
       "      <td>0</td>\n",
       "    </tr>\n",
       "  </tbody>\n",
       "</table>\n",
       "</div>"
      ],
      "text/plain": [
       "            HEARING     VISION EXECUTION  COGNITIVE  LANGUAGE       REST  \\\n",
       "MEMORY            0   0.235294         0   0.159091  0.025974  0.0253165   \n",
       "REWARD            0          0         0   0.253521         0          0   \n",
       "COGNITIVE  0.025641  0.0217391         0        0.8         0          0   \n",
       "MOVEMENT          0          0  0.392857          0         0   0.450704   \n",
       "VISION            0   0.465517  0.168421  0.0672269         0  0.0363636   \n",
       "HEARING    0.576923          0         0          0  0.482759          0   \n",
       "\n",
       "          MANIPULATION    EMOTION VESTIBULAR   MOVEMENT     REWARD     MEMORY  \n",
       "MEMORY               0   0.517241          0          0  0.0327869   0.666667  \n",
       "REWARD               0   0.097561          0          0        0.5          0  \n",
       "COGNITIVE     0.153846  0.0615385          0          0   0.294118  0.0263158  \n",
       "MOVEMENT     0.0263158          0   0.222222   0.458333          0          0  \n",
       "VISION        0.608696  0.0224719          0  0.0229885          0       0.06  \n",
       "HEARING              0          0          0          0          0          0  "
      ]
     },
     "execution_count": 29,
     "metadata": {},
     "output_type": "execute_result"
    }
   ],
   "source": [
    "sims = {k: compute_sim_obs(k, dw) for k, dw in zip(domain_range[:-1], domain_difs)}\n",
    "sims[6]"
   ]
  },
  {
   "cell_type": "markdown",
   "metadata": {},
   "source": [
    "## Null distributions"
   ]
  },
  {
   "cell_type": "code",
   "execution_count": 30,
   "metadata": {},
   "outputs": [],
   "source": [
    "def compute_sim_null(k, dw, n_iter=1000):\n",
    "    \n",
    "    print(\"Processing k={}\".format(k))\n",
    "    \n",
    "    domains_ki = list(OrderedDict.fromkeys(domains[k][\"lists\"][\"DOMAIN\"]))\n",
    "    domains_kj = list(OrderedDict.fromkeys(domains[k+dw][\"lists\"][\"DOMAIN\"]))\n",
    "    \n",
    "    terms = sorted(list(set(domains[k][\"lists\"][\"TOKEN\"]).union(domains[k+dw][\"lists\"][\"TOKEN\"])))\n",
    "    systems_ki = {domain: load_system(k, domain, terms, structures) for domain in domains_ki}\n",
    "    systems_kj = {domain: load_system(k+dw, domain, terms, structures) for domain in domains_kj}\n",
    "    \n",
    "    sims_null_k = np.empty((k, k+dw, n_iter))\n",
    "    for n in range(n_iter):\n",
    "        null = np.random.choice(terms+structures, size=len(terms+structures), replace=False)\n",
    "        for i, di in enumerate(domains_ki):\n",
    "            for j, dj in enumerate(domains_kj):\n",
    "                sims_null_k[i, j, n] = 1.0 - dice(systems_ki[di], systems_kj[dj].loc[null])\n",
    "    \n",
    "    return sims_null_k"
   ]
  },
  {
   "cell_type": "code",
   "execution_count": 31,
   "metadata": {},
   "outputs": [
    {
     "name": "stdout",
     "output_type": "stream",
     "text": [
      "Processing k=6\n",
      "Processing k=12\n"
     ]
    }
   ],
   "source": [
    "sims_null = {k: compute_sim_null(k, dw) for k, dw in zip(domain_range[:-1], domain_difs)}"
   ]
  },
  {
   "cell_type": "markdown",
   "metadata": {},
   "source": [
    "## False discovery rates"
   ]
  },
  {
   "cell_type": "code",
   "execution_count": 32,
   "metadata": {},
   "outputs": [],
   "source": [
    "from statsmodels.stats.multitest import multipletests"
   ]
  },
  {
   "cell_type": "code",
   "execution_count": 33,
   "metadata": {},
   "outputs": [],
   "source": [
    "def compute_sim_fdr(sims, sims_null):\n",
    "    \n",
    "    n_iter = sims_null.shape[2]\n",
    "    \n",
    "    domains_ki = sims.index\n",
    "    domains_kj = sims.columns\n",
    "    \n",
    "    pvals = pd.DataFrame(index=domains_ki, columns=domains_kj)\n",
    "    for i, di in enumerate(domains_ki):\n",
    "        for j, dj in enumerate(domains_kj):\n",
    "            sims_null[i,j,:]\n",
    "            pvals.loc[di,dj] = np.sum(sims_null[i,j,:] > sims.loc[di,dj]) / float(n_iter)\n",
    "    \n",
    "    fdrs = multipletests(pvals.values.ravel(), method=\"fdr_bh\")[1]\n",
    "    fdrs = np.reshape(fdrs, pvals.shape)\n",
    "    fdrs = pd.DataFrame(fdrs, index=domains_ki, columns=domains_kj)\n",
    "    \n",
    "    return fdrs"
   ]
  },
  {
   "cell_type": "code",
   "execution_count": 34,
   "metadata": {},
   "outputs": [
    {
     "data": {
      "text/html": [
       "<div>\n",
       "<style scoped>\n",
       "    .dataframe tbody tr th:only-of-type {\n",
       "        vertical-align: middle;\n",
       "    }\n",
       "\n",
       "    .dataframe tbody tr th {\n",
       "        vertical-align: top;\n",
       "    }\n",
       "\n",
       "    .dataframe thead th {\n",
       "        text-align: right;\n",
       "    }\n",
       "</style>\n",
       "<table border=\"1\" class=\"dataframe\">\n",
       "  <thead>\n",
       "    <tr style=\"text-align: right;\">\n",
       "      <th></th>\n",
       "      <th>HEARING</th>\n",
       "      <th>VISION</th>\n",
       "      <th>EXECUTION</th>\n",
       "      <th>COGNITIVE</th>\n",
       "      <th>LANGUAGE</th>\n",
       "      <th>REST</th>\n",
       "      <th>MANIPULATION</th>\n",
       "      <th>EMOTION</th>\n",
       "      <th>VESTIBULAR</th>\n",
       "      <th>MOVEMENT</th>\n",
       "      <th>REWARD</th>\n",
       "      <th>MEMORY</th>\n",
       "    </tr>\n",
       "  </thead>\n",
       "  <tbody>\n",
       "    <tr>\n",
       "      <th>MEMORY</th>\n",
       "      <td>1</td>\n",
       "      <td>0.1584</td>\n",
       "      <td>1</td>\n",
       "      <td>1</td>\n",
       "      <td>1</td>\n",
       "      <td>1</td>\n",
       "      <td>1</td>\n",
       "      <td>0</td>\n",
       "      <td>1</td>\n",
       "      <td>1</td>\n",
       "      <td>1</td>\n",
       "      <td>0</td>\n",
       "    </tr>\n",
       "    <tr>\n",
       "      <th>REWARD</th>\n",
       "      <td>1</td>\n",
       "      <td>1</td>\n",
       "      <td>1</td>\n",
       "      <td>0.0308571</td>\n",
       "      <td>1</td>\n",
       "      <td>1</td>\n",
       "      <td>1</td>\n",
       "      <td>0.609882</td>\n",
       "      <td>1</td>\n",
       "      <td>1</td>\n",
       "      <td>0</td>\n",
       "      <td>1</td>\n",
       "    </tr>\n",
       "    <tr>\n",
       "      <th>COGNITIVE</th>\n",
       "      <td>1</td>\n",
       "      <td>1</td>\n",
       "      <td>1</td>\n",
       "      <td>0</td>\n",
       "      <td>1</td>\n",
       "      <td>1</td>\n",
       "      <td>1</td>\n",
       "      <td>1</td>\n",
       "      <td>1</td>\n",
       "      <td>1</td>\n",
       "      <td>0</td>\n",
       "      <td>1</td>\n",
       "    </tr>\n",
       "    <tr>\n",
       "      <th>MOVEMENT</th>\n",
       "      <td>1</td>\n",
       "      <td>1</td>\n",
       "      <td>0</td>\n",
       "      <td>1</td>\n",
       "      <td>1</td>\n",
       "      <td>0</td>\n",
       "      <td>1</td>\n",
       "      <td>1</td>\n",
       "      <td>0.0166154</td>\n",
       "      <td>0</td>\n",
       "      <td>1</td>\n",
       "      <td>1</td>\n",
       "    </tr>\n",
       "    <tr>\n",
       "      <th>VISION</th>\n",
       "      <td>1</td>\n",
       "      <td>0</td>\n",
       "      <td>0.3015</td>\n",
       "      <td>1</td>\n",
       "      <td>1</td>\n",
       "      <td>1</td>\n",
       "      <td>0</td>\n",
       "      <td>1</td>\n",
       "      <td>1</td>\n",
       "      <td>1</td>\n",
       "      <td>1</td>\n",
       "      <td>1</td>\n",
       "    </tr>\n",
       "    <tr>\n",
       "      <th>HEARING</th>\n",
       "      <td>0</td>\n",
       "      <td>1</td>\n",
       "      <td>1</td>\n",
       "      <td>1</td>\n",
       "      <td>0</td>\n",
       "      <td>1</td>\n",
       "      <td>1</td>\n",
       "      <td>1</td>\n",
       "      <td>1</td>\n",
       "      <td>1</td>\n",
       "      <td>1</td>\n",
       "      <td>1</td>\n",
       "    </tr>\n",
       "  </tbody>\n",
       "</table>\n",
       "</div>"
      ],
      "text/plain": [
       "          HEARING  VISION EXECUTION  COGNITIVE LANGUAGE REST MANIPULATION  \\\n",
       "MEMORY          1  0.1584         1          1        1    1            1   \n",
       "REWARD          1       1         1  0.0308571        1    1            1   \n",
       "COGNITIVE       1       1         1          0        1    1            1   \n",
       "MOVEMENT        1       1         0          1        1    0            1   \n",
       "VISION          1       0    0.3015          1        1    1            0   \n",
       "HEARING         0       1         1          1        0    1            1   \n",
       "\n",
       "            EMOTION VESTIBULAR MOVEMENT REWARD MEMORY  \n",
       "MEMORY            0          1        1      1      0  \n",
       "REWARD     0.609882          1        1      0      1  \n",
       "COGNITIVE         1          1        1      0      1  \n",
       "MOVEMENT          1  0.0166154        0      1      1  \n",
       "VISION            1          1        1      1      1  \n",
       "HEARING           1          1        1      1      1  "
      ]
     },
     "execution_count": 34,
     "metadata": {},
     "output_type": "execute_result"
    }
   ],
   "source": [
    "fdrs = {k: compute_sim_fdr(sims[k], sims_null[k]) for k in domain_range[:-1]}\n",
    "fdrs[6]"
   ]
  },
  {
   "cell_type": "markdown",
   "metadata": {},
   "source": [
    "# Build the hierarchy"
   ]
  },
  {
   "cell_type": "code",
   "execution_count": 35,
   "metadata": {},
   "outputs": [],
   "source": [
    "import networkx as nx\n",
    "from style import style"
   ]
  },
  {
   "cell_type": "code",
   "execution_count": 36,
   "metadata": {},
   "outputs": [
    {
     "data": {
      "text/html": [
       "<div>\n",
       "<style scoped>\n",
       "    .dataframe tbody tr th:only-of-type {\n",
       "        vertical-align: middle;\n",
       "    }\n",
       "\n",
       "    .dataframe tbody tr th {\n",
       "        vertical-align: top;\n",
       "    }\n",
       "\n",
       "    .dataframe thead th {\n",
       "        text-align: right;\n",
       "    }\n",
       "</style>\n",
       "<table border=\"1\" class=\"dataframe\">\n",
       "  <thead>\n",
       "    <tr style=\"text-align: right;\">\n",
       "      <th></th>\n",
       "      <th>node</th>\n",
       "      <th>name</th>\n",
       "      <th>image</th>\n",
       "    </tr>\n",
       "  </thead>\n",
       "  <tbody>\n",
       "    <tr>\n",
       "      <th>0</th>\n",
       "      <td>1</td>\n",
       "      <td>MEMORY</td>\n",
       "      <td>figures/k06/MEMORY</td>\n",
       "    </tr>\n",
       "    <tr>\n",
       "      <th>1</th>\n",
       "      <td>2</td>\n",
       "      <td>REWARD</td>\n",
       "      <td>figures/k06/REWARD</td>\n",
       "    </tr>\n",
       "    <tr>\n",
       "      <th>2</th>\n",
       "      <td>3</td>\n",
       "      <td>COGNITIVE</td>\n",
       "      <td>figures/k06/COGNITIVE</td>\n",
       "    </tr>\n",
       "    <tr>\n",
       "      <th>3</th>\n",
       "      <td>4</td>\n",
       "      <td>MOVEMENT</td>\n",
       "      <td>figures/k06/MOVEMENT</td>\n",
       "    </tr>\n",
       "    <tr>\n",
       "      <th>4</th>\n",
       "      <td>5</td>\n",
       "      <td>VISION</td>\n",
       "      <td>figures/k06/VISION</td>\n",
       "    </tr>\n",
       "    <tr>\n",
       "      <th>5</th>\n",
       "      <td>6</td>\n",
       "      <td>HEARING</td>\n",
       "      <td>figures/k06/HEARING</td>\n",
       "    </tr>\n",
       "    <tr>\n",
       "      <th>6</th>\n",
       "      <td>7</td>\n",
       "      <td>HEARING</td>\n",
       "      <td>figures/k12/HEARING</td>\n",
       "    </tr>\n",
       "    <tr>\n",
       "      <th>7</th>\n",
       "      <td>8</td>\n",
       "      <td>VISION</td>\n",
       "      <td>figures/k12/VISION</td>\n",
       "    </tr>\n",
       "    <tr>\n",
       "      <th>8</th>\n",
       "      <td>9</td>\n",
       "      <td>EXECUTION</td>\n",
       "      <td>figures/k12/EXECUTION</td>\n",
       "    </tr>\n",
       "    <tr>\n",
       "      <th>9</th>\n",
       "      <td>10</td>\n",
       "      <td>COGNITIVE</td>\n",
       "      <td>figures/k12/COGNITIVE</td>\n",
       "    </tr>\n",
       "  </tbody>\n",
       "</table>\n",
       "</div>"
      ],
      "text/plain": [
       "  node       name                  image\n",
       "0    1     MEMORY     figures/k06/MEMORY\n",
       "1    2     REWARD     figures/k06/REWARD\n",
       "2    3  COGNITIVE  figures/k06/COGNITIVE\n",
       "3    4   MOVEMENT   figures/k06/MOVEMENT\n",
       "4    5     VISION     figures/k06/VISION\n",
       "5    6    HEARING    figures/k06/HEARING\n",
       "6    7    HEARING    figures/k12/HEARING\n",
       "7    8     VISION     figures/k12/VISION\n",
       "8    9  EXECUTION  figures/k12/EXECUTION\n",
       "9   10  COGNITIVE  figures/k12/COGNITIVE"
      ]
     },
     "execution_count": 36,
     "metadata": {},
     "output_type": "execute_result"
    }
   ],
   "source": [
    "id = 1\n",
    "id2node, id2k, id2image = {}, {}, {}\n",
    "node2id = {k: {} for k in domain_range}\n",
    "nodes = pd.DataFrame(columns=[\"node\", \"name\"])\n",
    "for k in domain_range:\n",
    "    names = list(OrderedDict.fromkeys(domains[k][\"lists\"][\"DOMAIN\"]))\n",
    "    for domain in names:\n",
    "        image = \"figures/k{:02d}/{}\".format(k, domain)\n",
    "        node2id[k][domain] = id\n",
    "        id2k[id] = k\n",
    "        id2node[id] = domain\n",
    "        id2image[id] = image\n",
    "        nodes = nodes.append({\"node\": id,\n",
    "                              \"name\": domain, \n",
    "                              \"image\": image}, \n",
    "                             ignore_index=True)\n",
    "        id += 1\n",
    "nodes.head(10)"
   ]
  },
  {
   "cell_type": "code",
   "execution_count": 37,
   "metadata": {},
   "outputs": [
    {
     "data": {
      "text/html": [
       "<div>\n",
       "<style scoped>\n",
       "    .dataframe tbody tr th:only-of-type {\n",
       "        vertical-align: middle;\n",
       "    }\n",
       "\n",
       "    .dataframe tbody tr th {\n",
       "        vertical-align: top;\n",
       "    }\n",
       "\n",
       "    .dataframe thead th {\n",
       "        text-align: right;\n",
       "    }\n",
       "</style>\n",
       "<table border=\"1\" class=\"dataframe\">\n",
       "  <thead>\n",
       "    <tr style=\"text-align: right;\">\n",
       "      <th></th>\n",
       "      <th>source</th>\n",
       "      <th>source_name</th>\n",
       "      <th>target</th>\n",
       "      <th>target_name</th>\n",
       "      <th>weight</th>\n",
       "    </tr>\n",
       "  </thead>\n",
       "  <tbody>\n",
       "    <tr>\n",
       "      <th>0</th>\n",
       "      <td>1</td>\n",
       "      <td>MEMORY</td>\n",
       "      <td>14</td>\n",
       "      <td>EMOTION</td>\n",
       "      <td>0.517241</td>\n",
       "    </tr>\n",
       "    <tr>\n",
       "      <th>1</th>\n",
       "      <td>1</td>\n",
       "      <td>MEMORY</td>\n",
       "      <td>18</td>\n",
       "      <td>MEMORY</td>\n",
       "      <td>0.666667</td>\n",
       "    </tr>\n",
       "    <tr>\n",
       "      <th>2</th>\n",
       "      <td>2</td>\n",
       "      <td>REWARD</td>\n",
       "      <td>17</td>\n",
       "      <td>REWARD</td>\n",
       "      <td>0.500000</td>\n",
       "    </tr>\n",
       "    <tr>\n",
       "      <th>3</th>\n",
       "      <td>3</td>\n",
       "      <td>COGNITIVE</td>\n",
       "      <td>10</td>\n",
       "      <td>COGNITIVE</td>\n",
       "      <td>0.800000</td>\n",
       "    </tr>\n",
       "    <tr>\n",
       "      <th>4</th>\n",
       "      <td>4</td>\n",
       "      <td>MOVEMENT</td>\n",
       "      <td>9</td>\n",
       "      <td>EXECUTION</td>\n",
       "      <td>0.392857</td>\n",
       "    </tr>\n",
       "    <tr>\n",
       "      <th>5</th>\n",
       "      <td>4</td>\n",
       "      <td>MOVEMENT</td>\n",
       "      <td>12</td>\n",
       "      <td>REST</td>\n",
       "      <td>0.450704</td>\n",
       "    </tr>\n",
       "    <tr>\n",
       "      <th>6</th>\n",
       "      <td>4</td>\n",
       "      <td>MOVEMENT</td>\n",
       "      <td>16</td>\n",
       "      <td>MOVEMENT</td>\n",
       "      <td>0.458333</td>\n",
       "    </tr>\n",
       "    <tr>\n",
       "      <th>7</th>\n",
       "      <td>5</td>\n",
       "      <td>VISION</td>\n",
       "      <td>8</td>\n",
       "      <td>VISION</td>\n",
       "      <td>0.465517</td>\n",
       "    </tr>\n",
       "    <tr>\n",
       "      <th>8</th>\n",
       "      <td>5</td>\n",
       "      <td>VISION</td>\n",
       "      <td>13</td>\n",
       "      <td>MANIPULATION</td>\n",
       "      <td>0.608696</td>\n",
       "    </tr>\n",
       "    <tr>\n",
       "      <th>9</th>\n",
       "      <td>6</td>\n",
       "      <td>HEARING</td>\n",
       "      <td>7</td>\n",
       "      <td>HEARING</td>\n",
       "      <td>0.576923</td>\n",
       "    </tr>\n",
       "  </tbody>\n",
       "</table>\n",
       "</div>"
      ],
      "text/plain": [
       "  source source_name target   target_name    weight\n",
       "0      1      MEMORY     14       EMOTION  0.517241\n",
       "1      1      MEMORY     18        MEMORY  0.666667\n",
       "2      2      REWARD     17        REWARD  0.500000\n",
       "3      3   COGNITIVE     10     COGNITIVE  0.800000\n",
       "4      4    MOVEMENT      9     EXECUTION  0.392857\n",
       "5      4    MOVEMENT     12          REST  0.450704\n",
       "6      4    MOVEMENT     16      MOVEMENT  0.458333\n",
       "7      5      VISION      8        VISION  0.465517\n",
       "8      5      VISION     13  MANIPULATION  0.608696\n",
       "9      6     HEARING      7       HEARING  0.576923"
      ]
     },
     "execution_count": 37,
     "metadata": {},
     "output_type": "execute_result"
    }
   ],
   "source": [
    "columns = [\"source\", \"source_name\", \"target\", \"target_name\", \"weight\"]\n",
    "edges = pd.DataFrame(columns=columns)\n",
    "for k, dw in zip(domain_range[:-1], domain_difs):\n",
    "    for source in sims[k].index:\n",
    "        for target in sims[k].columns:\n",
    "            weight = sims[k].loc[source, target]\n",
    "            fdr = fdrs[k].loc[source, target]\n",
    "            if weight == max(sims[k][target]) and weight > 0 and fdr < 0.001:\n",
    "                edges = edges.append({\"source\": node2id[k][source], \n",
    "                                      \"source_name\": source,\n",
    "                                      \"target\": node2id[k+dw][target], \n",
    "                                      \"target_name\": target,\n",
    "                                      \"weight\": weight}, \n",
    "                                     ignore_index=True)\n",
    "edges.head(10)"
   ]
  },
  {
   "cell_type": "code",
   "execution_count": 38,
   "metadata": {},
   "outputs": [],
   "source": [
    "G = nx.from_pandas_edgelist(edges, \"source\", \"target\", \"weight\", \n",
    "                            create_using=nx.DiGraph())"
   ]
  },
  {
   "cell_type": "code",
   "execution_count": 39,
   "metadata": {},
   "outputs": [],
   "source": [
    "trees = []\n",
    "for i in range(1, domain_range[0]+1):\n",
    "    g = nx.bfs_tree(G,i)\n",
    "    for id in g._node.keys():\n",
    "        g._node[id][\"name\"] = id2node[id]\n",
    "        g._node[id][\"image\"] = id2image[id]\n",
    "        g._node[id][\"color\"] = style.palettes[\"data-driven\"][i-1]\n",
    "        g._node[id][\"weight\"] = 0\n",
    "        if id in list(edges[\"target\"]):\n",
    "            g._node[id][\"weight\"] = float(edges.loc[edges[\"target\"] == id, \"weight\"].values[0])\n",
    "    trees.append((g, i))\n",
    "tree = nx.join(trees)"
   ]
  },
  {
   "cell_type": "code",
   "execution_count": 40,
   "metadata": {
    "scrolled": false
   },
   "outputs": [
    {
     "data": {
      "text/plain": [
       "{'id': 0,\n",
       " 'children': [{'name': 'MEMORY',\n",
       "   'image': 'figures/k06/MEMORY',\n",
       "   'color': '#7597D0',\n",
       "   'weight': 0,\n",
       "   'id': 1,\n",
       "   'children': [{'name': 'EMOTION',\n",
       "     'image': 'figures/k12/EMOTION',\n",
       "     'color': '#7597D0',\n",
       "     'weight': 0.5172413793103448,\n",
       "     'id': 2,\n",
       "     'children': [{'name': 'VALENCE',\n",
       "       'image': 'figures/k24/VALENCE',\n",
       "       'color': '#7597D0',\n",
       "       'weight': 1.0,\n",
       "       'id': 4}]},\n",
       "    {'name': 'MEMORY',\n",
       "     'image': 'figures/k12/MEMORY',\n",
       "     'color': '#7597D0',\n",
       "     'weight': 0.6666666666666667,\n",
       "     'id': 3,\n",
       "     'children': [{'name': 'MEMORY',\n",
       "       'image': 'figures/k24/MEMORY',\n",
       "       'color': '#7597D0',\n",
       "       'weight': 0.9811320754716981,\n",
       "       'id': 5},\n",
       "      {'name': 'EPISODIC_MEMORY',\n",
       "       'image': 'figures/k24/EPISODIC_MEMORY',\n",
       "       'color': '#7597D0',\n",
       "       'weight': 0.43137254901960786,\n",
       "       'id': 6}]}]},\n",
       "  {'name': 'REWARD',\n",
       "   'image': 'figures/k06/REWARD',\n",
       "   'color': '#B07EB6',\n",
       "   'weight': 0,\n",
       "   'id': 7,\n",
       "   'children': [{'name': 'REWARD',\n",
       "     'image': 'figures/k12/REWARD',\n",
       "     'color': '#B07EB6',\n",
       "     'weight': 0.5,\n",
       "     'id': 8,\n",
       "     'children': [{'name': 'REWARD',\n",
       "       'image': 'figures/k24/REWARD',\n",
       "       'color': '#B07EB6',\n",
       "       'weight': 0.5,\n",
       "       'id': 9},\n",
       "      {'name': 'ANTICIPATION',\n",
       "       'image': 'figures/k24/ANTICIPATION',\n",
       "       'color': '#B07EB6',\n",
       "       'weight': 0.6842105263157895,\n",
       "       'id': 10}]}]},\n",
       "  {'name': 'COGNITIVE',\n",
       "   'image': 'figures/k06/COGNITIVE',\n",
       "   'color': '#CEBE6D',\n",
       "   'weight': 0,\n",
       "   'id': 11,\n",
       "   'children': [{'name': 'COGNITIVE',\n",
       "     'image': 'figures/k12/COGNITIVE',\n",
       "     'color': '#CEBE6D',\n",
       "     'weight': 0.8,\n",
       "     'id': 12,\n",
       "     'children': [{'name': 'COGNITION',\n",
       "       'image': 'figures/k24/COGNITION',\n",
       "       'color': '#CEBE6D',\n",
       "       'weight': 0.5333333333333333,\n",
       "       'id': 13},\n",
       "      {'name': 'AROUSAL',\n",
       "       'image': 'figures/k24/AROUSAL',\n",
       "       'color': '#CEBE6D',\n",
       "       'weight': 0.4126984126984127,\n",
       "       'id': 14}]}]},\n",
       "  {'name': 'MOVEMENT',\n",
       "   'image': 'figures/k06/MOVEMENT',\n",
       "   'color': '#77B58A',\n",
       "   'weight': 0,\n",
       "   'id': 15,\n",
       "   'children': [{'name': 'EXECUTION',\n",
       "     'image': 'figures/k12/EXECUTION',\n",
       "     'color': '#77B58A',\n",
       "     'weight': 0.3928571428571429,\n",
       "     'id': 16,\n",
       "     'children': [{'name': 'EXECUTION',\n",
       "       'image': 'figures/k24/EXECUTION',\n",
       "       'color': '#77B58A',\n",
       "       'weight': 0.8421052631578947,\n",
       "       'id': 19},\n",
       "      {'name': 'MOTOR_CONTROL',\n",
       "       'image': 'figures/k24/MOTOR_CONTROL',\n",
       "       'color': '#77B58A',\n",
       "       'weight': 0.4,\n",
       "       'id': 20}]},\n",
       "    {'name': 'REST',\n",
       "     'image': 'figures/k12/REST',\n",
       "     'color': '#77B58A',\n",
       "     'weight': 0.45070422535211263,\n",
       "     'id': 17,\n",
       "     'children': [{'name': 'MOVEMENT',\n",
       "       'image': 'figures/k24/MOVEMENT',\n",
       "       'color': '#77B58A',\n",
       "       'weight': 0.3571428571428571,\n",
       "       'id': 21},\n",
       "      {'name': 'ARM',\n",
       "       'image': 'figures/k24/ARM',\n",
       "       'color': '#77B58A',\n",
       "       'weight': 0.46808510638297873,\n",
       "       'id': 22},\n",
       "      {'name': 'JUDGING',\n",
       "       'image': 'figures/k24/JUDGING',\n",
       "       'color': '#77B58A',\n",
       "       'weight': 0.3278688524590164,\n",
       "       'id': 23},\n",
       "      {'name': 'VESTIBULAR',\n",
       "       'image': 'figures/k24/VESTIBULAR',\n",
       "       'color': '#77B58A',\n",
       "       'weight': 0.2264150943396226,\n",
       "       'id': 24}]},\n",
       "    {'name': 'MOVEMENT',\n",
       "     'image': 'figures/k12/MOVEMENT',\n",
       "     'color': '#77B58A',\n",
       "     'weight': 0.45833333333333337,\n",
       "     'id': 18,\n",
       "     'children': [{'name': 'COVERT',\n",
       "       'image': 'figures/k24/COVERT',\n",
       "       'color': '#77B58A',\n",
       "       'weight': 0.5714285714285714,\n",
       "       'id': 25},\n",
       "      {'name': 'MOTOR_LEARNING',\n",
       "       'image': 'figures/k24/MOTOR_LEARNING',\n",
       "       'color': '#77B58A',\n",
       "       'weight': 0.3870967741935484,\n",
       "       'id': 26}]}]},\n",
       "  {'name': 'VISION',\n",
       "   'image': 'figures/k06/VISION',\n",
       "   'color': '#CE7D69',\n",
       "   'weight': 0,\n",
       "   'id': 27,\n",
       "   'children': [{'name': 'VISION',\n",
       "     'image': 'figures/k12/VISION',\n",
       "     'color': '#CE7D69',\n",
       "     'weight': 0.4655172413793104,\n",
       "     'id': 28,\n",
       "     'children': [{'name': 'VISION',\n",
       "       'image': 'figures/k24/VISION',\n",
       "       'color': '#CE7D69',\n",
       "       'weight': 0.4307692307692308,\n",
       "       'id': 30},\n",
       "      {'name': 'MEANING',\n",
       "       'image': 'figures/k24/MEANING',\n",
       "       'color': '#CE7D69',\n",
       "       'weight': 0.8192771084337349,\n",
       "       'id': 31}]},\n",
       "    {'name': 'MANIPULATION',\n",
       "     'image': 'figures/k12/MANIPULATION',\n",
       "     'color': '#CE7D69',\n",
       "     'weight': 0.6086956521739131,\n",
       "     'id': 29,\n",
       "     'children': [{'name': 'MANIPULATION',\n",
       "       'image': 'figures/k24/MANIPULATION',\n",
       "       'color': '#CE7D69',\n",
       "       'weight': 0.8493150684931507,\n",
       "       'id': 32}]}]},\n",
       "  {'name': 'HEARING',\n",
       "   'image': 'figures/k06/HEARING',\n",
       "   'color': '#7D74A3',\n",
       "   'weight': 0,\n",
       "   'id': 33,\n",
       "   'children': [{'name': 'HEARING',\n",
       "     'image': 'figures/k12/HEARING',\n",
       "     'color': '#7D74A3',\n",
       "     'weight': 0.5769230769230769,\n",
       "     'id': 34,\n",
       "     'children': [{'name': 'HEARING',\n",
       "       'image': 'figures/k24/HEARING',\n",
       "       'color': '#7D74A3',\n",
       "       'weight': 0.9818181818181818,\n",
       "       'id': 36}]},\n",
       "    {'name': 'LANGUAGE',\n",
       "     'image': 'figures/k12/LANGUAGE',\n",
       "     'color': '#7D74A3',\n",
       "     'weight': 0.48275862068965514,\n",
       "     'id': 35,\n",
       "     'children': [{'name': 'LANGUAGE',\n",
       "       'image': 'figures/k24/LANGUAGE',\n",
       "       'color': '#7D74A3',\n",
       "       'weight': 0.6923076923076923,\n",
       "       'id': 37},\n",
       "      {'name': 'EMOTION',\n",
       "       'image': 'figures/k24/EMOTION',\n",
       "       'color': '#7D74A3',\n",
       "       'weight': 0.360655737704918,\n",
       "       'id': 38}]}]}]}"
      ]
     },
     "execution_count": 40,
     "metadata": {},
     "output_type": "execute_result"
    }
   ],
   "source": [
    "hierarchy = [nx.readwrite.json_graph.tree_data(tree, root=0)]\n",
    "hierarchy[0]"
   ]
  },
  {
   "cell_type": "code",
   "execution_count": 41,
   "metadata": {},
   "outputs": [],
   "source": [
    "text = str(hierarchy).replace(\"'\", '\"')\n",
    "with open(\"hierarchy.json\", \"w+\") as outfile:\n",
    "    outfile.write(text)"
   ]
  },
  {
   "cell_type": "markdown",
   "metadata": {},
   "source": [
    "# Plot node images"
   ]
  },
  {
   "cell_type": "code",
   "execution_count": 42,
   "metadata": {},
   "outputs": [
    {
     "name": "stderr",
     "output_type": "stream",
     "text": [
      "/anaconda3/envs/ontol/lib/python3.6/site-packages/sklearn/externals/joblib/__init__.py:15: DeprecationWarning: sklearn.externals.joblib is deprecated in 0.21 and will be removed in 0.23. Please import this functionality directly from joblib, which can be installed with: pip install joblib. If this warning is raised when loading pickled models, you may need to re-serialize those models with scikit-learn 0.21+.\n",
      "  warnings.warn(msg, category=DeprecationWarning)\n"
     ]
    }
   ],
   "source": [
    "import os\n",
    "from nilearn import image, plotting\n",
    "%matplotlib inline"
   ]
  },
  {
   "cell_type": "markdown",
   "metadata": {},
   "source": [
    "## Brain slices"
   ]
  },
  {
   "cell_type": "code",
   "execution_count": 43,
   "metadata": {},
   "outputs": [],
   "source": [
    "atlas = utilities.load_atlas(cerebellum=\"seg\")"
   ]
  },
  {
   "cell_type": "code",
   "execution_count": 44,
   "metadata": {},
   "outputs": [],
   "source": [
    "purples = style.make_cmap([(1,1,1), (0.365,0,0.878)])\n",
    "magentas = style.make_cmap([(1,1,1), (0.620,0,0.686)])\n",
    "yellows = style.make_cmap([(1,1,1), (0.937,0.749,0)])\n",
    "cmaps = [\"Blues\", magentas, yellows, \"Greens\", \"Reds\", purples]"
   ]
  },
  {
   "cell_type": "code",
   "execution_count": 45,
   "metadata": {},
   "outputs": [],
   "source": [
    "node2color_id = {k: {} for k in domain_range}\n",
    "for i in range(1, domain_range[0]+1):\n",
    "    g = nx.bfs_tree(G,i)\n",
    "    for id in g._node.keys():\n",
    "        k = id2k[id]\n",
    "        node = id2node[id]\n",
    "        node2color_id[k][node] = i-1"
   ]
  },
  {
   "cell_type": "code",
   "execution_count": 46,
   "metadata": {},
   "outputs": [],
   "source": [
    "def map_domain(data, domain, atlas, path, cmap=cmaps[0], suffix=\"\", plane=\"z\", \n",
    "               cbar=False, annotate=False, vmin=None, vmax=None, print_fig=True):\n",
    "\n",
    "    stat_map = image.copy_img(atlas).get_data()\n",
    "    for i, value in enumerate(data):\n",
    "        stat_map[stat_map == i+1] = value\n",
    "    stat_map = image.new_img_like(atlas, stat_map)\n",
    "    display = plotting.plot_stat_map(stat_map,\n",
    "                                     cut_coords=1,\n",
    "                                     display_mode=plane, \n",
    "                                     symmetric_cbar=False, colorbar=cbar,\n",
    "                                     cmap=cmap, threshold=vmin, \n",
    "                                     vmax=vmax, alpha=0.5,\n",
    "                                     annotate=annotate, draw_cross=False)\n",
    "    if print_fig:\n",
    "        plotting.show()\n",
    "    file_name = \"{}/{}{}.png\".format(path, domain, suffix)\n",
    "    display.savefig(file_name, dpi=250)\n",
    "    utilities.transparent_background(file_name)\n",
    "    display.close()"
   ]
  },
  {
   "cell_type": "code",
   "execution_count": 47,
   "metadata": {
    "scrolled": false
   },
   "outputs": [
    {
     "name": "stderr",
     "output_type": "stream",
     "text": [
      "/anaconda3/envs/ontol/lib/python3.6/site-packages/nilearn/plotting/displays.py:1582: MatplotlibDeprecationWarning: Adding an axes using the same arguments as a previous axes currently reuses the earlier instance.  In a future version, a new instance will always be created and returned.  Meanwhile, this warning can be suppressed, and the future behavior ensured, by passing a unique label to each axes instance.\n",
      "  fraction * (x1 - x0), y1 - y0])\n"
     ]
    }
   ],
   "source": [
    "for k in domain_range:\n",
    "    path = \"figures/k{:02}\".format(k)\n",
    "    if not os.path.exists(path):\n",
    "        os.makedirs(path)\n",
    "    circuit = domains[k][\"circuit\"]\n",
    "    names = list(OrderedDict.fromkeys(circuit[\"DOMAIN\"]))\n",
    "    circuit_mat = pd.DataFrame(0.0, index=act_bin.columns, columns=names)\n",
    "    for i, name in enumerate(names):\n",
    "        if name in node2color_id[k].keys():\n",
    "            structures = circuit.loc[circuit[\"DOMAIN\"] == name, \"STRUCTURE\"]\n",
    "            for structure in structures:\n",
    "                circuit_mat.loc[structure, name] = 1.0\n",
    "            map_domain(circuit_mat[name], name, atlas, path, \n",
    "                       cmap=cmaps[node2color_id[k][name]], suffix=\"_z\", plane=\"z\", cbar=False, \n",
    "                       vmin=0.0, vmax=2.0, print_fig=False, annotate=False)"
   ]
  },
  {
   "cell_type": "markdown",
   "metadata": {},
   "source": [
    "## Word clouds"
   ]
  },
  {
   "cell_type": "code",
   "execution_count": 48,
   "metadata": {},
   "outputs": [],
   "source": [
    "from wordcloud import WordCloud\n",
    "import matplotlib.pyplot as plt"
   ]
  },
  {
   "cell_type": "code",
   "execution_count": 49,
   "metadata": {},
   "outputs": [],
   "source": [
    "def plot_wordclouds(k, domains, lists, dtm, colors, path=\"\", suffix=\"\", font=style.font):\n",
    "\n",
    "    for i, dom in enumerate(domains):\n",
    "        def color_func(word, font_size, position, orientation, \n",
    "                       random_state=None, idx=0, **kwargs):\n",
    "            return colors[i]\n",
    "\n",
    "        tkns = lists.loc[lists[\"DOMAIN\"] == dom, \"TOKEN\"]\n",
    "        freq = dtm[tkns].sum().values\n",
    "        tkns = [t.replace(\"_\", \" \") for t in tkns]\n",
    "        dic = {tkn: f for tkn, f in zip(tkns, freq)}\n",
    "\n",
    "        cloud = WordCloud(background_color=\"rgba(255, 255, 255, 0)\", mode=\"RGB\", \n",
    "                          max_font_size=100, prefer_horizontal=1, scale=20, margin=3,\n",
    "                          width=600, height=300, font_path=font, \n",
    "                          random_state=42).generate_from_frequencies(dic)\n",
    "\n",
    "        fig = plt.figure(1, figsize=(2,10))\n",
    "        plt.axis(\"off\")\n",
    "        plt.imshow(cloud.recolor(color_func=color_func, random_state=42))\n",
    "        file_name = \"{}figures/k{:02d}/{}_words{}.png\".format(path, k, dom, suffix)\n",
    "        plt.savefig(file_name, dpi=800, bbox_inches=\"tight\")\n",
    "        utilities.transparent_background(file_name)\n",
    "        plt.close()"
   ]
  },
  {
   "cell_type": "code",
   "execution_count": 52,
   "metadata": {},
   "outputs": [],
   "source": [
    "for k in domain_range:\n",
    "    nodes = node2color_id[k].keys()\n",
    "    colors = [style.palettes[\"data-driven\"][node2color_id[k][node]] for node in nodes]\n",
    "    plot_wordclouds(k, nodes, domains[k][\"lists\"], dtm_bin, colors, font=\"../style/Avenir.ttf\", suffix=\"_viewer\")"
   ]
  },
  {
   "cell_type": "code",
   "execution_count": null,
   "metadata": {},
   "outputs": [],
   "source": []
  }
 ],
 "metadata": {
  "kernelspec": {
   "display_name": "Python [conda env:ontol] *",
   "language": "python",
   "name": "conda-env-ontol-py"
  },
  "language_info": {
   "codemirror_mode": {
    "name": "ipython",
    "version": 3
   },
   "file_extension": ".py",
   "mimetype": "text/x-python",
   "name": "python",
   "nbconvert_exporter": "python",
   "pygments_lexer": "ipython3",
   "version": "3.6.8"
  }
 },
 "nbformat": 4,
 "nbformat_minor": 2
}
